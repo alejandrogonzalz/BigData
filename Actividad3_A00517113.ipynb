{
 "cells": [
  {
   "cell_type": "markdown",
   "metadata": {
    "id": "FsZKKvxwYF3o"
   },
   "source": "# Actividad 3 | Base de Datos de Big Data"
  },
  {
   "cell_type": "markdown",
   "metadata": {
    "id": "UjmB97B-X-hU"
   },
   "source": "## Informacion del Equipo o Persona"
  },
  {
   "cell_type": "markdown",
   "metadata": {
    "id": "fYJBth0rYC0V"
   },
   "source": "Alejandro González Almazán - A00517113"
  },
  {
   "cell_type": "markdown",
   "metadata": {
    "id": "B0n2G2l_Yaze"
   },
   "source": [
    "--------------------------------------------------------------------------------"
   ]
  },
  {
   "metadata": {},
   "cell_type": "markdown",
   "source": [
    "## Introducción Teórica: Aprendizaje Supervisado, No Supervisado y Algoritmos en PySpark\n",
    "### Aprendizaje Supervisado [1]\n",
    "El aprendizaje supervisado es una subcategoría del aprendizaje automático y la inteligencia artificial que se caracteriza por utilizar conjuntos de datos etiquetados para entrenar algoritmos que puedan clasificar datos o predecir resultados con precisión. En este enfoque, el modelo ajusta sus ponderaciones hasta adaptarse adecuadamente a los datos de entrada, como parte del proceso de validación cruzada.\n",
    "\n",
    "Los modelos de aprendizaje supervisado se construyen utilizando un conjunto de entrenamiento que incluye tanto las entradas como las salidas correctas, lo que permite que el modelo aprenda con el tiempo. El algoritmo mide su precisión a través de la función de pérdida, ajustándose hasta minimizar el error\n",
    "#### Algoritmos representativos de aprendizaje supervisado:\n",
    "1. *Regresión Logística:* Utilizada cuando la variable dependiente es categórica (resultados binarios como \"sí/no\"). Se emplea principalmente para resolver problemas de clasificación binaria.\n",
    "2. *Regresión Lineal:* Identifica la relación entre variables dependientes e independientes, comúnmente usada para proyecciones como ingresos por ventas.\n",
    "3. *Árboles de Decisión:* Algoritmo que aplica una estructura de árbol con reglas de decisión secuenciales sobre características de los datos\n",
    "4. *Redes Neuronales:* Principalmente aprovechadas para algoritmos de aprendizaje profundo, procesan datos de entrenamiento imitando la interconectividad del cerebro humano\n",
    "\n",
    "### Aprendizaje no supervisado [2]\n",
    "El aprendizaje no supervisado es un tipo de aprendizaje automático que aprende de los datos sin supervisión humana. A diferencia del aprendizaje supervisado, los modelos reciben datos sin etiquetar y pueden descubrir patrones y estadísticas sin ninguna orientación explícita\n",
    "\n",
    "Este enfoque es esencial en áreas como la biomedicina, ciberseguridad y minería de datos, donde la capacidad de descubrir patrones ocultos en grandes volúmenes de datos está transformando industrias enteras\n",
    "\n",
    "#### Algoritmos representativos de aprendizaje supervisado: [3]\n",
    "1. *Análisis de Componentes Principales (PCA):* Técnica de reducción de dimensionalidad que transforma datos a un espacio de menor dimensión preservando la mayor variabilidad posible.\n",
    "2. *K-Means:* Algoritmo de clustering que divide datos en K grupos basados en su similitud. Versiones mejoradas como K-Means++ optimizan el proceso de inicialización.\n",
    "3. *Modelos de Mezcla Gaussiana (GMM):* Más flexibles que K-Means, permiten que los datos se agrupen en formas más complejas\n",
    "\n",
    "\n",
    "### Referencias\n",
    "1. IBM. (s.f.). ¿Qué es el aprendizaje supervisado?. IBM. https://www.ibm.com/mx-es/topics/supervised-learning\n",
    "En este caso, se utiliza \"(s.f.)\" para indicar que no se especifica una fecha de publicación en la fuente consultada.\n",
    "2. Google Cloud. (s.f.). ¿Qué es el aprendizaje no supervisado?. https://cloud.google.com/discover/what-is-unsupervised-learning?hl=es-419\n",
    "3. Redacción IT Masters Mag. (2024, 10 de septiembre). Aprendizaje no supervisado: Guía completa. IT Masters Mag. https://www.itmastersmag.com/transformacion-digital/aprendizaje-no-supervisado-que-es-y-como-funciona/\n"
   ]
  },
  {
   "cell_type": "markdown",
   "metadata": {
    "id": "Ar8PqEFjYfVA"
   },
   "source": [
    "# Impotacion de Librerias"
   ]
  },
  {
   "cell_type": "code",
   "metadata": {
    "id": "rFrmYAiPYdd9",
    "ExecuteTime": {
     "end_time": "2025-05-26T03:35:25.690479Z",
     "start_time": "2025-05-26T03:35:25.677856Z"
    }
   },
   "source": [
    "# PySpark\n",
    "import findspark\n",
    "findspark.init()\n",
    "findspark.find()\n",
    "from pyspark.sql import SparkSession\n",
    "\"\"\"\n",
    "# omitir para ejecutar de forma local\n",
    "import os\n",
    "os.environ[\"JAVA_HOME\"] = \"/usr/lib/jvm/java-8-openjdk-amd64\"\n",
    "os.environ[\"SPARK_HOME\"] = \"/content/spark-3.1.1-bin-hadoop3.2\"\n",
    "\"\"\"\n",
    "#Librerias de codigo\n",
    "import kagglehub\n"
   ],
   "outputs": [],
   "execution_count": 3
  },
  {
   "cell_type": "markdown",
   "metadata": {
    "id": "WXLHPUosZE5_"
   },
   "source": [
    "### Inicializar entorno PySpark"
   ]
  },
  {
   "cell_type": "code",
   "metadata": {
    "colab": {
     "base_uri": "https://localhost:8080/",
     "height": 221
    },
    "id": "GCAP0o7kcogx",
    "outputId": "1ed9ae58-97d4-422d-b102-c39be4f404db",
    "ExecuteTime": {
     "end_time": "2025-05-26T03:35:25.765396Z",
     "start_time": "2025-05-26T03:35:25.730968Z"
    }
   },
   "source": [
    "spark = SparkSession.builder \\\n",
    "    .master(\"local[*]\") \\\n",
    "    .appName(\"Analisis_Steam\") \\\n",
    "    .getOrCreate()\n",
    "\n",
    "spark.conf.set(\"spark.sql.repl.eagerEval.enabled\", True)\n",
    "\n",
    "spark"
   ],
   "outputs": [
    {
     "data": {
      "text/plain": [
       "<pyspark.sql.session.SparkSession at 0x2701afed160>"
      ],
      "text/html": [
       "\n",
       "            <div>\n",
       "                <p><b>SparkSession - in-memory</b></p>\n",
       "                \n",
       "        <div>\n",
       "            <p><b>SparkContext</b></p>\n",
       "\n",
       "            <p><a href=\"http://Alex:4042\">Spark UI</a></p>\n",
       "\n",
       "            <dl>\n",
       "              <dt>Version</dt>\n",
       "                <dd><code>v3.5.5</code></dd>\n",
       "              <dt>Master</dt>\n",
       "                <dd><code>local[*]</code></dd>\n",
       "              <dt>AppName</dt>\n",
       "                <dd><code>Analisis_Steam</code></dd>\n",
       "            </dl>\n",
       "        </div>\n",
       "        \n",
       "            </div>\n",
       "        "
      ]
     },
     "execution_count": 4,
     "metadata": {},
     "output_type": "execute_result"
    }
   ],
   "execution_count": 4
  },
  {
   "cell_type": "markdown",
   "metadata": {
    "id": "zm2nuBbCZct4"
   },
   "source": [
    "### Lectura de datos"
   ]
  },
  {
   "cell_type": "code",
   "metadata": {
    "id": "nTiLMXpKZ3z9",
    "colab": {
     "base_uri": "https://localhost:8080/"
    },
    "outputId": "750a6611-b09f-4fb9-91a3-edf92c244175",
    "ExecuteTime": {
     "end_time": "2025-05-26T03:35:26.475555Z",
     "start_time": "2025-05-26T03:35:25.913714Z"
    }
   },
   "source": [
    "file_path = kagglehub.dataset_download(\"najzeko/steam-reviews-2021\")"
   ],
   "outputs": [
    {
     "name": "stdout",
     "output_type": "stream",
     "text": [
      "Warning: Looks like you're using an outdated `kagglehub` version, please consider updating (latest version: 0.3.12)\n"
     ]
    }
   ],
   "execution_count": 5
  },
  {
   "metadata": {
    "ExecuteTime": {
     "end_time": "2025-05-26T03:35:26.552871Z",
     "start_time": "2025-05-26T03:35:26.519359Z"
    }
   },
   "cell_type": "code",
   "source": "print(file_path)",
   "outputs": [
    {
     "name": "stdout",
     "output_type": "stream",
     "text": [
      "C:\\Users\\alexa\\.cache\\kagglehub\\datasets\\najzeko\\steam-reviews-2021\\versions\\1\n"
     ]
    }
   ],
   "execution_count": 6
  },
  {
   "cell_type": "code",
   "metadata": {
    "id": "xlaqOdpzrRV5",
    "ExecuteTime": {
     "end_time": "2025-05-26T03:35:26.614119Z",
     "start_time": "2025-05-26T03:35:26.598077Z"
    }
   },
   "source": "print(f\"{file_path}/steam_reviews.csv\")",
   "outputs": [
    {
     "name": "stdout",
     "output_type": "stream",
     "text": [
      "C:\\Users\\alexa\\.cache\\kagglehub\\datasets\\najzeko\\steam-reviews-2021\\versions\\1/steam_reviews.csv\n"
     ]
    }
   ],
   "execution_count": 7
  },
  {
   "cell_type": "code",
   "metadata": {
    "id": "BGv7gw7jZdgb",
    "ExecuteTime": {
     "end_time": "2025-05-26T03:37:02.055324Z",
     "start_time": "2025-05-26T03:35:26.645490Z"
    }
   },
   "source": [
    "df = spark.read.option(\"header\", \"true\") \\\n",
    "    .option(\"inferSchema\", \"true\") \\\n",
    "    .option(\"multiLine\", \"true\") \\\n",
    "    .option(\"sep\", \",\").option(\"escape\", \"\\\"\").csv(f\"{file_path}/steam_reviews.csv\")"
   ],
   "outputs": [],
   "execution_count": 8
  },
  {
   "cell_type": "markdown",
   "metadata": {
    "id": "F36rcs_erRWC"
   },
   "source": [
    "### Muestra M: Selección de Particiones\n",
    "Se eligieron 3 particiones que cubren:\n",
    "1. *Inglés (pagado y recomendado)*: Caso ideal de éxito comercial.\n",
    "2. *Español (gratuito y no recomendado)*: Caso de baja satisfacción.\n",
    "3. *Chino (pagado y no recomendado)*: Caso de posible problema cultural/calidad.\n",
    "\n",
    "*Muestreo*: 30% de cada una para balancear diversidad y rendimiento."
   ]
  },
  {
   "metadata": {
    "ExecuteTime": {
     "end_time": "2025-05-26T04:00:45.741791Z",
     "start_time": "2025-05-26T04:00:32.187880Z"
    }
   },
   "cell_type": "code",
   "source": [
    "from pyspark.sql import functions as F\n",
    "from itertools import product\n",
    "\n",
    "# Reemplazar \".\" por \"_\" en todas las columnas\n",
    "new_columns = [col_name.replace(\".\", \"_\") for col_name in df.columns]\n",
    "df = df.toDF(*new_columns)\n",
    "\n",
    "# 1. Filtrar los 5 idiomas principales\n",
    "top_languages = ['english', 'schinese', 'russian', 'brazilian', 'spanish']\n",
    "df_top_lang = df.filter(F.col(\"language\").isin(top_languages))\n",
    "\n",
    "# 2. Crear subconjuntos particionados (sin mostrar estadísticas)\n",
    "df_subsets = {}\n",
    "for lang, received, recommended in product(top_languages, [True, False], [True, False]):\n",
    "    key = f\"lang={lang}_free={received}_rec={recommended}\"\n",
    "    df_subsets[key] = df_top_lang.filter(\n",
    "        (F.col(\"language\") == lang) &\n",
    "        (F.col(\"received_for_free\") == received) &\n",
    "        (F.col(\"recommended\") == recommended)\n",
    "    )\n",
    "\n",
    "df_subsets"
   ],
   "outputs": [
    {
     "data": {
      "text/plain": [
       "{'lang=english_free=True_rec=True': +----+------+--------------------+---------+--------+--------------------+-----------------+-----------------+-----------+-------------+-----------+-------------------+-------------+--------------+-----------------+---------------------------+-----------------+----------------------+------------------+-----------------------+------------------------------+-------------------------+------------------+\n",
       " | _c0|app_id|            app_name|review_id|language|              review|timestamp_created|timestamp_updated|recommended|votes_helpful|votes_funny|weighted_vote_score|comment_count|steam_purchase|received_for_free|written_during_early_access|   author_steamid|author_num_games_owned|author_num_reviews|author_playtime_forever|author_playtime_last_two_weeks|author_playtime_at_review|author_last_played|\n",
       " +----+------+--------------------+---------+--------+--------------------+-----------------+-----------------+-----------+-------------+-----------+-------------------+-------------+--------------+-----------------+---------------------------+-----------------+----------------------+------------------+-----------------------+------------------------------+-------------------------+------------------+\n",
       " |1546|292030|The Witcher 3: Wi...| 84880305| english|            The best|       1610926369|       1610926369|       true|            0|          0|                0.0|            0|         false|             true|                      false|76561198036134455|                    25|                 1|                10948.0|                        3836.0|                  10008.0|     1.611358126E9|\n",
       " |1631|292030|The Witcher 3: Wi...| 84864624| english|Probably the best...|       1610905970|       1610905970|       true|            0|          0|                0.0|            0|         false|             true|                      false|76561199056547252|                     4|                 1|                    9.0|                           0.0|                      9.0|     1.609851267E9|\n",
       " |1913|292030|The Witcher 3: Wi...| 84817911| english|⡴⠑⡄⠀⠀⠀⠀⠀⠀⠀ ⣀⣀⣤⣤⣤⣀...|       1610839304|       1610839304|       true|            1|          0|  0.523809552192688|            0|          true|             true|                      false|76561198182503569|                    42|                 6|                 5850.0|                           1.0|                   5849.0|      1.61085093E9|\n",
       " |2134|292030|The Witcher 3: Wi...| 84781532| english|Best GAME NiggyBy...|       1610795004|       1610795004|       true|            0|          0|                0.0|            0|          true|             true|                      false|76561198308802021|                    59|                30|                 2965.0|                        2965.0|                    215.0|     1.611342579E9|\n",
       " |2528|292030|The Witcher 3: Wi...| 84713752| english|The Game that has...|       1610695637|       1610695637|       true|            0|          0|                0.0|            0|          true|             true|                      false|76561199097469258|                    36|                10|                  299.0|                         206.0|                    271.0|     1.610789817E9|\n",
       " |2686|292030|The Witcher 3: Wi...| 84682390| english|   Best game EVER!!!|       1610645769|       1610645769|       true|            0|          0|                0.0|            0|         false|             true|                      false|76561198875391888|                     6|                 2|                 4296.0|                        2007.0|                   3328.0|     1.611357284E9|\n",
       " |2740|292030|The Witcher 3: Wi...| 84674734| english|          good game!|       1610636305|       1610636305|       true|            0|          0|                0.0|            0|          true|             true|                      false|76561198384520989|                     9|                 1|                 2357.0|                        2353.0|                    954.0|     1.611331327E9|\n",
       " |3042|292030|The Witcher 3: Wi...| 84623155| english|                  <3|       1610556970|       1610556970|       true|            0|          0|                0.0|            0|          true|             true|                      false|76561198394305680|                    16|                 1|                 7702.0|                        2514.0|                   6039.0|     1.611363451E9|\n",
       " |3730|292030|The Witcher 3: Wi...| 84509630| english|   best of the bests|       1610393326|       1610393326|       true|            0|          0|                0.0|            0|          true|             true|                      false|76561198815212743|                    18|                 7|                 8347.0|                        4060.0|                   6218.0|     1.611152987E9|\n",
       " |3814|292030|The Witcher 3: Wi...| 84496492| english|                   .|       1610378070|       1610378070|       true|            0|          0|                0.0|            0|          true|             true|                      false|76561199033796474|                    54|                 3|                 8452.0|                        2328.0|                   6858.0|     1.611224222E9|\n",
       " |4006|292030|The Witcher 3: Wi...| 84470697| english|10/10 if you want...|       1610337234|       1610337234|       true|            0|          0|                0.0|            0|          true|             true|                      false|76561198114335744|                    26|                 1|                 3953.0|                        1997.0|                   2651.0|     1.611113081E9|\n",
       " |4198|292030|The Witcher 3: Wi...| 84437658| english|Wild Hunt invests...|       1610294927|       1610294927|       true|            0|          0|                0.0|            0|          true|             true|                      false|76561198252576582|                    57|                 8|                  118.0|                           0.0|                    118.0|     1.583767909E9|\n",
       " |4574|292030|The Witcher 3: Wi...| 84384376| english|            so fun\\n|       1610225468|       1610225468|       true|            0|          0|                0.0|            0|          true|             true|                      false|76561198895439315|                     5|                 1|                 6174.0|                        5534.0|                   1349.0|     1.611265084E9|\n",
       " |4594|292030|The Witcher 3: Wi...| 84380695| english|          great game|       1610221637|       1610221637|       true|            0|          0|                0.0|            0|          true|             true|                      false|76561198346089325|                    23|                 1|                 1426.0|                          49.0|                   1376.0|     1.611327216E9|\n",
       " |4717|292030|The Witcher 3: Wi...| 84361625| english|Could still be re...|       1610202101|       1610202101|       true|            0|          0|                0.0|            0|         false|             true|                      false|76561198324194491|                    48|                 5|                 1759.0|                           0.0|                   1759.0|     1.609182209E9|\n",
       " |4753|292030|The Witcher 3: Wi...| 84357317| english|  Really great game.|       1610197267|       1610197267|       true|            0|          0|                0.0|            0|          true|             true|                      false|76561198801135968|                    11|                 1|                 2716.0|                           0.0|                   2716.0|     1.610037549E9|\n",
       " |5125|292030|The Witcher 3: Wi...| 84302840| english|Good Story game.....|       1610127184|       1610127184|       true|            1|          0|                0.0|            0|          true|             true|                      false|76561199073126064|                     8|                 1|                 4539.0|                         207.0|                   4051.0|     1.611221907E9|\n",
       " |5477|292030|The Witcher 3: Wi...| 84251768| english|Fantastic RPG game\\n|       1610059037|       1610059037|       true|            0|          0|                0.0|            0|          true|             true|                      false|76561199000227118|                    31|                 5|                 3437.0|                        2603.0|                    678.0|     1.611353632E9|\n",
       " |5595|292030|The Witcher 3: Wi...| 84230773| english|          Still good|       1610037714|       1610037714|       true|            0|          0|                0.0|            0|          true|             true|                      false|76561199032830086|                     6|                 1|                 1359.0|                         163.0|                   1173.0|     1.610896562E9|\n",
       " |6384|292030|The Witcher 3: Wi...| 84125040| english|                 YES|       1609909550|       1609909550|       true|            0|          0|                0.0|            0|          true|             true|                      false|76561199019446515|                    70|                 4|                 3099.0|                         430.0|                   2456.0|     1.610331138E9|\n",
       " +----+------+--------------------+---------+--------+--------------------+-----------------+-----------------+-----------+-------------+-----------+-------------------+-------------+--------------+-----------------+---------------------------+-----------------+----------------------+------------------+-----------------------+------------------------------+-------------------------+------------------+\n",
       " only showing top 20 rows,\n",
       " 'lang=english_free=True_rec=False': +------+------+--------------------+---------+--------+--------------------+-----------------+-----------------+-----------+-------------+-----------+-------------------+-------------+--------------+-----------------+---------------------------+-----------------+----------------------+------------------+-----------------------+------------------------------+-------------------------+------------------+\n",
       " |   _c0|app_id|            app_name|review_id|language|              review|timestamp_created|timestamp_updated|recommended|votes_helpful|votes_funny|weighted_vote_score|comment_count|steam_purchase|received_for_free|written_during_early_access|   author_steamid|author_num_games_owned|author_num_reviews|author_playtime_forever|author_playtime_last_two_weeks|author_playtime_at_review|author_last_played|\n",
       " +------+------+--------------------+---------+--------+--------------------+-----------------+-----------------+-----------+-------------+-----------+-------------------+-------------+--------------+-----------------+---------------------------+-----------------+----------------------+------------------+-----------------------+------------------------------+-------------------------+------------------+\n",
       " | 22642|292030|The Witcher 3: Wi...| 81768879| english|This game is one ...|       1607326803|       1607326803|      false|            0|          2|0.33834585547447205|            0|          true|             true|                      false|76561199038740275|                    20|                 3|                  344.0|                           0.0|                    344.0|     1.607326661E9|\n",
       " | 69735|292030|The Witcher 3: Wi...| 74243654| english|controls are supe...|       1597330025|       1597556251|      false|            0|          0| 0.4756171107292175|            0|          true|             true|                      false|76561198072776864|                    65|                16|                  538.0|                           0.0|                    227.0|     1.598993132E9|\n",
       " | 71151|292030|The Witcher 3: Wi...| 73954800| english|i know its good g...|       1596861780|       1596861780|      false|            4|          1| 0.4904538691043853|            2|          true|             true|                      false|76561199027854583|                    77|                15|                 7048.0|                           0.0|                   5717.0|     1.606052596E9|\n",
       " | 71338|292030|The Witcher 3: Wi...| 73905184| english|Cant understand t...|       1596792078|       1596792216|      false|            2|          1|0.42255452275276173|            0|          true|             true|                      false|76561198316453603|                    43|                19|                  218.0|                           0.0|                    218.0|     1.577608506E9|\n",
       " | 76678|292030|The Witcher 3: Wi...| 72977006| english|not really alot t...|       1595207159|       1595207159|      false|            2|          4| 0.4105246961116791|            0|          true|             true|                      false|76561197983286265|                    81|                 3|                82479.0|                           0.0|                  69023.0|     1.605468531E9|\n",
       " | 78053|292030|The Witcher 3: Wi...| 72773867| english|why I can't play ...|       1594885846|       1594885846|      false|            0|          1| 0.4561403691768646|            0|          true|             true|                      false|76561199010982380|                     6|                 1|                 6264.0|                           0.0|                   6157.0|     1.608974105E9|\n",
       " |104114|292030|The Witcher 3: Wi...| 69454000| english|If you look up th...|       1589942865|       1589942865|      false|            5|          7|0.36639279127120966|            0|          true|             true|                      false|76561198025787592|                   121|                 5|                 1354.0|                           0.0|                    618.0|     1.608930684E9|\n",
       " |112270|292030|The Witcher 3: Wi...| 68085378| english|boring. the story...|       1587940165|       1587940554|      false|            2|          0| 0.4811493754386902|            0|         false|             true|                      false|76561198273956829|                   165|                14|                  683.0|                           0.0|                    683.0|     1.561157229E9|\n",
       " |119851|292030|The Witcher 3: Wi...| 67049190| english|Sorry for long po...|       1586551473|       1587318618|      false|            0|          1| 0.4347825944423676|            0|         false|             true|                      false|76561198047538705|                    60|                 5|                  492.0|                           0.0|                    478.0|     1.604274105E9|\n",
       " |132446|292030|The Witcher 3: Wi...| 65669443| english|     This Game Sucks|       1585010986|       1585010986|      false|            6|          4| 0.2398953586816788|            0|          true|             true|                      false|76561198310270047|                   121|                14|                   22.0|                           0.0|                     22.0|     1.585010948E9|\n",
       " |137394|292030|The Witcher 3: Wi...| 64764560| english|there is too much...|       1583762739|       1583762739|      false|            2|          1| 0.4256259202957153|            0|          true|             true|                      false|76561198407274901|                    41|                 1|                 5458.0|                           0.0|                   1424.0|     1.609413767E9|\n",
       " |139038|292030|The Witcher 3: Wi...| 64512325| english|                 yes|       1583342184|       1583342184|      false|            0|          0| 0.4672326743602753|            0|         false|             true|                      false|76561198272387255|                   199|               103|                  553.0|                           0.0|                    369.0|     1.609941508E9|\n",
       " |191571|292030|The Witcher 3: Wi...| 60690417| english|bi begeniyom bi b...|       1577471217|       1577471217|      false|            0|          1|0.35037428140640253|            0|          true|             true|                      false|76561198201631373|                   111|                40|                  244.0|                           0.0|                    104.0|     1.591459506E9|\n",
       " |196465|292030|The Witcher 3: Wi...| 60477567| english|                poop|       1577216592|       1577216592|      false|            0|          1|0.34052008390426636|            0|          true|             true|                      false|76561198063034842|                   167|                20|                  997.0|                           0.0|                    289.0|     1.577603019E9|\n",
       " |209444|292030|The Witcher 3: Wi...| 59080205| english|It's an okay game...|       1575331998|       1575332856|      false|            1|          1| 0.4291414022445679|            0|         false|             true|                      false|76561198035964558|                   160|                29|                 3392.0|                           0.0|                   3392.0|     1.570981656E9|\n",
       " |236205|292030|The Witcher 3: Wi...| 55327742| english|i bought this gam...|       1569724228|       1569724228|      false|            2|          5| 0.2744987308979034|            0|         false|             true|                      false|76561198045094147|                   253|                71|                 1497.0|                           0.0|                   1497.0|     1.524863763E9|\n",
       " |238303|292030|The Witcher 3: Wi...| 54928497| english|Can't put my fing...|       1567394029|       1567394029|      false|            1|          2| 0.3758784234523773|            0|          true|             true|                      false|76561198067783657|                   195|                77|                  740.0|                           0.0|                    740.0|     1.567389686E9|\n",
       " |241164|292030|The Witcher 3: Wi...| 54247428| english|i fucking lovwe g...|       1563852622|       1563852633|      false|            1|          2| 0.3805031180381775|            0|          true|             true|                      false|76561198129354556|                   277|                26|                  518.0|                           0.0|                    518.0|     1.552251204E9|\n",
       " |246251|292030|The Witcher 3: Wi...| 53571239| english|           Boring AF|       1562271693|       1562271693|      false|            4|          4| 0.3959299623966217|            2|         false|             true|                      false|76561198044253403|                   624|               117|                 2989.0|                           0.0|                   2989.0|     1.530058413E9|\n",
       " |253823|292030|The Witcher 3: Wi...| 52699780| english|Best game (GOTY),...|       1561947787|       1561947787|      false|            0|          1|                0.0|            0|         false|             true|                      false|76561198304673611|                   201|                 1|                 6865.0|                           0.0|                   6308.0|     1.568374348E9|\n",
       " +------+------+--------------------+---------+--------+--------------------+-----------------+-----------------+-----------+-------------+-----------+-------------------+-------------+--------------+-----------------+---------------------------+-----------------+----------------------+------------------+-----------------------+------------------------------+-------------------------+------------------+\n",
       " only showing top 20 rows,\n",
       " 'lang=english_free=False_rec=True': +---+------+--------------------+---------+--------+--------------------+-----------------+-----------------+-----------+-------------+-----------+-------------------+-------------+--------------+-----------------+---------------------------+-----------------+----------------------+------------------+-----------------------+------------------------------+-------------------------+------------------+\n",
       " |_c0|app_id|            app_name|review_id|language|              review|timestamp_created|timestamp_updated|recommended|votes_helpful|votes_funny|weighted_vote_score|comment_count|steam_purchase|received_for_free|written_during_early_access|   author_steamid|author_num_games_owned|author_num_reviews|author_playtime_forever|author_playtime_last_two_weeks|author_playtime_at_review|author_last_played|\n",
       " +---+------+--------------------+---------+--------+--------------------+-----------------+-----------------+-----------+-------------+-----------+-------------------+-------------+--------------+-----------------+---------------------------+-----------------+----------------------+------------------+-----------------------+------------------------------+-------------------------+------------------+\n",
       " |  3|292030|The Witcher 3: Wi...| 85184605| english|One of the best R...|       1611379970|       1611379970|       true|            0|          0|                0.0|            0|          true|            false|                      false|76561199054755373|                     5|                 3|                 5587.0|                        3200.0|                   5524.0|     1.611383744E9|\n",
       " |  5|292030|The Witcher 3: Wi...| 85184171| english|good story, good ...|       1611379264|       1611379264|       true|            0|          0|                0.0|            0|          true|            false|                      false|76561198170193529|                    11|                 1|                  823.0|                         823.0|                    823.0|     1.611379201E9|\n",
       " |  6|292030|The Witcher 3: Wi...| 85184064| english|            dis gud,|       1611379091|       1611379091|       true|            0|          0|                0.0|            0|          true|            false|                      false|76561198119302812|                    27|                 2|                 4192.0|                        3398.0|                   4192.0|     1.611351734E9|\n",
       " | 18|292030|The Witcher 3: Wi...| 85180436| english|favorite game of ...|       1611373086|       1611373086|       true|            0|          0|                0.0|            0|          true|            false|                      false|76561198065591528|                    33|                 1|                23329.0|                         177.0|                  23329.0|     1.611219011E9|\n",
       " | 20|292030|The Witcher 3: Wi...| 85179753| english|Why wouldn't you ...|       1611371978|       1611371978|       true|            0|          0|                0.0|            0|          true|            false|                      false|76561198996835044|                   131|                 2|                 8557.0|                        2004.0|                   8557.0|     1.611370967E9|\n",
       " | 21|292030|The Witcher 3: Wi...| 85179400| english|          it is ok\\n|       1611371392|       1611371392|       true|            0|          0|                0.0|            0|          true|            false|                      false|76561198284845223|                    60|                 9|                 2518.0|                         242.0|                   2518.0|     1.611371338E9|\n",
       " | 22|292030|The Witcher 3: Wi...| 85179341| english|             worth\\n|       1611371318|       1611371318|       true|            0|          0|                0.0|            0|          true|            false|                      false|76561198370568524|                    59|                 5|                  553.0|                          35.0|                    517.0|     1.611373633E9|\n",
       " | 24|292030|The Witcher 3: Wi...| 85178164| english|Isn't Geralt hot ...|       1611369478|       1611369478|       true|            0|          0|                0.0|            0|          true|            false|                      false|76561198040150323|                    51|                37|                  165.0|                           0.0|                    165.0|     1.437875644E9|\n",
       " | 25|292030|The Witcher 3: Wi...| 85177892| english|Very Fun, Would p...|       1611369121|       1611369121|       true|            0|          0|                0.0|            0|          true|            false|                      false|76561198040190687|                    54|                 1|                20168.0|                          75.0|                  20092.0|     1.611373713E9|\n",
       " | 39|292030|The Witcher 3: Wi...| 85174926| english|The game is enjoy...|       1611364401|       1611364470|       true|            0|          0|                0.0|            0|          true|            false|                      false|76561198020027165|                   208|               105|                  497.0|                         370.0|                    398.0|     1.611370493E9|\n",
       " | 40|292030|The Witcher 3: Wi...| 85174737| english|The only thing bi...|       1611364088|       1611364088|       true|            0|          0|                0.0|            0|          true|            false|                      false|76561199001673284|                   111|                11|                 8068.0|                           0.0|                   8068.0|     1.597493874E9|\n",
       " | 45|292030|The Witcher 3: Wi...| 85172984| english|better than cyber...|       1611361171|       1611361171|       true|            0|          0|                0.0|            0|         false|            false|                      false|76561198033304276|                    47|                14|                 3159.0|                           0.0|                   3159.0|     1.524274341E9|\n",
       " | 46|292030|The Witcher 3: Wi...| 85172769| english|We all know you'l...|       1611360805|       1611360805|       true|            0|          0|                0.0|            0|          true|            false|                      false|76561198116559597|                    44|                 7|                  974.0|                         537.0|                    861.0|      1.61136761E9|\n",
       " | 50|292030|The Witcher 3: Wi...| 85170596| english|best open world g...|       1611357533|       1611357533|       true|            0|          0|                0.0|            0|          true|            false|                      false|76561198299050034|                    89|                 6|                   25.0|                           0.0|                     25.0|     1.578016131E9|\n",
       " | 52|292030|The Witcher 3: Wi...| 85170453| english|I don't think any...|       1611357290|       1611357290|       true|            0|          1|                0.0|            0|          true|            false|                      false|76561198080678414|                   287|                 4|                  303.0|                          94.0|                    303.0|     1.611284935E9|\n",
       " | 56|292030|The Witcher 3: Wi...| 85169788| english|It's surprisingly...|       1611356341|       1611356341|       true|            0|          0|                0.0|            0|          true|            false|                      false|76561198352439354|                    25|                 2|                  930.0|                          88.0|                    930.0|     1.611059624E9|\n",
       " | 58|292030|The Witcher 3: Wi...| 85169685| english| best game ever made|       1611356191|       1611356191|       true|            0|          0|                0.0|            0|          true|            false|                      false|76561198868423923|                    48|                 1|                 9403.0|                         196.0|                   9236.0|     1.611378515E9|\n",
       " | 59|292030|The Witcher 3: Wi...| 85169128| english|Still better than...|       1611355450|       1611355450|       true|            0|          0|                0.0|            0|          true|            false|                      false|76561197993334693|                   280|                13|                 1437.0|                           0.0|                   1437.0|     1.569254891E9|\n",
       " | 60|292030|The Witcher 3: Wi...| 85169052| english|If you are a fan ...|       1611355332|       1611355332|       true|            0|          0|                0.0|            0|          true|            false|                      false|76561198869011330|                    22|                 4|                 8234.0|                          12.0|                   8234.0|     1.611353247E9|\n",
       " | 69|292030|The Witcher 3: Wi...| 85167135| english|There needs to be...|       1611352633|       1611352633|       true|            0|          0|                0.0|            0|          true|            false|                      false|76561198878346949|                     4|                 1|                 4456.0|                        2123.0|                   4456.0|     1.611352414E9|\n",
       " +---+------+--------------------+---------+--------+--------------------+-----------------+-----------------+-----------+-------------+-----------+-------------------+-------------+--------------+-----------------+---------------------------+-----------------+----------------------+------------------+-----------------------+------------------------------+-------------------------+------------------+\n",
       " only showing top 20 rows,\n",
       " 'lang=english_free=False_rec=False': +----+------+--------------------+---------+--------+--------------------+-----------------+-----------------+-----------+-------------+-----------+-------------------+-------------+--------------+-----------------+---------------------------+-----------------+----------------------+------------------+-----------------------+------------------------------+-------------------------+------------------+\n",
       " | _c0|app_id|            app_name|review_id|language|              review|timestamp_created|timestamp_updated|recommended|votes_helpful|votes_funny|weighted_vote_score|comment_count|steam_purchase|received_for_free|written_during_early_access|   author_steamid|author_num_games_owned|author_num_reviews|author_playtime_forever|author_playtime_last_two_weeks|author_playtime_at_review|author_last_played|\n",
       " +----+------+--------------------+---------+--------+--------------------+-----------------+-----------------+-----------+-------------+-----------+-------------------+-------------+--------------+-----------------+---------------------------+-----------------+----------------------+------------------+-----------------------+------------------------------+-------------------------+------------------+\n",
       " | 128|292030|The Witcher 3: Wi...| 85155206| english|They certainly du...|       1611337043|       1611337043|      false|            0|          0| 0.4761904776096344|            0|          true|            false|                      false|76561198010955177|                   379|                73|                 8966.0|                           0.0|                   8966.0|     1.514416593E9|\n",
       " | 291|292030|The Witcher 3: Wi...| 85128129| english|terribly bugs, ke...|       1611299056|       1611299056|      false|            0|          0|                0.0|            0|          true|            false|                      false|76561198332696736|                    23|                 1|                 8565.0|                        4973.0|                   8442.0|      1.61136353E9|\n",
       " | 372|292030|The Witcher 3: Wi...| 85109753| english|While there is a ...|       1611265004|       1611265004|      false|            0|          0|                0.0|            0|          true|            false|                      false|76561198098346837|                   507|                47|                 2081.0|                           0.0|                   2081.0|     1.606027048E9|\n",
       " | 488|292030|The Witcher 3: Wi...| 85088505| english|badbadbadbadbadba...|       1611235321|       1611235321|      false|            1|          0|0.32819914817810053|            0|          true|            false|                      false|76561199013170832|                    40|                15|                 1079.0|                           0.0|                   1079.0|     1.597714017E9|\n",
       " | 606|292030|The Witcher 3: Wi...| 85064415| english|after serious con...|       1611195190|       1611195190|      false|            1|          1| 0.4969616830348969|            0|          true|            false|                      false|76561198085431842|                   206|                65|                 2031.0|                           0.0|                   2031.0|     1.594446107E9|\n",
       " | 707|292030|The Witcher 3: Wi...| 85044205| english|Terrible map desi...|       1611164410|       1611164410|      false|            0|          0| 0.4544973075389862|            0|          true|            false|                      false|76561198341528559|                    48|                 1|                  861.0|                         861.0|                    861.0|     1.611164229E9|\n",
       " | 930|292030|The Witcher 3: Wi...| 85003922| english|Overrated The sto...|       1611100480|       1611100480|      false|            1|          0| 0.4629647731781005|            0|          true|            false|                      false|76561199006384271|                    42|                 8|                 1112.0|                           0.0|                   1112.0|     1.599266514E9|\n",
       " |1000|292030|The Witcher 3: Wi...| 84986836| english|IDK why people li...|       1611076520|       1611076520|      false|            0|          0| 0.4795975089073181|            1|          true|            false|                      false|76561198053287382|                    65|                23|                  196.0|                           0.0|                    196.0|     1.608992261E9|\n",
       " |1296|292030|The Witcher 3: Wi...| 84924556| english|Playing a few hou...|       1610994826|       1610994826|      false|            0|          1|0.42858570814132685|            0|          true|            false|                      false|76561198235697102|                    51|                23|                  789.0|                           0.0|                    789.0|     1.580069154E9|\n",
       " |1442|292030|The Witcher 3: Wi...| 84901580| english|CEO of Pant Unshi...|       1610963570|       1610963570|      false|            1|          1|  0.456288605928421|            0|          true|            false|                      false|76561198327478957|                   105|                12|                  118.0|                          22.0|                     95.0|     1.611030134E9|\n",
       " |1564|292030|The Witcher 3: Wi...| 84877517| english|Listen. I just pl...|       1610921978|       1610921978|      false|            0|          0|0.44267117977142334|            0|          true|            false|                      false|76561198130016105|                   184|                10|                 4774.0|                         500.0|                   4774.0|     1.610589859E9|\n",
       " |1637|292030|The Witcher 3: Wi...| 84864342| english|                4/10|       1610905652|       1610905652|      false|            1|          0| 0.4774628579616547|            0|          true|            false|                      false|76561198103609596|                   419|                15|                 1074.0|                           0.0|                   1074.0|     1.598473055E9|\n",
       " |1687|292030|The Witcher 3: Wi...| 84856893| english|Did not enjoy thi...|       1610896894|       1610896894|      false|            0|          0| 0.4954954981803894|            0|          true|            false|                      false|76561198330920367|                    11|                 2|                 2291.0|                        1335.0|                   2291.0|     1.610896143E9|\n",
       " |1813|292030|The Witcher 3: Wi...| 84837537| english|Still has game ru...|       1610870880|       1610870880|      false|            1|          1|  0.490982860326767|            0|          true|            false|                      false|76561198309012333|                    25|                 4|                 1629.0|                         515.0|                   1629.0|     1.610870766E9|\n",
       " |1998|292030|The Witcher 3: Wi...| 84801279| english|The Witcher 3 doe...|       1610818875|       1610818875|      false|            0|          0|                0.0|            0|          true|            false|                      false|76561198126116839|                   130|                 2|                 1462.0|                           0.0|                   1462.0|     1.585019516E9|\n",
       " |2045|292030|The Witcher 3: Wi...| 84795316| english|Imagine abandonin...|       1610812258|       1610812258|      false|            0|          0| 0.4545454680919647|            0|         false|            false|                      false|76561198026640986|                   287|                39|                  597.0|                           0.0|                    597.0|     1.570377294E9|\n",
       " |2048|292030|The Witcher 3: Wi...| 84794967| english|                   .|       1610811874|       1610811874|      false|            0|          0| 0.4545454680919647|            0|          true|            false|                      false|76561198987946210|                    10|                 4|                  379.0|                         321.0|                    235.0|     1.610874627E9|\n",
       " |2229|292030|The Witcher 3: Wi...| 84766083| english|I just really can...|       1610769066|       1610769066|      false|            0|          0|                0.0|            0|          true|            false|                      false|76561198044628380|                   208|                27|                  870.0|                          49.0|                    870.0|     1.610768333E9|\n",
       " |2366|292030|The Witcher 3: Wi...| 84738824| english|Probably fantasti...|       1610731280|       1610731280|      false|            0|          1|   0.47826087474823|            0|          true|            false|                      false|76561198064651164|                    20|                 9|                  730.0|                           0.0|                    730.0|     1.597990927E9|\n",
       " |2375|292030|The Witcher 3: Wi...| 84737697| english|Out of the few RP...|       1610730039|       1610730039|      false|            0|          0|                0.0|            0|          true|            false|                      false|76561198952120178|                    30|                 6|                17624.0|                         749.0|                  17578.0|     1.610731894E9|\n",
       " +----+------+--------------------+---------+--------+--------------------+-----------------+-----------------+-----------+-------------+-----------+-------------------+-------------+--------------+-----------------+---------------------------+-----------------+----------------------+------------------+-----------------------+------------------------------+-------------------------+------------------+\n",
       " only showing top 20 rows,\n",
       " 'lang=schinese_free=True_rec=True': +-----+------+--------------------+---------+--------+-------------------------------------+-----------------+-----------------+-----------+-------------+-----------+-------------------+-------------+--------------+-----------------+---------------------------+-----------------+----------------------+------------------+-----------------------+------------------------------+-------------------------+------------------+\n",
       " |  _c0|app_id|            app_name|review_id|language|                               review|timestamp_created|timestamp_updated|recommended|votes_helpful|votes_funny|weighted_vote_score|comment_count|steam_purchase|received_for_free|written_during_early_access|   author_steamid|author_num_games_owned|author_num_reviews|author_playtime_forever|author_playtime_last_two_weeks|author_playtime_at_review|author_last_played|\n",
       " +-----+------+--------------------+---------+--------+-------------------------------------+-----------------+-----------------+-----------+-------------+-----------+-------------------+-------------+--------------+-----------------+---------------------------+-----------------+----------------------+------------------+-----------------------+------------------------------+-------------------------+------------------+\n",
       " | 1447|292030|The Witcher 3: Wi...| 84900631|schinese|                                    ?|       1610962070|       1610962070|       true|            0|          0|                0.0|            0|          true|             true|                      false|76561198852475700|                    25|                 3|                 1353.0|                         182.0|                   1252.0|     1.611053683E9|\n",
       " | 1789|292030|The Witcher 3: Wi...| 84840750|schinese|    众所周知 这是一款非常好玩的   ...|       1610875985|       1610875985|       true|            0|          1|                0.0|            0|          true|             true|                      false|76561198405562499|                    14|                 2|                 3747.0|                        1085.0|                   2661.0|     1.610990427E9|\n",
       " | 2736|292030|The Witcher 3: Wi...| 84675671|schinese|  用手指轻抚我的伤疤，\\n命运交结，...|       1610637417|       1610637645|       true|            0|          0|                0.0|            0|         false|             true|                      false|76561198185075585|                    11|                 1|                 4375.0|                        3070.0|                   2873.0|     1.611323256E9|\n",
       " | 2828|292030|The Witcher 3: Wi...| 84661009|schinese|       早知道就不预购了，晚买享折扣。|       1610617041|       1610617041|       true|            0|          0|                0.0|            0|          true|             true|                      false|76561198279508678|                   143|                 3|                10267.0|                           0.0|                  10267.0|     1.600166427E9|\n",
       " | 4170|292030|The Witcher 3: Wi...| 84441587|schinese|                     真的不错，好游戏|       1610299018|       1610299018|       true|            0|          0|                0.0|            0|          true|             true|                      false|76561199094725265|                     5|                 2|                 1812.0|                         192.0|                   1730.0|       1.6113102E9|\n",
       " | 4352|292030|The Witcher 3: Wi...| 84419056|schinese|                   我要起飞了 欸 起飞|       1610273151|       1610273151|       true|            0|          0|                0.0|            0|          true|             true|                      false|76561198810841362|                    31|                 4|                 1406.0|                         948.0|                    458.0|     1.611237535E9|\n",
       " | 5614|292030|The Witcher 3: Wi...| 84227749|schinese|    非常赞 喜欢慢节奏和剧情的建议入坑|       1610034739|       1610034739|       true|            0|          0|                0.0|            0|          true|             true|                      false|76561199058864292|                     4|                 1|                  980.0|                         154.0|                    523.0|     1.611326268E9|\n",
       " | 5887|292030|The Witcher 3: Wi...| 84198832|schinese|赛博朋克和这个根本没法比，已经爱上...|       1609995852|       1609995852|       true|            1|          0|                0.0|            0|          true|             true|                      false|76561198842844469|                     8|                 1|                 4051.0|                        1757.0|                   1099.0|     1.610714758E9|\n",
       " | 8181|292030|The Witcher 3: Wi...| 83870826|schinese|                     怎么免费获得的？|       1609643485|       1609643485|       true|            0|          0|                0.0|            0|          true|             true|                      false|76561198981417877|                    27|                 6|                   63.0|                          13.0|                     27.0|       1.6106072E9|\n",
       " | 8512|292030|The Witcher 3: Wi...| 83821755|schinese| 一五年刚出来的时候撸过d版，觉得一...|       1609600660|       1609600660|       true|            0|          0|                0.0|            0|          true|             true|                      false|76561198337890757|                    20|                 2|                 6061.0|                        3626.0|                    847.0|     1.611378636E9|\n",
       " | 9826|292030|The Witcher 3: Wi...| 83646106|schinese|                   舒服儿\\n独爱血与酒|       1609416827|       1609417066|       true|            0|          0|                0.0|            0|          true|             true|                      false|76561198309326487|                    64|                 6|                 6667.0|                           0.0|                   6667.0|     1.601115526E9|\n",
       " |11922|292030|The Witcher 3: Wi...| 83351031|schinese|                       好好好好好好好|       1609121764|       1609121764|       true|            0|          0|                0.0|            0|          true|             true|                      false|76561198848622188|                     9|                 1|                 4070.0|                         688.0|                   1078.0|     1.611238571E9|\n",
       " |12403|292030|The Witcher 3: Wi...| 83284585|schinese|                           大师级作品|       1609065634|       1609065634|       true|            0|          0|                0.0|            0|         false|             true|                      false|76561198435616852|                    63|                 6|                 1344.0|                           0.0|                   1344.0|     1.607335691E9|\n",
       " |13114|292030|The Witcher 3: Wi...| 83185100|schinese|                   打击感很差，还不错|       1608974185|       1608974185|       true|            0|          0|                0.0|            0|         false|             true|                      false|76561198805370574|                    24|                 9|                   52.0|                           0.0|                     52.0|     1.606496371E9|\n",
       " |13880|292030|The Witcher 3: Wi...| 83083172|schinese|                3折入的，这不就白给？|       1608864366|       1608864366|       true|            0|          0|                0.0|            0|          true|             true|                      false|76561198816739068|                     7|                 3|                  558.0|                         363.0|                     52.0|     1.610515838E9|\n",
       " |14549|292030|The Witcher 3: Wi...| 82987008|schinese|                                    !|       1608753934|       1608813640|       true|            4|          0|  0.523809552192688|            0|          true|             true|                      false|76561198422034348|                   253|                14|                31555.0|                        6148.0|                   4358.0|     1.611386869E9|\n",
       " |14644|292030|The Witcher 3: Wi...| 82971511|schinese|                             我是傻逼|       1608738525|       1608738525|       true|            0|          0| 0.4814814925193786|            0|          true|             true|                      false|76561198980540021|                    61|                 4|                  360.0|                           0.0|                    360.0|     1.587088478E9|\n",
       " |14701|292030|The Witcher 3: Wi...| 82966188|schinese|                                 不错|       1608733518|       1608733518|       true|            0|          0|                0.0|            0|          true|             true|                      false|76561198861706382|                     8|                 1|                  333.0|                          30.0|                    111.0|     1.610533124E9|\n",
       " |16101|292030|The Witcher 3: Wi...| 82759131|schinese|                                 good|       1608469060|       1608469060|       true|            0|          0|                0.0|            0|          true|             true|                      false|76561198422044980|                    33|                 3|                  509.0|                           0.0|                    298.0|      1.60897468E9|\n",
       " |17196|292030|The Witcher 3: Wi...| 82603554|schinese|   我给我老婆口了两个小时才答应给我买|       1608268345|       1608268345|       true|            1|          1|  0.523809552192688|            1|         false|             true|                      false|76561198411925840|                    11|                 2|                 2757.0|                           0.0|                   1348.0|     1.609487945E9|\n",
       " +-----+------+--------------------+---------+--------+-------------------------------------+-----------------+-----------------+-----------+-------------+-----------+-------------------+-------------+--------------+-----------------+---------------------------+-----------------+----------------------+------------------+-----------------------+------------------------------+-------------------------+------------------+\n",
       " only showing top 20 rows,\n",
       " 'lang=schinese_free=True_rec=False': +------+------+--------------------+---------+--------+---------------------------------------+-----------------+-----------------+-----------+-------------+-----------+-------------------+-------------+--------------+-----------------+---------------------------+-----------------+----------------------+------------------+-----------------------+------------------------------+-------------------------+------------------+\n",
       " |   _c0|app_id|            app_name|review_id|language|                                 review|timestamp_created|timestamp_updated|recommended|votes_helpful|votes_funny|weighted_vote_score|comment_count|steam_purchase|received_for_free|written_during_early_access|   author_steamid|author_num_games_owned|author_num_reviews|author_playtime_forever|author_playtime_last_two_weeks|author_playtime_at_review|author_last_played|\n",
       " +------+------+--------------------+---------+--------+---------------------------------------+-----------------+-----------------+-----------+-------------+-----------+-------------------+-------------+--------------+-----------------+---------------------------+-----------------+----------------------+------------------+-----------------------+------------------------------+-------------------------+------------------+\n",
       " |  3881|292030|The Witcher 3: Wi...| 84488210|schinese|                                      1|       1610367693|       1610367693|      false|            0|          0| 0.4761904776096344|            0|          true|             true|                      false|76561198452042978|                    21|                 2|                  276.0|                           0.0|                    276.0|      1.58601885E9|\n",
       " |  4222|292030|The Witcher 3: Wi...| 84434923|schinese|   玩了4次，还是玩不进去，剧情做的不...|       1610292032|       1610292032|      false|            0|          0| 0.4619758129119873|            0|          true|             true|                      false|76561198415747989|                    13|                 1|                  419.0|                         348.0|                    419.0|     1.610215977E9|\n",
       " | 27218|292030|The Witcher 3: Wi...| 81172394|schinese|买了两次退了两次， 不喜欢这题材的人慎买|       1606715476|       1606715476|      false|            0|          0|                0.0|            0|          true|             true|                      false|76561198447627536|                    20|                 3|                  124.0|                           0.0|                    124.0|     1.606556293E9|\n",
       " | 48071|292030|The Witcher 3: Wi...| 77957447|schinese|  很多人都说好玩，仁者见仁智者见智吧...|       1603353711|       1603353711|      false|            0|          0| 0.4583333432674408|            0|          true|             true|                      false|76561198280153638|                   101|                19|                   35.0|                           0.0|                     35.0|     1.580117352E9|\n",
       " | 50461|292030|The Witcher 3: Wi...| 77453718|schinese|  叙事拖沓，画面昏暗，动作僵硬，主角...|       1602516966|       1602516966|      false|            4|          0| 0.3678871989250183|            0|          true|             true|                      false|76561198148239421|                   380|                20|                  665.0|                           0.0|                    665.0|     1.602515104E9|\n",
       " | 64936|292030|The Witcher 3: Wi...| 75125840|schinese|                               我是傻逼|       1598728409|       1598728409|      false|            0|          0| 0.4761904776096344|            0|          true|             true|                      false|76561198926171692|                     0|                 2|                    7.0|                           0.0|                      7.0|     1.598728327E9|\n",
       " | 73854|292030|The Witcher 3: Wi...| 73447652|schinese|  今天官匹白银局遇见跑打枪枪头的带地...|       1595996148|       1595996148|      false|            0|          0| 0.4165351688861847|            3|         false|             true|                      false|76561198981077372|                    25|                 2|                 2930.0|                           0.0|                   2719.0|     1.605850132E9|\n",
       " | 79715|292030|The Witcher 3: Wi...| 72541286|schinese|     这骑马怎么老是被草拌停  2米高的...|       1594529048|       1595061124|      false|            0|          0| 0.4761904776096344|            0|          true|             true|                      false|76561199066366393|                    26|                 1|                 7598.0|                           0.0|                   2304.0|     1.603805506E9|\n",
       " | 85869|292030|The Witcher 3: Wi...| 71731634|schinese|    玩了60小时，通关一周目，思来想去...|       1593524558|       1593524558|      false|            1|          0|0.44444444775581365|            0|          true|             true|                      false|76561198976051165|                    26|                 4|                 3565.0|                           0.0|                   3556.0|      1.59783724E9|\n",
       " |103000|292030|The Witcher 3: Wi...| 69583813|schinese|                垃圾游戏 害得我九科全挂|       1590123821|       1590305049|      false|            0|          0|                0.0|            0|          true|             true|                      false|76561198358743079|                   120|                13|                 8952.0|                           0.0|                   8851.0|     1.592890827E9|\n",
       " |104975|292030|The Witcher 3: Wi...| 69337282|schinese|     看你m差评， 还不快买， 那么良心...|       1589760868|       1589760868|      false|            0|          9|0.38596493005752563|            0|          true|             true|                      false|76561199010389219|                    34|                 1|                 5271.0|                           0.0|                    237.0|     1.606217652E9|\n",
       " |106148|292030|The Witcher 3: Wi...| 69105303|schinese|  既然玩了，总要评价两句，从朋友游戏...|       1589440601|       1589440601|      false|            1|          0|0.42998796701431286|            0|         false|             true|                      false|76561198426235377|                    37|                 2|                 1705.0|                           0.0|                   1613.0|     1.589995968E9|\n",
       " |111307|292030|The Witcher 3: Wi...| 68235385|schinese|                               体验体验|       1588162293|       1588162293|      false|            0|          0| 0.4029304087162017|            0|          true|             true|                      false|76561198866943135|                    47|                 6|                  202.0|                           0.0|                    175.0|     1.593263367E9|\n",
       " |126912|292030|The Witcher 3: Wi...| 66308947|schinese|                         打不开，玩不了|       1585711989|       1585711989|      false|            0|          1|0.40479445457458496|            0|          true|             true|                      false|76561198434134374|                    31|                 2|                  312.0|                           0.0|                     58.0|       1.6015546E9|\n",
       " |145147|292030|The Witcher 3: Wi...| 63729946|schinese|   看到B这个字母爷生理恶心，不会再购...|       1582041639|       1597033324|      false|            0|          0|   0.47826087474823|            0|          true|             true|                      false|76561198120828783|                   449|                88|                 1650.0|                           0.0|                   1527.0|      1.60157855E9|\n",
       " |178335|292030|The Witcher 3: Wi...| 61251452|schinese|   差评，必须差评，玩了4天根本停不下...|       1578100851|       1578101506|      false|            0|          7| 0.4688769280910492|            0|          true|             true|                      false|76561198140361414|                   229|                 2|                 6095.0|                           0.0|                   5282.0|     1.579177495E9|\n",
       " |237902|292030|The Witcher 3: Wi...| 54981038|schinese|                               buhaowan|       1567728530|       1567728530|      false|            0|          0| 0.3139820694923401|            0|          true|             true|                      false|76561198869672612|                    26|                24|                   66.0|                           0.0|                     17.0|      1.57483769E9|\n",
       " |246700|292030|The Witcher 3: Wi...| 53525539|schinese|        游戏太难了,而且没有我喜欢的职业|       1562251746|       1562251746|      false|            0|          0| 0.4564315676689148|            0|          true|             true|                      false|76561198878452981|                     7|                 1|                  127.0|                           0.0|                    127.0|     1.562251702E9|\n",
       " |267815|292030|The Witcher 3: Wi...| 50588766|schinese|     垃圾游戏，一周目没碰dlc就干掉我...|       1557572961|       1557572961|      false|            0|          6| 0.2773994207382202|            0|          true|             true|                      false|76561198389804457|                   151|                23|                13905.0|                           0.0|                   4644.0|     1.596446531E9|\n",
       " |279948|292030|The Witcher 3: Wi...| 47886042|schinese|                           怎么设置中文|       1545973020|       1545973020|      false|            0|          2|0.35448995232582087|            0|          true|             true|                      false|76561198865199650|                    10|                 1|                  328.0|                           0.0|                    224.0|      1.54729832E9|\n",
       " +------+------+--------------------+---------+--------+---------------------------------------+-----------------+-----------------+-----------+-------------+-----------+-------------------+-------------+--------------+-----------------+---------------------------+-----------------+----------------------+------------------+-----------------------+------------------------------+-------------------------+------------------+\n",
       " only showing top 20 rows,\n",
       " 'lang=schinese_free=False_rec=True': +---+------+--------------------+---------+--------+-------------------------------------+-----------------+-----------------+-----------+-------------+-----------+-------------------+-------------+--------------+-----------------+---------------------------+-----------------+----------------------+------------------+-----------------------+------------------------------+-------------------------+------------------+\n",
       " |_c0|app_id|            app_name|review_id|language|                               review|timestamp_created|timestamp_updated|recommended|votes_helpful|votes_funny|weighted_vote_score|comment_count|steam_purchase|received_for_free|written_during_early_access|   author_steamid|author_num_games_owned|author_num_reviews|author_playtime_forever|author_playtime_last_two_weeks|author_playtime_at_review|author_last_played|\n",
       " +---+------+--------------------+---------+--------+-------------------------------------+-----------------+-----------------+-----------+-------------+-----------+-------------------+-------------+--------------+-----------------+---------------------------+-----------------+----------------------+------------------+-----------------------+------------------------------+-------------------------+------------------+\n",
       " |  0|292030|The Witcher 3: Wi...| 85185598|schinese|   不玩此生遗憾，RPG游戏里的天花板...|       1611381629|       1611381629|       true|            0|          0|                0.0|            0|          true|            false|                      false|76561199095369542|                     6|                 2|                 1909.0|                        1448.0|                   1909.0|     1.611343383E9|\n",
       " |  1|292030|The Witcher 3: Wi...| 85185250|schinese|          拔DIAO无情打桩机--杰洛特!!!|       1611381030|       1611381030|       true|            0|          0|                0.0|            0|          true|            false|                      false|76561198949504115|                    30|                10|                 2764.0|                        2743.0|                   2674.0|     1.611386307E9|\n",
       " |  2|292030|The Witcher 3: Wi...| 85185111|schinese|                              巫师3NB|       1611380800|       1611380800|       true|            0|          0|                0.0|            0|          true|            false|                      false|76561199090098988|                     5|                 1|                 1061.0|                        1061.0|                   1060.0|     1.611383777E9|\n",
       " |  4|292030|The Witcher 3: Wi...| 85184287|schinese|                                 大作|       1611379427|       1611379427|       true|            0|          0|                0.0|            0|          true|            false|                      false|76561199028326951|                     7|                 4|                  217.0|                          42.0|                    217.0|     1.610788249E9|\n",
       " |  8|292030|The Witcher 3: Wi...| 85183227|schinese|     年度最佳的作品，没啥好夸的，神作|       1611377703|       1611377703|       true|            0|          0|                0.0|            0|          true|            false|                      false|76561198130808993|                   581|                17|                 6921.0|                         222.0|                   6921.0|     1.611317275E9|\n",
       " | 10|292030|The Witcher 3: Wi...| 85182697|schinese|                           神作！不bb|       1611376831|       1611376831|       true|            0|          0|                0.0|            0|         false|            false|                      false|76561199089209577|                    29|                 1|                 5368.0|                        1471.0|                   5368.0|     1.611371665E9|\n",
       " | 12|292030|The Witcher 3: Wi...| 85182067|schinese|   什么?你儿子失踪了?什么?这栋房子...|       1611375772|       1611375772|       true|            0|          0|                0.0|            0|          true|            false|                      false|76561198348941585|                    20|                 1|                 6598.0|                          29.0|                   6598.0|     1.610715923E9|\n",
       " | 16|292030|The Witcher 3: Wi...| 85180734|schinese| 当你玩进去之后，一切都顺理成章了起来|       1611373593|       1611373593|       true|            0|          0|                0.0|            0|          true|            false|                      false|76561198985671330|                     9|                 1|                 5483.0|                        2184.0|                   5483.0|     1.611371203E9|\n",
       " | 17|292030|The Witcher 3: Wi...| 85180438|schinese|                     剑舞天下无敌！！|       1611373087|       1611373087|       true|            0|          0|                0.0|            0|         false|            false|                      false|76561198149550625|                    66|                 7|                 5442.0|                        1643.0|                   5396.0|     1.611386646E9|\n",
       " | 19|292030|The Witcher 3: Wi...| 85179968|schinese|                                 打桩|       1611372286|       1611372286|       true|            0|          0|                0.0|            0|         false|            false|                      false|76561198249585974|                    31|                 5|                 2153.0|                          46.0|                   2153.0|     1.611325386E9|\n",
       " | 23|292030|The Witcher 3: Wi...| 85178836|schinese|寻路功能真的有点阴间，总体上讲还是...|       1611370535|       1611370535|       true|            1|          0|  0.523809552192688|            0|          true|            false|                      false|76561198398613695|                    27|                 1|                 1740.0|                        1740.0|                   1616.0|     1.611385992E9|\n",
       " | 26|292030|The Witcher 3: Wi...| 85177779|schinese|                            NICE GAME|       1611368946|       1611368946|       true|            0|          0|                0.0|            0|          true|            false|                      false|76561198413847345|                    13|                 4|                 6329.0|                         438.0|                   6240.0|     1.611374256E9|\n",
       " | 27|292030|The Witcher 3: Wi...| 85177648|schinese|                🎁\\n🎁’[h1] [b]‘官...|       1611368730|       1611379495|       true|           39|          0| 0.7842262387275696|            0|          true|            false|                      false|76561198326913512|                    69|                28|                 1734.0|                           0.0|                   1734.0|     1.608666706E9|\n",
       " | 37|292030|The Witcher 3: Wi...| 85175638|schinese|神作，徜徉在自由的开放世界，仿佛身...|       1611365564|       1611365564|       true|            0|          0|                0.0|            0|          true|            false|                      false|76561198885418101|                    15|                 5|                11004.0|                         821.0|                  11004.0|     1.610885956E9|\n",
       " | 51|292030|The Witcher 3: Wi...| 85170497|schinese|我玩了这么长时间，这个游戏挺好玩的...|       1611357379|       1611357430|       true|            0|          0|                0.0|            0|          true|            false|                      false|76561199039857291|                     8|                 5|                10699.0|                           0.0|                  10699.0|     1.610063842E9|\n",
       " | 54|292030|The Witcher 3: Wi...| 85170209|schinese|                                    .|       1611356948|       1611356948|       true|            0|          0|                0.0|            0|          true|            false|                      false|76561198284494326|                    27|                 5|                 3003.0|                         741.0|                   2820.0|     1.611368168E9|\n",
       " | 64|292030|The Witcher 3: Wi...| 85167937|schinese|原本是买来补票的，最近玩完赛博朋克...|       1611353775|       1611353775|       true|            1|          1|   0.52173912525177|            0|          true|            false|                      false|76561198863910434|                    60|                11|                 5139.0|                        5107.0|                   5139.0|     1.611353461E9|\n",
       " | 76|292030|The Witcher 3: Wi...| 85165570|schinese|                       没什么需要讲的|       1611350390|       1611350390|       true|            0|          0|                0.0|            0|          true|            false|                      false|76561198220195440|                   168|                56|                 4988.0|                         250.0|                   4737.0|     1.611366693E9|\n",
       " |104|292030|The Witcher 3: Wi...| 85159857|schinese|                         真特么的好\\n|       1611342908|       1611342908|       true|            0|          0|                0.0|            0|          true|            false|                      false|76561198796182989|                    20|                 1|                 3603.0|                        3474.0|                   3532.0|     1.611380501E9|\n",
       " |113|292030|The Witcher 3: Wi...| 85158319|schinese|《这款游戏可以作为一件艺术品来欣赏...|       1611340964|       1611340964|       true|            0|          1|                0.0|            0|          true|            false|                      false|76561198104209721|                   123|                16|                21758.0|                           0.0|                  21758.0|     1.590526395E9|\n",
       " +---+------+--------------------+---------+--------+-------------------------------------+-----------------+-----------------+-----------+-------------+-----------+-------------------+-------------+--------------+-----------------+---------------------------+-----------------+----------------------+------------------+-----------------------+------------------------------+-------------------------+------------------+\n",
       " only showing top 20 rows,\n",
       " 'lang=schinese_free=False_rec=False': +----+------+--------------------+---------+--------+-------------------------------------+-----------------+-----------------+-----------+-------------+-----------+-------------------+-------------+--------------+-----------------+---------------------------+-----------------+----------------------+------------------+-----------------------+------------------------------+-------------------------+------------------+\n",
       " | _c0|app_id|            app_name|review_id|language|                               review|timestamp_created|timestamp_updated|recommended|votes_helpful|votes_funny|weighted_vote_score|comment_count|steam_purchase|received_for_free|written_during_early_access|   author_steamid|author_num_games_owned|author_num_reviews|author_playtime_forever|author_playtime_last_two_weeks|author_playtime_at_review|author_last_played|\n",
       " +----+------+--------------------+---------+--------+-------------------------------------+-----------------+-----------------+-----------+-------------+-----------+-------------------+-------------+--------------+-----------------+---------------------------+-----------------+----------------------+------------------+-----------------------+------------------------------+-------------------------+------------------+\n",
       " |  33|292030|The Witcher 3: Wi...| 85176440|schinese|   对RPG无感 剧情也就那么回事没看进去|       1611366821|       1611366821|      false|            0|          1| 0.4014598727226257|            0|          true|            false|                      false|76561198339525870|                    31|                 3|                 3155.0|                           0.0|                   3155.0|     1.587800627E9|\n",
       " | 249|292030|The Witcher 3: Wi...| 85134258|schinese|直线扭曲的纵火犯和纵火犯打架第一次...|       1611309386|       1611309386|      false|            0|          1|  0.331578940153122|            0|          true|            false|                      false|76561199096341377|                    20|                 2|                  802.0|                         802.0|                    351.0|     1.611369649E9|\n",
       " | 382|292030|The Witcher 3: Wi...| 85108403|schinese|    隔壁1977已经死了，你要的嘛，阿...|       1611263050|       1611263050|      false|            0|          0| 0.4561403691768646|            0|          true|            false|                      false|76561198842165796|                    20|                11|                 3245.0|                           0.0|                   3245.0|     1.608307907E9|\n",
       " | 448|292030|The Witcher 3: Wi...| 85096291|schinese|  故事情节还可以  也没说的那么高的...|       1611247042|       1611247042|      false|            0|          0| 0.4663212299346924|            0|          true|            false|                      false|76561198316831186|                     6|                 2|                 2543.0|                        2540.0|                   2203.0|     1.611380285E9|\n",
       " | 616|292030|The Witcher 3: Wi...| 85061517|schinese|感觉吹过了，剧情玩了差不多一半很一...|       1611190031|       1611190031|      false|            0|          1| 0.4319593608379364|            0|          true|            false|                      false|76561198241159250|                    45|                29|                 1224.0|                           0.0|                   1224.0|     1.595235901E9|\n",
       " | 736|292030|The Witcher 3: Wi...| 85037381|schinese|                       测试版bug 太多|       1611155529|       1611155529|      false|            0|          0| 0.4761904776096344|            0|          true|            false|                      false|76561198856031992|                    19|                 4|                  256.0|                          48.0|                    256.0|     1.611067748E9|\n",
       " | 767|292030|The Witcher 3: Wi...| 85034111|schinese|都吹这个游戏，但是我实在是体会不来...|       1611151454|       1611151454|      false|            0|          1| 0.4149408340454102|            0|          true|            false|                      false|76561198414182080|                    63|                 7|                  281.0|                         104.0|                    185.0|     1.611375252E9|\n",
       " | 859|292030|The Witcher 3: Wi...| 85019443|schinese| 迷雾之岛救昏睡的矮人 为什么接任务...|       1611128740|       1611128740|      false|            2|          0| 0.5454545617103577|            0|          true|            false|                      false|76561198972671063|                    22|                 2|                 2415.0|                         438.0|                   2226.0|     1.611305582E9|\n",
       " | 929|292030|The Witcher 3: Wi...| 85004055|schinese|只有公司好好活着，玩家才有机会有可...|       1611100710|       1611100710|      false|            1|          0| 0.3778685927391052|            0|         false|            false|                      false|76561197999914088|                  7116|                38|                  757.0|                           0.0|                    757.0|     1.510272784E9|\n",
       " |1061|292030|The Witcher 3: Wi...| 84976083|schinese|                               Boring|       1611062674|       1611062674|      false|            0|          0| 0.4761904776096344|            0|         false|            false|                      false|76561198101218724|                    39|                 6|                  456.0|                           0.0|                    456.0|     1.542543163E9|\n",
       " |1161|292030|The Witcher 3: Wi...| 84961632|schinese|                        看啥,买就对了|       1611039870|       1611039870|      false|            2|          0| 0.5379891991615297|            0|          true|            false|                      false|76561199109071665|                     6|                 1|                 6862.0|                         245.0|                   6631.0|     1.611234957E9|\n",
       " |1277|292030|The Witcher 3: Wi...| 84928993|schinese|             垃圾！！！！！！！！！！|       1611000741|       1611000741|      false|            0|          2| 0.3907637596130371|            0|          true|            false|                      false|76561198190373446|                    19|                 2|                  888.0|                         352.0|                    610.0|     1.611065109E9|\n",
       " |1817|292030|The Witcher 3: Wi...| 84837248|schinese| 画面挺差的，战斗系统也很差，玩不下去|       1610870382|       1610870382|      false|            1|          0|0.41189426183700556|            0|          true|            false|                      false|76561198953185588|                    28|                 4|                  171.0|                           0.0|                    171.0|     1.607002922E9|\n",
       " |2174|292030|The Witcher 3: Wi...| 84776041|schinese|                         跳跃手感太差|       1610786384|       1610786384|      false|            0|          0| 0.4545454680919647|            0|          true|            false|                      false|76561199105522473|                     5|                 1|                  793.0|                         286.0|                    707.0|     1.610950517E9|\n",
       " |2181|292030|The Witcher 3: Wi...| 84774709|schinese|   画质太差。。骑马跑步必须按着shi...|       1610784035|       1610784035|      false|            1|          0| 0.4496877193450928|            0|          true|            false|                      false|76561198432170644|                    18|                10|                 2347.0|                        1306.0|                   2347.0|     1.610783478E9|\n",
       " |2236|292030|The Witcher 3: Wi...| 84764467|schinese|                             nonsense|       1610766448|       1610766448|      false|            0|          0|  0.479999989271164|            0|          true|            false|                      false|76561198846040062|                    46|                 7|                  333.0|                           0.0|                    333.0|     1.576996661E9|\n",
       " |2386|292030|The Witcher 3: Wi...| 84734788|schinese|                         SB游戏草泥马|       1610726685|       1610726685|      false|            1|          1| 0.4600639045238495|            0|          true|            false|                      false|76561198882232674|                    99|                 6|                  650.0|                         291.0|                    650.0|     1.610726661E9|\n",
       " |2438|292030|The Witcher 3: Wi...| 84727038|schinese|                         滚出我电脑！|       1610716970|       1610725939|      false|            0|          0|                0.0|            0|          true|            false|                      false|76561198391880772|                     2|                 1|                 9141.0|                         851.0|                   9141.0|     1.610725298E9|\n",
       " |2482|292030|The Witcher 3: Wi...| 84719638|schinese|                                 傻逼|       1610705997|       1610705997|      false|            0|          0|0.41666665673255926|            0|          true|            false|                      false|76561198330995944|                    16|                 3|                  209.0|                          19.0|                    209.0|     1.610681054E9|\n",
       " |2500|292030|The Witcher 3: Wi...| 84717360|schinese|                               wuliao|       1610702166|       1610702166|      false|            0|          0| 0.4347825944423676|            0|         false|            false|                      false|76561198996550772|                     7|                 1|                 3770.0|                        2347.0|                   2277.0|     1.611323801E9|\n",
       " +----+------+--------------------+---------+--------+-------------------------------------+-----------------+-----------------+-----------+-------------+-----------+-------------------+-------------+--------------+-----------------+---------------------------+-----------------+----------------------+------------------+-----------------------+------------------------------+-------------------------+------------------+\n",
       " only showing top 20 rows,\n",
       " 'lang=russian_free=True_rec=True': +----+------+--------------------+---------+--------+--------------------+-----------------+-----------------+-----------+-------------+-----------+-------------------+-------------+--------------+-----------------+---------------------------+-----------------+----------------------+------------------+-----------------------+------------------------------+-------------------------+------------------+\n",
       " | _c0|app_id|            app_name|review_id|language|              review|timestamp_created|timestamp_updated|recommended|votes_helpful|votes_funny|weighted_vote_score|comment_count|steam_purchase|received_for_free|written_during_early_access|   author_steamid|author_num_games_owned|author_num_reviews|author_playtime_forever|author_playtime_last_two_weeks|author_playtime_at_review|author_last_played|\n",
       " +----+------+--------------------+---------+--------+--------------------+-----------------+-----------------+-----------+-------------+-----------+-------------------+-------------+--------------+-----------------+---------------------------+-----------------+----------------------+------------------+-----------------------+------------------------------+-------------------------+------------------+\n",
       " | 389|292030|The Witcher 3: Wi...| 85106947| russian|Классный сюжет, х...|       1611261108|       1611261108|       true|            0|          0|                0.0|            0|          true|             true|                      false|76561198443647492|                    11|                 2|                  846.0|                         104.0|                    742.0|     1.611345887E9|\n",
       " | 632|292030|The Witcher 3: Wi...| 85058719| russian|  Тут и слов не надо|       1611184789|       1611184789|       true|            0|          0|                0.0|            0|          true|             true|                      false|76561198200461449|                   104|                 8|                12010.0|                           0.0|                  12010.0|     1.590940384E9|\n",
       " | 783|292030|The Witcher 3: Wi...| 85031894| russian|Однозначно стоило...|       1611148460|       1611148460|       true|            0|          0|                0.0|            0|          true|             true|                      false|76561198208001716|                    39|                 2|                 6105.0|                        1822.0|                   6105.0|     1.611147992E9|\n",
       " | 932|292030|The Witcher 3: Wi...| 85003618| russian|               годно|       1611100009|       1611100009|       true|            0|          0|                0.0|            0|          true|             true|                      false|76561198912070230|                     8|                 1|                11606.0|                         119.0|                  11606.0|     1.611053655E9|\n",
       " | 954|292030|The Witcher 3: Wi...| 84998672| russian|         иииииииииии|       1611092084|       1611092084|       true|            0|          0| 0.4864864945411681|            0|         false|             true|                      false|76561199001184706|                    27|                 1|                 4657.0|                         761.0|                   4179.0|      1.61134453E9|\n",
       " | 997|292030|The Witcher 3: Wi...| 84987491| russian|Однажды я отложил...|       1611077325|       1611077325|       true|            0|          0| 0.4864864945411681|            0|          true|             true|                      false|76561198954761392|                    22|                 1|                 2629.0|                        1473.0|                   2600.0|     1.611160097E9|\n",
       " |1279|292030|The Witcher 3: Wi...| 84928794| russian|The Witcher 3: Wi...|       1611000471|       1611000471|       true|            1|          0|  0.523809552192688|            0|          true|             true|                      false|76561198883091312|                     2|                 3|                 2366.0|                         518.0|                   2366.0|     1.610999789E9|\n",
       " |1761|292030|The Witcher 3: Wi...| 84845022| russian|          чётко!!!\\n|       1610882134|       1610882134|       true|            1|          0|  0.523809552192688|            0|          true|             true|                      false|76561198304528413|                    16|                 1|                  644.0|                          25.0|                    621.0|     1.610883538E9|\n",
       " |1837|292030|The Witcher 3: Wi...| 84832269| russian|клевая игра совет...|       1610861948|       1610861948|       true|            0|          0|                0.0|            0|          true|             true|                      false|76561198995528362|                    22|                 3|                  530.0|                         530.0|                    319.0|     1.611387799E9|\n",
       " |1850|292030|The Witcher 3: Wi...| 84829420| russian|Отличная бродилка...|       1610857341|       1610857341|       true|            0|          0| 0.4761904776096344|            0|          true|             true|                      false|76561198110037595|                    14|                12|                  277.0|                         239.0|                    204.0|     1.610913183E9|\n",
       " |2042|292030|The Witcher 3: Wi...| 84796057| russian|Возможно одна из ...|       1610813014|       1610813014|       true|            0|          0|                0.0|            0|         false|             true|                      false|76561198403437246|                    13|                 3|                 5561.0|                        2581.0|                   4433.0|     1.611193759E9|\n",
       " |2785|292030|The Witcher 3: Wi...| 84668428| russian|     Слишком дорого!|       1610628142|       1610628142|       true|            0|          0|                0.0|            0|          true|             true|                      false|76561198184199643|                    66|                 5|                11858.0|                           0.0|                  11858.0|     1.609561136E9|\n",
       " |2792|292030|The Witcher 3: Wi...| 84667369| russian|охуенная игра все...|       1610626714|       1610626714|       true|            0|          0|                0.0|            0|         false|             true|                      false|76561199032741496|                     2|                 1|                 2836.0|                        2810.0|                   2300.0|     1.610809078E9|\n",
       " |2809|292030|The Witcher 3: Wi...| 84663976| russian|Не жалко потрачен...|       1610621846|       1610621846|       true|            1|          0|   0.52173912525177|            0|          true|             true|                      false|76561198828217353|                    26|                 6|                  897.0|                         897.0|                    299.0|     1.611326188E9|\n",
       " |2811|292030|The Witcher 3: Wi...| 84663340| russian|                   7|       1610620911|       1610620911|       true|            0|          0|                0.0|            0|          true|             true|                      false|76561198118709636|                     7|                 5|                 3773.0|                        2025.0|                   1799.0|     1.611308173E9|\n",
       " |3320|292030|The Witcher 3: Wi...| 84570025| russian|Топ 5 фраз, если ...|       1610480328|       1610480328|       true|            2|          0|   0.54356849193573|            1|         false|             true|                      false|76561198336457884|                     6|                 3|                29932.0|                           0.0|                  29932.0|     1.573835166E9|\n",
       " |3411|292030|The Witcher 3: Wi...| 84556133| russian|Нельзя любить, не...|       1610464506|       1610464506|       true|            0|          0|                0.0|            0|          true|             true|                      false|76561198804933710|                    39|                 4|                  868.0|                           0.0|                    868.0|     1.607254954E9|\n",
       " |4207|292030|The Witcher 3: Wi...| 84436844| russian|        всё супер!\\n|       1610294078|       1610294078|       true|            0|          0|                0.0|            0|          true|             true|                      false|76561199092271648|                    17|                 1|                 5680.0|                        1447.0|                   4799.0|     1.611260914E9|\n",
       " |4949|292030|The Witcher 3: Wi...| 84330747| russian|Когда-то давным-д...|       1610159686|       1610159686|       true|            1|          0|  0.523809552192688|            0|         false|             true|                      false|76561198398141804|                    33|                12|                10253.0|                        5429.0|                   4504.0|     1.611308414E9|\n",
       " |4993|292030|The Witcher 3: Wi...| 84325003| russian|одна из лучших иг...|       1610151571|       1610151571|       true|            0|          0|                0.0|            0|          true|             true|                      false|76561198318761039|                    10|                 1|                 6032.0|                        1783.0|                   4249.0|     1.611013448E9|\n",
       " +----+------+--------------------+---------+--------+--------------------+-----------------+-----------------+-----------+-------------+-----------+-------------------+-------------+--------------+-----------------+---------------------------+-----------------+----------------------+------------------+-----------------------+------------------------------+-------------------------+------------------+\n",
       " only showing top 20 rows,\n",
       " 'lang=russian_free=True_rec=False': +------+------+--------------------+---------+--------+--------------------+-----------------+-----------------+-----------+-------------+-----------+-------------------+-------------+--------------+-----------------+---------------------------+-----------------+----------------------+------------------+-----------------------+------------------------------+-------------------------+------------------+\n",
       " |   _c0|app_id|            app_name|review_id|language|              review|timestamp_created|timestamp_updated|recommended|votes_helpful|votes_funny|weighted_vote_score|comment_count|steam_purchase|received_for_free|written_during_early_access|   author_steamid|author_num_games_owned|author_num_reviews|author_playtime_forever|author_playtime_last_two_weeks|author_playtime_at_review|author_last_played|\n",
       " +------+------+--------------------+---------+--------+--------------------+-----------------+-----------------+-----------+-------------+-----------+-------------------+-------------+--------------+-----------------+---------------------------+-----------------+----------------------+------------------+-----------------------+------------------------------+-------------------------+------------------+\n",
       " |   777|292030|The Witcher 3: Wi...| 85032859| russian|  почему так дорого?|       1611149729|       1611149729|      false|            0|          0| 0.4545454680919647|            0|          true|             true|                      false|76561198115591299|                    78|                 4|                 1815.0|                           1.0|                   1815.0|     1.611107221E9|\n",
       " |  1823|292030|The Witcher 3: Wi...| 84835637| russian|Игра заебись, сов...|       1610867583|       1610867583|      false|            1|          0|                0.0|            0|          true|             true|                      false|76561198402312132|                     4|                 3|                 3406.0|                         559.0|                   3406.0|     1.610749167E9|\n",
       " |  4129|292030|The Witcher 3: Wi...| 84447402| russian|Оверхайпнутое гов...|       1610305316|       1610305316|      false|            5|          0|0.31146565079689026|           17|         false|             true|                      false|76561198253363352|                   268|               101|                  160.0|                           0.0|                    160.0|     1.607952943E9|\n",
       " | 19594|292030|The Witcher 3: Wi...| 82270275| russian|Не нравится игра ...|       1607867690|       1607867690|      false|            1|          1| 0.4267026484012604|            0|          true|             true|                      false|76561198143390352|                   592|                20|                   18.0|                           0.0|                     18.0|     1.607867657E9|\n",
       " | 22267|292030|The Witcher 3: Wi...| 81821330| russian|              дорого|       1607408571|       1607408571|      false|            1|         10|0.36312115192413325|            2|          true|             true|                      false|76561198379416409|                    16|                 4|                 4919.0|                           0.0|                   4919.0|     1.601800059E9|\n",
       " | 23201|292030|The Witcher 3: Wi...| 81690450| russian|В такую парашу я ...|       1607211245|       1607211245|      false|            5|          4| 0.4187399744987488|            3|          true|             true|                      false|76561198823562894|                    39|                 5|                  247.0|                           0.0|                    247.0|      1.56240486E9|\n",
       " | 63158|292030|The Witcher 3: Wi...| 75331270| russian|               Хуйня|       1599060935|       1599060935|      false|            0|          1| 0.3698149919509888|            0|         false|             true|                      false|76561198351668351|                    35|                 1|                   42.0|                           0.0|                     42.0|     1.562164901E9|\n",
       " | 94377|292030|The Witcher 3: Wi...| 70456899| russian|тупа слизали все ...|       1591559643|       1591559643|      false|            1|          1|0.42567163705825806|            2|         false|             true|                      false|76561198103636528|                    25|                 1|                 1220.0|                           0.0|                   1199.0|     1.591742931E9|\n",
       " |142408|292030|The Witcher 3: Wi...| 64054905| russian|     Классная Херь\\n|       1582560279|       1606461683|      false|            0|          0|  0.523809552192688|            0|          true|             true|                      false|76561198346923794|                    64|                17|                27126.0|                          47.0|                   6422.0|     1.610280526E9|\n",
       " |144223|292030|The Witcher 3: Wi...| 63835590| russian|Tom Clancy's Rain...|       1582217863|       1583342621|      false|            2|          1| 0.4562356173992157|            2|          true|             true|                      false|76561198430297687|                    96|                37|                  634.0|                           0.0|                     37.0|     1.605873893E9|\n",
       " |235946|292030|The Witcher 3: Wi...| 55427372| russian|Неплохая, но супе...|       1570117026|       1570117026|      false|            3|          0| 0.3558849692344665|            0|         false|             true|                      false|76561198397735124|                    41|                12|                 1379.0|                           0.0|                   1379.0|     1.563209185E9|\n",
       " |237315|292030|The Witcher 3: Wi...| 55064566| russian|Херня, а не игра....|       1568217404|       1568217404|      false|            0|          5| 0.3306613266468048|            0|          true|             true|                      false|76561198079747822|                   146|                 6|                16206.0|                           0.0|                  16189.0|     1.589197996E9|\n",
       " |239736|292030|The Witcher 3: Wi...| 54559780| russian|Нет ничего идеаль...|       1565491253|       1565491253|      false|            2|          4|0.25707381963729853|            0|          true|             true|                      false|76561198071127047|                   118|                 3|                 1269.0|                           0.0|                     11.0|      1.56864826E9|\n",
       " |264644|292030|The Witcher 3: Wi...| 51292863| russian|Игра хуйня ни сюж...|       1560877997|       1560877997|      false|            5|         14|0.28633829951286316|            8|         false|             true|                      false|76561198820066575|                    65|                 9|                  368.0|                           0.0|                    368.0|     1.554194906E9|\n",
       " |266308|292030|The Witcher 3: Wi...| 51015992| russian|Просто решил выде...|       1559490605|       1561237386|      false|            4|         26| 0.2617408335208893|            0|          true|             true|                      false|76561198109960694|                   126|                 6|                 1256.0|                           0.0|                    198.0|     1.607186254E9|\n",
       " |275803|292030|The Witcher 3: Wi...| 48844586| russian|Очень скучная и о...|       1549626706|       1549626706|      false|            8|          4|0.24173332750797275|           11|          true|             true|                      false|76561198053982920|                   388|                12|                 1814.0|                           0.0|                     73.0|      1.59683677E9|\n",
       " |290157|292030|The Witcher 3: Wi...| 46621995| russian|           Не тянет!|       1542992634|       1542992634|      false|            1|          1| 0.4511417150497437|            0|         false|             true|                      false|76561198114724591|                    84|                 5|                   55.0|                           0.0|                     55.0|     1.542992706E9|\n",
       " |302101|292030|The Witcher 3: Wi...| 45965648| russian|       гавной воняет|       1542827560|       1542827560|      false|            1|          4| 0.4140476286411285|            0|          true|             true|                      false|76561198088740358|                   276|                 7|                 8459.0|                           0.0|                   8459.0|     1.538769814E9|\n",
       " |315865|292030|The Witcher 3: Wi...| 43224632| russian|            Дорогой.|       1530471790|       1530471790|      false|            0|          5| 0.3509083986282349|            0|          true|             true|                      false|76561198000107876|                   144|                 4|                 1091.0|                           0.0|                   1087.0|     1.540750797E9|\n",
       " |328963|292030|The Witcher 3: Wi...| 40192479| russian|    для быдла сойдет|       1518961994|       1518961994|      false|            8|          8|0.27369174361228943|            5|          true|             true|                      false|76561198119901399|                   189|                19|                12675.0|                           0.0|                   1758.0|     1.571327757E9|\n",
       " +------+------+--------------------+---------+--------+--------------------+-----------------+-----------------+-----------+-------------+-----------+-------------------+-------------+--------------+-----------------+---------------------------+-----------------+----------------------+------------------+-----------------------+------------------------------+-------------------------+------------------+\n",
       " only showing top 20 rows,\n",
       " 'lang=russian_free=False_rec=True': +---+------+--------------------+---------+--------+--------------------+-----------------+-----------------+-----------+-------------+-----------+-------------------+-------------+--------------+-----------------+---------------------------+-----------------+----------------------+------------------+-----------------------+------------------------------+-------------------------+------------------+\n",
       " |_c0|app_id|            app_name|review_id|language|              review|timestamp_created|timestamp_updated|recommended|votes_helpful|votes_funny|weighted_vote_score|comment_count|steam_purchase|received_for_free|written_during_early_access|   author_steamid|author_num_games_owned|author_num_reviews|author_playtime_forever|author_playtime_last_two_weeks|author_playtime_at_review|author_last_played|\n",
       " +---+------+--------------------+---------+--------+--------------------+-----------------+-----------------+-----------+-------------+-----------+-------------------+-------------+--------------+-----------------+---------------------------+-----------------+----------------------+------------------+-----------------------+------------------------------+-------------------------+------------------+\n",
       " | 11|292030|The Witcher 3: Wi...| 85182372| russian|Шикарная игра с о...|       1611376281|       1611376281|       true|            0|          0|                0.0|            0|          true|            false|                      false|76561198257031328|                    11|                 2|                  508.0|                         508.0|                    348.0|     1.611386568E9|\n",
       " | 13|292030|The Witcher 3: Wi...| 85181146| russian|Замечательная кар...|       1611374238|       1611374309|       true|            0|          0|                0.0|            0|          true|            false|                      false|76561197987104694|                   501|                23|                 7310.0|                           0.0|                   7310.0|     1.525554549E9|\n",
       " | 62|292030|The Witcher 3: Wi...| 85168239| russian|Безусловно одна и...|       1611354213|       1611354213|       true|            0|          0|                0.0|            0|          true|            false|                      false|76561198994938274|                    23|                 4|                 5026.0|                         977.0|                   5026.0|     1.611353521E9|\n",
       " | 65|292030|The Witcher 3: Wi...| 85167888| russian|Очень длинная бро...|       1611353696|       1611353696|       true|            0|          0|                0.0|            0|          true|            false|                      false|76561198882440127|                    11|                 4|                 2228.0|                           0.0|                   2228.0|     1.602971258E9|\n",
       " | 66|292030|The Witcher 3: Wi...| 85167706| russian|                 top|       1611353447|       1611353447|       true|            0|          0|                0.0|            0|          true|            false|                      false|76561198056090375|                    67|                 4|                 1873.0|                        1859.0|                   1813.0|     1.611386259E9|\n",
       " | 75|292030|The Witcher 3: Wi...| 85165751| russian|ОТЛИЧНАЯ РПГ)))ОЛ...|       1611350636|       1611350636|       true|            0|          0|                0.0|            0|          true|            false|                      false|76561199006895588|                    21|                 1|                11934.0|                          29.0|                  11904.0|     1.611380725E9|\n",
       " | 80|292030|The Witcher 3: Wi...| 85165157| russian|ИИИИИИИИУУУУУУУУУ...|       1611349869|       1611349869|       true|            0|          0|                0.0|            0|          true|            false|                      false|76561198136461143|                    46|                 2|                 3724.0|                        2866.0|                   3532.0|     1.611379042E9|\n",
       " | 85|292030|The Witcher 3: Wi...| 85163953| russian|Топ игра, советую...|       1611348293|       1611348293|       true|            1|          0|  0.523809552192688|            0|          true|            false|                      false|76561198308360704|                    17|                 1|                 2748.0|                         733.0|                   2748.0|     1.610629666E9|\n",
       " | 90|292030|The Witcher 3: Wi...| 85162784| russian|Сижу вот третью н...|       1611346732|       1611346732|       true|            0|          0|                0.0|            0|          true|            false|                      false|76561199120008376|                     3|                 1|                 1958.0|                         938.0|                   1699.0|     1.611362253E9|\n",
       " | 93|292030|The Witcher 3: Wi...| 85161557| russian|Нету людей которы...|       1611345109|       1611345109|       true|            1|          0|                0.0|            0|          true|            false|                      false|76561198219692041|                   159|                31|                 1757.0|                        1200.0|                   1692.0|      1.61134905E9|\n",
       " | 94|292030|The Witcher 3: Wi...| 85161536| russian|Что ещё можно ска...|       1611345080|       1611345080|       true|            0|          0|                0.0|            0|          true|            false|                      false|76561198451143947|                     2|                 1|                 4905.0|                        4882.0|                   4905.0|     1.611334599E9|\n",
       " | 97|292030|The Witcher 3: Wi...| 85160802| russian|много болтовни, н...|       1611344125|       1611344125|       true|            0|          0|                0.0|            0|          true|            false|                      false|76561198119499036|                   108|                30|                 2048.0|                        2048.0|                   2005.0|     1.611346687E9|\n",
       " | 99|292030|The Witcher 3: Wi...| 85160727| russian|Человек : Спасибо...|       1611344018|       1611344018|       true|            0|          0|                0.0|            0|          true|            false|                      false|76561198273074828|                   121|                21|                 7656.0|                           0.0|                   7656.0|     1.601206349E9|\n",
       " |100|292030|The Witcher 3: Wi...| 85160668| russian|                каво|       1611343933|       1611343933|       true|            0|          0|                0.0|            0|          true|            false|                      false|76561198402715361|                    25|                 1|                 1144.0|                         688.0|                   1094.0|     1.611375691E9|\n",
       " |101|292030|The Witcher 3: Wi...| 85160402| russian|просто пушка,очен...|       1611343599|       1611343599|       true|            0|          0|                0.0|            0|          true|            false|                      false|76561198977158133|                    19|                 5|                 3683.0|                        1558.0|                   3683.0|     1.611342962E9|\n",
       " |105|292030|The Witcher 3: Wi...| 85159811| russian|Никак вы б#лять н...|       1611342855|       1611342855|       true|            0|          0|                0.0|            0|          true|            false|                      false|76561198203307352|                    22|                 6|                  303.0|                           0.0|                    303.0|     1.593792437E9|\n",
       " |108|292030|The Witcher 3: Wi...| 85159433| russian|    Отличная игра!\\n|       1611342391|       1611342391|       true|            0|          0|                0.0|            0|          true|            false|                      false|76561198990643045|                     5|                 2|                 2840.0|                        1081.0|                   2803.0|     1.611344386E9|\n",
       " |114|292030|The Witcher 3: Wi...| 85157801| russian|        Игра шедевр.|       1611340277|       1611340277|       true|            0|          0|                0.0|            0|          true|            false|                      false|76561198276382269|                   116|                14|                 4588.0|                        1353.0|                   4564.0|     1.611341682E9|\n",
       " |117|292030|The Witcher 3: Wi...| 85157194| russian|Великолепно, сюже...|       1611339515|       1611339515|       true|            0|          0|                0.0|            0|          true|            false|                      false|76561199083923362|                     2|                 2|                 1200.0|                         750.0|                   1200.0|     1.611244312E9|\n",
       " |118|292030|The Witcher 3: Wi...| 85156904| russian|КАЧАААААААЙ!!!( к...|       1611339119|       1611339119|       true|            0|          0|                0.0|            0|          true|            false|                      false|76561198243379004|                    77|                 7|                 3545.0|                        2111.0|                   3391.0|     1.611351599E9|\n",
       " +---+------+--------------------+---------+--------+--------------------+-----------------+-----------------+-----------+-------------+-----------+-------------------+-------------+--------------+-----------------+---------------------------+-----------------+----------------------+------------------+-----------------------+------------------------------+-------------------------+------------------+\n",
       " only showing top 20 rows,\n",
       " 'lang=russian_free=False_rec=False': +----+------+--------------------+---------+--------+--------------------+-----------------+-----------------+-----------+-------------+-----------+-------------------+-------------+--------------+-----------------+---------------------------+-----------------+----------------------+------------------+-----------------------+------------------------------+-------------------------+------------------+\n",
       " | _c0|app_id|            app_name|review_id|language|              review|timestamp_created|timestamp_updated|recommended|votes_helpful|votes_funny|weighted_vote_score|comment_count|steam_purchase|received_for_free|written_during_early_access|   author_steamid|author_num_games_owned|author_num_reviews|author_playtime_forever|author_playtime_last_two_weeks|author_playtime_at_review|author_last_played|\n",
       " +----+------+--------------------+---------+--------+--------------------+-----------------+-----------------+-----------+-------------+-----------+-------------------+-------------+--------------+-----------------+---------------------------+-----------------+----------------------+------------------+-----------------------+------------------------------+-------------------------+------------------+\n",
       " | 146|292030|The Witcher 3: Wi...| 85153647| russian|скучно боевка хуи...|       1611335171|       1611335171|      false|            1|          0|                0.0|            0|         false|            false|                      false|76561198344619208|                    70|                24|                  279.0|                         135.0|                    261.0|      1.61133618E9|\n",
       " |1054|292030|The Witcher 3: Wi...| 84977022| russian|Тупой сюжет и нео...|       1611063902|       1611063902|      false|            1|          0| 0.4365079402923584|            0|          true|            false|                      false|76561198090926370|                   119|                27|                 2833.0|                           0.0|                   2833.0|     1.609253333E9|\n",
       " |1254|292030|The Witcher 3: Wi...| 84933666| russian|душнилово и ни ра...|       1611007362|       1611007362|      false|            2|          0| 0.4934834241867066|            0|          true|            false|                      false|76561198029646444|                   234|                93|                 3279.0|                         387.0|                   3279.0|     1.611006996E9|\n",
       " |1292|292030|The Witcher 3: Wi...| 84926203| russian|хрень галимая\\n\\n...|       1610996938|       1610996938|      false|            2|          0| 0.4789473712444306|            0|          true|            false|                      false|76561198342053894|                     4|                 1|                29540.0|                        1329.0|                  28330.0|      1.61138824E9|\n",
       " |1395|292030|The Witcher 3: Wi...| 84909285| russian|Игра на \"троечку\"...|       1610974991|       1610974991|      false|            2|          0|0.35485583543777466|            0|          true|            false|                      false|76561198846139869|                     5|                 2|                  357.0|                           0.0|                    357.0|     1.605451749E9|\n",
       " |1886|292030|The Witcher 3: Wi...| 84823674| russian|Все говно кроме к...|       1610848212|       1610848212|      false|            0|          0|                0.0|            0|          true|            false|                      false|76561198284769017|                    59|                 5|                  120.0|                           0.0|                    120.0|     1.604175022E9|\n",
       " |2294|292030|The Witcher 3: Wi...| 84752780| russian|пастояно сохроняе...|       1610748808|       1610748808|      false|            0|          0|                0.0|            0|          true|            false|                      false|76561199124817574|                     3|                 1|                 2782.0|                        1746.0|                   2502.0|     1.611259281E9|\n",
       " |2510|292030|The Witcher 3: Wi...| 84716555| russian|       Очень скучно.|       1610700673|       1610700673|      false|            2|          0|             0.4375|            0|          true|            false|                      false|76561198972964714|                    89|                 3|                 7348.0|                        5656.0|                   3488.0|     1.611350507E9|\n",
       " |2612|292030|The Witcher 3: Wi...| 84696596| russian|           x y e T a|       1610664794|       1610664794|      false|            0|          0|0.44609665870666493|            1|          true|            false|                      false|76561198306506884|                     5|                 3|                 1361.0|                           0.0|                   1361.0|     1.556580996E9|\n",
       " |2644|292030|The Witcher 3: Wi...| 84689442| russian|Я пять лет слышал...|       1610654614|       1610654614|      false|            2|          1|   0.47826087474823|            0|          true|            false|                      false|76561198300319512|                    38|                16|                 5276.0|                        1399.0|                   4365.0|     1.611363006E9|\n",
       " |2851|292030|The Witcher 3: Wi...| 84657990| russian|Наверное я инопла...|       1610611879|       1610611879|      false|            2|          1| 0.4595842957496643|            0|          true|            false|                      false|76561199121488496|                    12|                 1|                   16.0|                          16.0|                     16.0|     1.610610354E9|\n",
       " |4130|292030|The Witcher 3: Wi...| 84447314| russian|Люди вы eбaнутые!...|       1610305214|       1610305510|      false|            5|          2| 0.4814814925193786|            3|          true|            false|                      false|76561198073576014|                   439|                 5|               291587.0|                           0.0|                 291587.0|     1.605810359E9|\n",
       " |4154|292030|The Witcher 3: Wi...| 84444041| russian|очень скучная игр...|       1610301657|       1610901405|      false|            0|          2| 0.4726996719837189|            0|          true|            false|                      false|76561198124661217|                    50|                 4|                16386.0|                        5253.0|                  14736.0|     1.611341832E9|\n",
       " |4166|292030|The Witcher 3: Wi...| 84441835| russian| не понравилась игра|       1610299270|       1610299270|      false|            0|          0|  0.498400866985321|            0|          true|            false|                      false|76561198210333139|                    64|                10|                  983.0|                           0.0|                    983.0|      1.60978879E9|\n",
       " |4336|292030|The Witcher 3: Wi...| 84420475| russian|Баги хюстон... ОН...|       1610275162|       1610275162|      false|            0|          0|                0.0|            0|          true|            false|                      false|76561198080869164|                    64|                 7|                 1604.0|                        1108.0|                    718.0|     1.611320214E9|\n",
       " |4388|292030|The Witcher 3: Wi...| 84412700| russian|gavno dl9 sobak d...|       1610263378|       1610263378|      false|            0|          0|  0.498400866985321|            0|          true|            false|                      false|76561198069342458|                     4|                 1|                 1038.0|                           0.0|                   1038.0|     1.579434971E9|\n",
       " |4393|292030|The Witcher 3: Wi...| 84411639| russian|               такое|       1610261853|       1610261853|      false|            0|          0|0.43528863787651056|            0|          true|            false|                      false|76561198851569064|                    72|                 6|                 1217.0|                           0.0|                   1217.0|     1.610133223E9|\n",
       " |4512|292030|The Witcher 3: Wi...| 84393032| russian|Отличная визуальн...|       1610235576|       1610235576|      false|            1|          0|  0.479805588722229|            0|          true|            false|                      false|76561198061692316|                    32|                 1|                 6256.0|                        1460.0|                   5271.0|     1.610491959E9|\n",
       " |5047|292030|The Witcher 3: Wi...| 84315887| russian|Позорище. Игра по...|       1610140851|       1610140851|      false|            1|          2| 0.3674817383289337|            0|          true|            false|                      false|76561198102029376|                    67|                20|                21145.0|                        1461.0|                  19633.0|     1.611262964E9|\n",
       " |5151|292030|The Witcher 3: Wi...| 84299655| russian|     Хрень а не игра|       1610123714|       1610123714|      false|            0|          2| 0.4797563850879668|            0|          true|            false|                      false|76561198153990041|                    38|                16|                 6249.0|                           0.0|                   6249.0|     1.610123665E9|\n",
       " +----+------+--------------------+---------+--------+--------------------+-----------------+-----------------+-----------+-------------+-----------+-------------------+-------------+--------------+-----------------+---------------------------+-----------------+----------------------+------------------+-----------------------+------------------------------+-------------------------+------------------+\n",
       " only showing top 20 rows,\n",
       " 'lang=brazilian_free=True_rec=True': +-----+------+--------------------+---------+---------+---------------------+-----------------+-----------------+-----------+-------------+-----------+-------------------+-------------+--------------+-----------------+---------------------------+-----------------+----------------------+------------------+-----------------------+------------------------------+-------------------------+------------------+\n",
       " |  _c0|app_id|            app_name|review_id| language|               review|timestamp_created|timestamp_updated|recommended|votes_helpful|votes_funny|weighted_vote_score|comment_count|steam_purchase|received_for_free|written_during_early_access|   author_steamid|author_num_games_owned|author_num_reviews|author_playtime_forever|author_playtime_last_two_weeks|author_playtime_at_review|author_last_played|\n",
       " +-----+------+--------------------+---------+---------+---------------------+-----------------+-----------------+-----------+-------------+-----------+-------------------+-------------+--------------+-----------------+---------------------------+-----------------+----------------------+------------------+-----------------------+------------------------------+-------------------------+------------------+\n",
       " |  961|292030|The Witcher 3: Wi...| 84996160|brazilian| jogo muito bom, c...|       1611088617|       1611088617|       true|            0|          0|                0.0|            0|          true|             true|                      false|76561199072490104|                     4|                 1|                 1784.0|                        1766.0|                    186.0|     1.611367576E9|\n",
       " | 2279|292030|The Witcher 3: Wi...| 84756036|brazilian|                gozei|       1610753161|       1610753161|       true|            0|          0|                0.0|            0|          true|             true|                      false|76561199003251839|                    19|                 2|                  702.0|                           4.0|                    702.0|     1.610430879E9|\n",
       " | 2622|292030|The Witcher 3: Wi...| 84695057|brazilian| cara,jogo simples...|       1610662474|       1610662474|       true|            0|          0|                0.0|            0|         false|             true|                      false|76561198282203026|                    50|                 2|                  932.0|                         494.0|                    770.0|     1.610772012E9|\n",
       " | 3656|292030|The Witcher 3: Wi...| 84523991|brazilian|          muito bom\\n|       1610413096|       1610413096|       true|            0|          0|                0.0|            0|          true|             true|                      false|76561198358212938|                    64|                 2|                  487.0|                          52.0|                    435.0|     1.610829256E9|\n",
       " | 4527|292030|The Witcher 3: Wi...| 84390431|brazilian| Mesmo sendo um jo...|       1610232354|       1610232354|       true|            1|          0|  0.523809552192688|            0|          true|             true|                      false|76561198801876428|                    13|                 3|                 3906.0|                         850.0|                   3422.0|     1.610556061E9|\n",
       " | 4999|292030|The Witcher 3: Wi...| 84323221|brazilian|             ta bom\\n|       1610149262|       1610149262|       true|            0|          0|                0.0|            0|         false|             true|                      false|76561198954801440|                    27|                 7|                  844.0|                           0.0|                    844.0|     1.605713956E9|\n",
       " | 5161|292030|The Witcher 3: Wi...| 84298370|brazilian|\\n\\n⢮⠭⠍⠉⠉⠒⠤⣀\\n⢀⢊　...|       1610122245|       1610122245|       true|            0|          1|                0.0|            0|          true|             true|                      false|76561199064175318|                    10|                 6|                  655.0|                           0.0|                    647.0|     1.610156897E9|\n",
       " | 7456|292030|The Witcher 3: Wi...| 83975359|brazilian| Por mais que eu t...|       1609752980|       1609752980|       true|            0|          0|                0.0|            0|         false|             true|                      false|76561198343154620|                   177|                75|                 1620.0|                           0.0|                   1620.0|     1.609633934E9|\n",
       " | 8337|292030|The Witcher 3: Wi...| 83844552|brazilian|             legal \\n|       1609618833|       1609618833|       true|            0|          0|                0.0|            0|          true|             true|                      false|76561198869450456|                    12|                 1|                 1038.0|                          16.0|                    962.0|     1.611321317E9|\n",
       " | 8847|292030|The Witcher 3: Wi...| 83777863|brazilian| ---{Graficos}---\\...|       1609553939|       1610666524|       true|            1|          0|  0.523809552192688|            0|          true|             true|                      false|76561199115735853|                     1|                 1|                 6836.0|                         608.0|                   6664.0|      1.61136772E9|\n",
       " | 9176|292030|The Witcher 3: Wi...| 83729519|brazilian| Jogo zika tem mui...|       1609509015|       1609509015|       true|            0|          1|                0.0|            0|          true|             true|                      false|76561199024407495|                    20|                 1|                 1715.0|                         193.0|                   1312.0|      1.61089153E9|\n",
       " |11234|292030|The Witcher 3: Wi...| 83450936|brazilian| Melhor jogo de to...|       1609218302|       1609218302|       true|            0|          0|                0.0|            0|          true|             true|                      false|76561198072424511|                   127|                 3|                14445.0|                        2065.0|                  10238.0|     1.611374104E9|\n",
       " |14380|292030|The Witcher 3: Wi...| 83015802|brazilian| Melhor jogo da ge...|       1608787137|       1608787137|       true|            0|          0| 0.4761904776096344|            0|          true|             true|                      false|76561198085653802|                    21|                 2|                 1534.0|                           0.0|                   1521.0|     1.610072464E9|\n",
       " |14977|292030|The Witcher 3: Wi...| 82919569|brazilian|   muito bom esse fps|       1608684325|       1608684325|       true|            0|          0|                0.0|            0|          true|             true|                      false|76561198330315461|                    18|                 3|                 3368.0|                           0.0|                   3158.0|     1.609248871E9|\n",
       " |16078|292030|The Witcher 3: Wi...| 82763129|brazilian|            Muito bom|       1608474059|       1608474059|       true|            0|          0|                0.0|            0|          true|             true|                      false|76561198833896880|                    15|                 4|                 3574.0|                          54.0|                   1793.0|     1.610997952E9|\n",
       " |16383|292030|The Witcher 3: Wi...| 82713139|brazilian| Um dos melhores e...|       1608410600|       1608410600|       true|            0|          0|                0.0|            0|         false|             true|                      false|76561198806945924|                    44|                 7|                 5828.0|                         320.0|                   3836.0|     1.610549053E9|\n",
       " |17242|292030|The Witcher 3: Wi...| 82595762|brazilian|               pika\\n|       1608256002|       1608256002|       true|            0|          0|                0.0|            0|          true|             true|                      false|76561198815511592|                    16|                 2|                 3948.0|                           0.0|                   1858.0|     1.609337483E9|\n",
       " |17311|292030|The Witcher 3: Wi...| 82584888|brazilian|                top\\n|       1608240089|       1608240089|       true|            0|          0|                0.0|            0|          true|             true|                      false|76561198240416648|                    26|                 1|                13267.0|                           0.0|                  13267.0|     1.559014454E9|\n",
       " |18748|292030|The Witcher 3: Wi...| 82378719|brazilian| Sem duvidas o mel...|       1607986231|       1607986231|       true|            0|          0|                0.0|            0|          true|             true|                      false|76561198154007401|                     6|                 1|                 2856.0|                           0.0|                   1223.0|     1.608680185E9|\n",
       " |19174|292030|The Witcher 3: Wi...| 82327530|brazilian| Esse jogo é o amo...|       1607930306|       1607930306|       true|            1|          0|  0.523809552192688|            0|          true|             true|                      false|76561198066985340|                   765|               189|                12180.0|                           0.0|                  12180.0|     1.540722865E9|\n",
       " +-----+------+--------------------+---------+---------+---------------------+-----------------+-----------------+-----------+-------------+-----------+-------------------+-------------+--------------+-----------------+---------------------------+-----------------+----------------------+------------------+-----------------------+------------------------------+-------------------------+------------------+\n",
       " only showing top 20 rows,\n",
       " 'lang=brazilian_free=True_rec=False': +-------+------+--------------------+---------+---------+--------------------+-----------------+-----------------+-----------+-------------+-----------+-------------------+-------------+--------------+-----------------+---------------------------+-----------------+----------------------+------------------+-----------------------+------------------------------+-------------------------+------------------+\n",
       " |    _c0|app_id|            app_name|review_id| language|              review|timestamp_created|timestamp_updated|recommended|votes_helpful|votes_funny|weighted_vote_score|comment_count|steam_purchase|received_for_free|written_during_early_access|   author_steamid|author_num_games_owned|author_num_reviews|author_playtime_forever|author_playtime_last_two_weeks|author_playtime_at_review|author_last_played|\n",
       " +-------+------+--------------------+---------+---------+--------------------+-----------------+-----------------+-----------+-------------+-----------+-------------------+-------------+--------------+-----------------+---------------------------+-----------------+----------------------+------------------+-----------------------+------------------------------+-------------------------+------------------+\n",
       " |  44934|292030|The Witcher 3: Wi...| 78572266|brazilian|jogei 6 horas o j...|       1604294912|       1604294912|      false|            0|          3|0.42325583100318903|            0|          true|             true|                      false|76561198891560852|                     1|                 1|                  568.0|                           0.0|                    397.0|     1.605998196E9|\n",
       " |  45014|292030|The Witcher 3: Wi...| 78559263|brazilian|                Sim.|       1604273037|       1604273037|      false|            0|          0|                0.0|            0|         false|             true|                      false|76561198257209659|                    96|                19|                   35.0|                           0.0|                     35.0|     1.587500838E9|\n",
       " | 277201|292030|The Witcher 3: Wi...| 48534167|brazilian|merda porra lixo ...|       1548388591|       1548388591|      false|            0|          1|  0.293333351612091|            0|          true|             true|                      false|76561198274825863|                    74|                14|                  938.0|                         293.0|                     67.0|     1.610953863E9|\n",
       " | 279690|292030|The Witcher 3: Wi...| 47941321|brazilian|Não gostei. Passe...|       1546129304|       1546129304|      false|            3|         20|  0.299366146326065|            0|         false|             true|                      false|76561198219809969|                    67|                 6|                  244.0|                           0.0|                    244.0|     1.538350536E9|\n",
       " | 313864|292030|The Witcher 3: Wi...| 43643259|brazilian|É basicamente uma...|       1532094530|       1532094530|      false|            5|         12|0.35054177045822144|            0|          true|             true|                      false|76561198100458358|                    32|                 5|                 5271.0|                           0.0|                   3634.0|     1.600007551E9|\n",
       " | 420125|292030|The Witcher 3: Wi...| 26375361|brazilian|Pior jogo que já ...|       1478103180|       1478103180|      false|           13|        124| 0.1546102911233902|           74|          true|             true|                      false|76561198018049796|                  2483|               180|                  171.0|                           0.0|                     75.0|     1.577442254E9|\n",
       " | 488607|    70|           Half-Life| 63031326|brazilian|Depois da fase in...|       1580948839|       1580948839|      false|            0|          0|                0.0|            0|          true|             true|                      false|76561198835484353|                     8|                 1|                  164.0|                           0.0|                    164.0|     1.531960317E9|\n",
       " | 489123|    70|           Half-Life| 62713585|brazilian| Meio M e r da .....|       1580440003|       1580440003|      false|            0|          1|0.43298968672752386|            0|         false|             true|                      false|76561198192695553|                    89|                38|                    7.0|                           0.0|                      7.0|     1.579724039E9|\n",
       " | 506822|    70|           Half-Life| 39037386|brazilian|A saga Half-Life ...|       1515043868|       1515043868|      false|            1|          0| 0.3949895799160004|            3|          true|             true|                      false|76561198095283839|                    19|                 2|                 1261.0|                           0.0|                    391.0|     1.564798738E9|\n",
       " | 527511|   240|Counter-Strike: S...| 84267941|brazilian|me foi dado como ...|       1610081220|       1610081220|      false|            1|          0| 0.5070422291755676|            0|         false|             true|                      false|76561198952949809|                    15|                 1|                  191.0|                         191.0|                    191.0|     1.610028657E9|\n",
       " | 534567|   240|Counter-Strike: S...| 76375543|brazilian|Muito pouco servi...|       1600777449|       1600777449|      false|            0|          0|                0.0|            0|         false|             true|                      false|76561199055388410|                     7|                 3|                   30.0|                           0.0|                     30.0|     1.600622587E9|\n",
       " | 537707|   240|Counter-Strike: S...| 72825263|brazilian|Caro e ultrapassa...|       1594965579|       1594965579|      false|            0|          0|                0.0|            0|          true|             true|                      false|76561198833075797|                    12|                 5|                 3673.0|                           0.0|                   3672.0|     1.596078216E9|\n",
       " | 546806|   240|Counter-Strike: S...| 64669016|brazilian|                   p|       1583611571|       1583611571|      false|            0|          0|                0.0|            0|         false|             true|                      false|76561198883336363|                     2|                 3|                  163.0|                           0.0|                    162.0|     1.594664445E9|\n",
       " | 567467|   240|Counter-Strike: S...| 50790250|brazilian|Os cara usa hacke...|       1558644024|       1558644024|      false|            1|          1| 0.4797297418117523|            0|          true|             true|                      false|76561198093701966|                   187|                54|                 9336.0|                           0.0|                   2656.0|      1.60528956E9|\n",
       " | 585164|   240|Counter-Strike: S...| 33009358|brazilian|bomm de mais fih ...|       1498769045|       1498769045|      false|            1|          1| 0.4979423582553864|            0|          true|             true|                      false|76561198319762459|                    53|                 5|                 2508.0|                           0.0|                   1833.0|     1.558396524E9|\n",
       " | 596981|   240|Counter-Strike: S...| 23616541|brazilian|JOGO DE USUÁRIOS ...|       1466180638|       1466180638|      false|            1|          2| 0.4263899922370912|            0|         false|             true|                      false|76561198193329915|                     2|                 2|                   85.0|                           0.0|                     85.0|     1.455242149E9|\n",
       " | 766546|   620|            Portal 2| 49878015|brazilian|Todo mundo gosta\\...|       1554049467|       1554049467|      false|            0|          1|                0.0|            0|         false|             true|                      false|76561198277788620|                    56|                 2|                  733.0|                           0.0|                    578.0|      1.60501525E9|\n",
       " | 951476|  4000|         Garry's Mod| 78046707|brazilian|o jogo não é bom,...|       1603502581|       1603502581|      false|            0|          0|                0.0|            0|         false|             true|                      false|76561198918941267|                    10|                18|                 1617.0|                           0.0|                   1617.0|     1.589804517E9|\n",
       " |1138031|  4000|         Garry's Mod| 57781681|brazilian|ewqasdade v  uyRG...|       1574616886|       1574616886|      false|            0|          0|                0.0|            0|          true|             true|                      false|76561198840098877|                     9|                 6|                  254.0|                           0.0|                     36.0|     1.576508045E9|\n",
       " |1198902|  4000|         Garry's Mod| 51484723|brazilian|                 N O|       1561602998|       1561602998|      false|            0|          0| 0.4545454680919647|            0|         false|             true|                      false|76561198102233826|                    79|                 6|                   53.0|                           0.0|                     53.0|     1.561505583E9|\n",
       " +-------+------+--------------------+---------+---------+--------------------+-----------------+-----------------+-----------+-------------+-----------+-------------------+-------------+--------------+-----------------+---------------------------+-----------------+----------------------+------------------+-----------------------+------------------------------+-------------------------+------------------+\n",
       " only showing top 20 rows,\n",
       " 'lang=brazilian_free=False_rec=True': +---+------+--------------------+---------+---------+--------------------+-----------------+-----------------+-----------+-------------+-----------+-------------------+-------------+--------------+-----------------+---------------------------+-----------------+----------------------+------------------+-----------------------+------------------------------+-------------------------+------------------+\n",
       " |_c0|app_id|            app_name|review_id| language|              review|timestamp_created|timestamp_updated|recommended|votes_helpful|votes_funny|weighted_vote_score|comment_count|steam_purchase|received_for_free|written_during_early_access|   author_steamid|author_num_games_owned|author_num_reviews|author_playtime_forever|author_playtime_last_two_weeks|author_playtime_at_review|author_last_played|\n",
       " +---+------+--------------------+---------+---------+--------------------+-----------------+-----------------+-----------+-------------+-----------+-------------------+-------------+--------------+-----------------+---------------------------+-----------------+----------------------+------------------+-----------------------+------------------------------+-------------------------+------------------+\n",
       " | 29|292030|The Witcher 3: Wi...| 85177505|brazilian|Se um dia alguém ...|       1611368498|       1611368498|       true|            1|          0|  0.523809552192688|            0|          true|            false|                      false|76561198844659805|                    70|                 4|                11115.0|                        2252.0|                  11115.0|     1.611186216E9|\n",
       " | 32|292030|The Witcher 3: Wi...| 85176661|brazilian|                NULL|       1611367193|       1611367193|       true|            0|          0|                0.0|            0|          true|            false|                      false|76561198076880796|                   127|                13|                  875.0|                         752.0|                    826.0|     1.611370135E9|\n",
       " | 34|292030|The Witcher 3: Wi...| 85176249|brazilian|       Obra prima!!!|       1611366524|       1611366524|       true|            0|          0|                0.0|            0|          true|            false|                      false|76561198957873353|                    32|                 1|                 2888.0|                        1475.0|                   2888.0|      1.61136602E9|\n",
       " | 43|292030|The Witcher 3: Wi...| 85173023|brazilian|     Jogão da porra.|       1611361229|       1611361229|       true|            0|          0|                0.0|            0|          true|            false|                      false|76561198141110905|                    59|                 4|                20193.0|                        3692.0|                  20193.0|     1.611297095E9|\n",
       " | 48|292030|The Witcher 3: Wi...| 85172417|brazilian|           very foda|       1611360271|       1611360271|       true|            0|          0|                0.0|            0|          true|            false|                      false|76561198107351100|                    60|                 5|                 2104.0|                        2037.0|                   1882.0|     1.611386289E9|\n",
       " | 57|292030|The Witcher 3: Wi...| 85169737|brazilian|                 bom|       1611356281|       1611356281|       true|            0|          0|                0.0|            0|          true|            false|                      false|76561198797047686|                     9|                 2|                 2007.0|                           0.0|                   2007.0|     1.610078309E9|\n",
       " | 81|292030|The Witcher 3: Wi...| 85164472|brazilian|          otimo jogo|       1611348995|       1611348995|       true|            0|          0|                0.0|            0|          true|            false|                      false|76561199101134482|                     3|                 2|                  512.0|                         512.0|                    463.0|     1.611385928E9|\n",
       " | 88|292030|The Witcher 3: Wi...| 85162842|brazilian|        Sensacional!|       1611346809|       1611346809|       true|            0|          0|                0.0|            0|          true|            false|                      false|76561199037106126|                     3|                 1|                 5148.0|                           0.0|                   5148.0|     1.597123981E9|\n",
       " |111|292030|The Witcher 3: Wi...| 85158398|brazilian|otima historia e ...|       1611341069|       1611341069|       true|            0|          0|                0.0|            0|          true|            false|                      false|76561198963219747|                     9|                 3|                  470.0|                         361.0|                    470.0|     1.611285861E9|\n",
       " |125|292030|The Witcher 3: Wi...| 85155655|brazilian|                BOOM|       1611337598|       1611337598|       true|            0|          0|                0.0|            0|          true|            false|                      false|76561198050995742|                   500|                 1|                  296.0|                          24.0|                    272.0|     1.611366201E9|\n",
       " |144|292030|The Witcher 3: Wi...| 85153696|brazilian|Esse realmente é ...|       1611335229|       1611335229|       true|            1|          0|  0.523809552192688|            0|          true|            false|                      false|76561199085913176|                     7|                 1|                 1474.0|                        1094.0|                   1260.0|     1.611372944E9|\n",
       " |208|292030|The Witcher 3: Wi...| 85143070|brazilian|todo o jogo é not...|       1611322418|       1611322418|       true|            0|          0|                0.0|            0|          true|            false|                      false|76561198038509141|                    21|                 3|                48880.0|                          72.0|                  48807.0|     1.611333912E9|\n",
       " |238|292030|The Witcher 3: Wi...| 85136390|brazilian|Muito bom estou j...|       1611312844|       1611312844|       true|            0|          0|                0.0|            0|          true|            false|                      false|76561199024691542|                    18|                 1|                 2687.0|                        1326.0|                   2398.0|     1.611330785E9|\n",
       " |335|292030|The Witcher 3: Wi...| 85117985|brazilian|O Jogo é simplesm...|       1611279245|       1611279245|       true|            0|          0|                0.0|            0|          true|            false|                      false|76561198870484908|                    27|                 1|                 7210.0|                        3436.0|                   7210.0|      1.61127882E9|\n",
       " |337|292030|The Witcher 3: Wi...| 85117726|brazilian|          otimo game|       1611278823|       1611278823|       true|            0|          0|                0.0|            0|          true|            false|                      false|76561199094954111|                     1|                 1|                 1639.0|                         659.0|                   1601.0|     1.611368001E9|\n",
       " |351|292030|The Witcher 3: Wi...| 85114419|brazilian|      QUE BOSTA EM\\n|       1611273032|       1611273032|       true|            1|          0|                0.0|            0|         false|            false|                      false|76561198193383369|                    20|                 1|                 3069.0|                           0.0|                   3069.0|     1.604422903E9|\n",
       " |358|292030|The Witcher 3: Wi...| 85112600|brazilian|um dos melhores j...|       1611269662|       1611269662|       true|            0|          0|                0.0|            0|          true|            false|                      false|76561198807022597|                    45|                 5|                 5628.0|                         125.0|                   5628.0|     1.610766071E9|\n",
       " |384|292030|The Witcher 3: Wi...| 85107836|brazilian|    MUITO BOM JOGO!!|       1611262294|       1611262294|       true|            0|          0|                0.0|            0|          true|            false|                      false|76561198332845381|                    39|                 7|                 4925.0|                        1178.0|                   4482.0|      1.61128876E9|\n",
       " |442|292030|The Witcher 3: Wi...| 85097287|brazilian|           Muito bom|       1611248408|       1611248408|       true|            0|          0|                0.0|            0|          true|            false|                      false|76561198860269939|                    28|                 3|                 2710.0|                        1531.0|                   2710.0|     1.611247115E9|\n",
       " |463|292030|The Witcher 3: Wi...| 85092821|brazilian|Sem palavras para...|       1611242670|       1611242670|       true|            0|          1|  0.523809552192688|            0|          true|            false|                      false|76561198301122179|                    54|                 1|                 3298.0|                        1834.0|                   3298.0|     1.610988265E9|\n",
       " +---+------+--------------------+---------+---------+--------------------+-----------------+-----------------+-----------+-------------+-----------+-------------------+-------------+--------------+-----------------+---------------------------+-----------------+----------------------+------------------+-----------------------+------------------------------+-------------------------+------------------+\n",
       " only showing top 20 rows,\n",
       " 'lang=brazilian_free=False_rec=False': +-----+------+--------------------+---------+---------+--------------------+-----------------+-----------------+-----------+-------------+-----------+-------------------+-------------+--------------+-----------------+---------------------------+-----------------+----------------------+------------------+-----------------------+------------------------------+-------------------------+------------------+\n",
       " |  _c0|app_id|            app_name|review_id| language|              review|timestamp_created|timestamp_updated|recommended|votes_helpful|votes_funny|weighted_vote_score|comment_count|steam_purchase|received_for_free|written_during_early_access|   author_steamid|author_num_games_owned|author_num_reviews|author_playtime_forever|author_playtime_last_two_weeks|author_playtime_at_review|author_last_played|\n",
       " +-----+------+--------------------+---------+---------+--------------------+-----------------+-----------------+-----------+-------------+-----------+-------------------+-------------+--------------+-----------------+---------------------------+-----------------+----------------------+------------------+-----------------------+------------------------------+-------------------------+------------------+\n",
       " | 1404|292030|The Witcher 3: Wi...| 84908275|brazilian|joguei pouco, mai...|       1610973613|       1610973613|      false|            0|          0| 0.4761904776096344|            0|          true|            false|                      false|76561198990915445|                     3|                 1|                 1085.0|                         708.0|                   1085.0|     1.610902097E9|\n",
       " | 2216|292030|The Witcher 3: Wi...| 84769640|brazilian|   jogo meio méh ://|       1610775003|       1610775003|      false|            1|          1|   0.47826087474823|            0|          true|            false|                      false|76561198248696028|                   287|                30|                 9554.0|                           0.0|                   9554.0|     1.607287809E9|\n",
       " | 2599|292030|The Witcher 3: Wi...| 84700237|brazilian|jogo consome sua ...|       1610670885|       1610670885|      false|            1|          1|                0.5|            0|          true|            false|                      false|76561198402840692|                    38|                 3|                 7929.0|                        7494.0|                   4983.0|     1.611209668E9|\n",
       " | 3284|292030|The Witcher 3: Wi...| 84578011|brazilian|Não me acostumei ...|       1610490684|       1610490684|      false|            0|          0|                0.0|            0|          true|            false|                      false|76561198170058269|                    46|                20|                  547.0|                         547.0|                    547.0|     1.610490572E9|\n",
       " | 6488|292030|The Witcher 3: Wi...| 84106367|brazilian|  Cyberpunk é melhor|       1609886193|       1609886193|      false|            0|          2| 0.4545454680919647|            0|          true|            false|                      false|76561198276173014|                    22|                 2|                  807.0|                           0.0|                    694.0|     1.610047911E9|\n",
       " | 8979|292030|The Witcher 3: Wi...| 83756828|brazilian|podre, horrivel, ...|       1609533209|       1609533209|      false|            1|          0|   0.47826087474823|            0|          true|            false|                      false|76561199084057259|                    15|                 1|                  130.0|                           0.0|                    130.0|     1.609532378E9|\n",
       " |10671|292030|The Witcher 3: Wi...| 83525675|brazilian|achei bem intediante|       1609290123|       1609290123|      false|            1|          0|  0.484000027179718|            0|          true|            false|                      false|76561199049715638|                    10|                 5|                  151.0|                           0.0|                    151.0|       1.6070315E9|\n",
       " |11500|292030|The Witcher 3: Wi...| 83406517|brazilian|      nao gostei mto|       1609177229|       1610745628|      false|            0|          0| 0.4761904776096344|            0|          true|            false|                      false|76561199052056764|                     7|                 2|                  261.0|                          52.0|                    261.0|     1.610738438E9|\n",
       " |11993|292030|The Witcher 3: Wi...| 83340274|brazilian|O jogo é claramen...|       1609111386|       1609111386|      false|            0|          3| 0.4014598727226257|            0|          true|            false|                      false|76561198071494311|                    24|                 1|                 4057.0|                           0.0|                   4057.0|     1.609019015E9|\n",
       " |11996|292030|The Witcher 3: Wi...| 83339776|brazilian|enfiaram o antise...|       1609111000|       1609302357|      false|            0|          0|   0.47826087474823|            0|          true|            false|                      false|76561199006696184|                    31|                10|                  562.0|                           7.0|                    551.0|     1.610667286E9|\n",
       " |12506|292030|The Witcher 3: Wi...| 83270478|brazilian|NÃO COMPREM!!!\\n\\...|       1609050218|       1609050218|      false|            0|          2| 0.4761904776096344|            0|          true|            false|                      false|76561198383481924|                    29|                13|                 1880.0|                           0.0|                    644.0|      1.60961592E9|\n",
       " |14150|292030|The Witcher 3: Wi...| 83043122|brazilian|The Witcher 3 é d...|       1608819750|       1608822369|      false|            0|          0|                0.0|            0|          true|            false|                      false|76561198049210856|                   109|                 1|                 7910.0|                           0.0|                   6317.0|     1.609515179E9|\n",
       " |14951|292030|The Witcher 3: Wi...| 82923075|brazilian|                   .|       1608688808|       1608688808|      false|            1|          0|  0.523809552192688|            0|          true|            false|                      false|76561198453359294|                    13|                 2|                  788.0|                           0.0|                    625.0|     1.609002246E9|\n",
       " |20625|292030|The Witcher 3: Wi...| 82106111|brazilian|para de olhar rev...|       1607718872|       1608034679|      false|            0|          3|                0.0|            0|          true|            false|                      false|76561198400490622|                    44|                 9|                 9469.0|                           2.0|                   1414.0|     1.610760108E9|\n",
       " |28012|292030|The Witcher 3: Wi...| 81070612|brazilian|Tentei. Não consi...|       1606661614|       1606661614|      false|            0|          0|0.43924701213836664|            0|         false|            false|                      false|76561198135145914|                   139|                19|                  128.0|                           0.0|                    128.0|     1.589613258E9|\n",
       " |38024|292030|The Witcher 3: Wi...| 79787776|brazilian|chato para caralh...|       1606283241|       1606283241|      false|            0|          0| 0.4000000059604645|            0|          true|            false|                      false|76561198917153569|                    12|                 8|                  682.0|                           0.0|                    649.0|     1.608975652E9|\n",
       " |38038|292030|The Witcher 3: Wi...| 79784614|brazilian|Camera horrivel, ...|       1606275800|       1606275800|      false|            1|          1| 0.4870466291904449|            0|          true|            false|                      false|76561198116527664|                    62|                 6|                  275.0|                           0.0|                    275.0|     1.587494032E9|\n",
       " |38996|292030|The Witcher 3: Wi...| 79619729|brazilian|tá olhando as rev...|       1605984325|       1605984325|      false|           24|         19| 0.6098210215568542|            1|          true|            false|                      false|76561198975070048|                    28|                 4|                 1119.0|                           0.0|                   1119.0|     1.602419225E9|\n",
       " |44713|292030|The Witcher 3: Wi...| 78600751|brazilian|jogo cheio de fal...|       1604335825|       1604335825|      false|            0|          2| 0.4761904776096344|            0|          true|            false|                      false|76561198258614240|                     9|                 2|                 1213.0|                           0.0|                    245.0|     1.606667606E9|\n",
       " |46111|292030|The Witcher 3: Wi...| 78372725|brazilian|            forçaram|       1604022643|       1604022643|      false|            0|          0| 0.4794520437717437|            0|          true|            false|                      false|76561198165872886|                    34|                 2|                  281.0|                           0.0|                    281.0|     1.578962476E9|\n",
       " +-----+------+--------------------+---------+---------+--------------------+-----------------+-----------------+-----------+-------------+-----------+-------------------+-------------+--------------+-----------------+---------------------------+-----------------+----------------------+------------------+-----------------------+------------------------------+-------------------------+------------------+\n",
       " only showing top 20 rows,\n",
       " 'lang=spanish_free=True_rec=True': +-----+------+--------------------+---------+--------+--------------------+-----------------+-----------------+-----------+-------------+-----------+-------------------+-------------+--------------+-----------------+---------------------------+-----------------+----------------------+------------------+-----------------------+------------------------------+-------------------------+------------------+\n",
       " |  _c0|app_id|            app_name|review_id|language|              review|timestamp_created|timestamp_updated|recommended|votes_helpful|votes_funny|weighted_vote_score|comment_count|steam_purchase|received_for_free|written_during_early_access|   author_steamid|author_num_games_owned|author_num_reviews|author_playtime_forever|author_playtime_last_two_weeks|author_playtime_at_review|author_last_played|\n",
       " +-----+------+--------------------+---------+--------+--------------------+-----------------+-----------------+-----------+-------------+-----------+-------------------+-------------+--------------+-----------------+---------------------------+-----------------+----------------------+------------------+-----------------------+------------------------------+-------------------------+------------------+\n",
       " |10160|292030|The Witcher 3: Wi...| 83595145| spanish|Aún no me lo he p...|       1609360609|       1609360609|       true|            1|          0|  0.523809552192688|            0|         false|             true|                      false|76561198310928390|                   158|                54|                 1250.0|                          21.0|                   1228.0|     1.610742336E9|\n",
       " |12043|292030|The Witcher 3: Wi...| 83330233| spanish|    INCREHIUBLE!!!\\n|       1609103157|       1609103157|       true|            0|          0|                0.0|            0|          true|             true|                      false|76561198302874977|                     4|                 1|                 2091.0|                           0.0|                    237.0|     1.610124549E9|\n",
       " |31401|292030|The Witcher 3: Wi...| 80642738| spanish|Increible Juegazo...|       1606488779|       1606488779|       true|            0|          0|                0.0|            0|          true|             true|                      false|76561198359891543|                    17|                 4|                 5770.0|                           0.0|                   5770.0|     1.606488699E9|\n",
       " |38702|292030|The Witcher 3: Wi...| 79665025| spanish|              picuza|       1606058939|       1606058939|       true|            0|          0|                0.0|            0|          true|             true|                      false|76561198288114307|                    17|                 8|                  624.0|                           0.0|                    395.0|     1.608939647E9|\n",
       " |45475|292030|The Witcher 3: Wi...| 78480995| spanish|una pregunta no s...|       1604172653|       1604172653|       true|            0|          0|                0.0|            0|          true|             true|                      false|76561198159074383|                    55|                 4|                  815.0|                           0.0|                    379.0|     1.604283772E9|\n",
       " |48403|292030|The Witcher 3: Wi...| 77882298| spanish|El mejor juego qu...|       1603217063|       1603217063|       true|            0|          0|                0.0|            0|          true|             true|                      false|76561198263654671|                    16|                 1|                 9409.0|                           0.0|                   9409.0|     1.603325769E9|\n",
       " |49431|292030|The Witcher 3: Wi...| 77666126| spanish|Me lo pase primer...|       1602878984|       1602878984|       true|           12|          1| 0.6774193644523621|            0|         false|             true|                      false|76561198155004195|                    31|                 5|                 1337.0|                           0.0|                   1299.0|     1.605455991E9|\n",
       " |52075|292030|The Witcher 3: Wi...| 77095993| spanish|Historia excelent...|       1601930336|       1601930336|       true|            0|          0|                0.0|            0|          true|             true|                      false|76561198189244257|                    19|                 1|                11760.0|                         613.0|                   8938.0|      1.61128382E9|\n",
       " |53172|292030|The Witcher 3: Wi...| 76868057| spanish|             repiola|       1601568395|       1601568395|       true|            0|          0|                0.0|            0|          true|             true|                      false|76561198264261889|                    31|                 3|                 1968.0|                           0.0|                   1958.0|     1.601568954E9|\n",
       " |57490|292030|The Witcher 3: Wi...| 76055179| spanish|            wenisimo|       1600236510|       1600236510|       true|            0|          0|                0.0|            0|          true|             true|                      false|76561198402622348|                    55|                 2|                 4824.0|                           0.0|                   1381.0|     1.601606093E9|\n",
       " |65585|292030|The Witcher 3: Wi...| 75048745| spanish|    Le dejo mis dies|       1598611265|       1598611265|       true|            0|          0|                0.0|            0|         false|             true|                      false|76561198119868236|                   197|                 5|                12777.0|                           0.0|                  12777.0|     1.608669729E9|\n",
       " |66934|292030|The Witcher 3: Wi...| 74858977| spanish|                 sis|       1598306431|       1598306431|       true|            0|          0|                0.0|            0|          true|             true|                      false|76561198363838155|                    15|                 1|                 8242.0|                           0.0|                   6677.0|     1.608535213E9|\n",
       " |70349|292030|The Witcher 3: Wi...| 74117883| spanish|                   .|       1597122549|       1597122549|       true|            0|          0|                0.0|            0|         false|             true|                      false|76561198019266126|                    90|                47|                  103.0|                           0.0|                     56.0|     1.598307575E9|\n",
       " |70443|292030|The Witcher 3: Wi...| 74096971| spanish|Basicamente el me...|       1597086352|       1597086352|       true|            0|          0|                0.0|            0|          true|             true|                      false|76561198258243614|                   155|                 4|                 8705.0|                           0.0|                   8705.0|     1.572550239E9|\n",
       " |73222|292030|The Witcher 3: Wi...| 73556363| spanish|             juegaso|       1596194098|       1596194098|       true|            3|          1| 0.5634920597076416|            0|          true|             true|                      false|76561198311528764|                    60|                 9|                 3127.0|                           2.0|                   3120.0|     1.611103835E9|\n",
       " |75368|292030|The Witcher 3: Wi...| 73187063| spanish|juegazooo sin mas...|       1595553816|       1595553816|       true|            0|          0|                0.0|            0|          true|             true|                      false|76561198368240095|                    30|                 5|                 1135.0|                           0.0|                    658.0|     1.607212798E9|\n",
       " |80623|292030|The Witcher 3: Wi...| 72402236| spanish|juegaso excelente...|       1594343272|       1594343272|       true|            0|          0|                0.0|            0|          true|             true|                      false|76561198069278771|                    13|                 1|                 7757.0|                           0.0|                   1035.0|     1.599886878E9|\n",
       " |81657|292030|The Witcher 3: Wi...| 72272041| spanish|             Juegazo|       1594179246|       1594179246|       true|            0|          0|                0.0|            0|          true|             true|                      false|76561198818200302|                    14|                 4|                 8305.0|                           0.0|                   1828.0|     1.607884453E9|\n",
       " |82720|292030|The Witcher 3: Wi...| 72143183| spanish|lo recomiendo por...|       1594016486|       1594016486|       true|            0|          0|                0.0|            0|          true|             true|                      false|76561198167792226|                     9|                 8|                 4412.0|                           0.0|                    697.0|      1.59798289E9|\n",
       " |86235|292030|The Witcher 3: Wi...| 71684088| spanish|muy buen juego ba...|       1593465985|       1593465985|       true|            0|          0|                0.0|            0|          true|             true|                      false|76561198143088873|                    31|                 3|                 6769.0|                           0.0|                   3465.0|     1.610041396E9|\n",
       " +-----+------+--------------------+---------+--------+--------------------+-----------------+-----------------+-----------+-------------+-----------+-------------------+-------------+--------------+-----------------+---------------------------+-----------------+----------------------+------------------+-----------------------+------------------------------+-------------------------+------------------+\n",
       " only showing top 20 rows,\n",
       " 'lang=spanish_free=True_rec=False': +------+------+--------------------+---------+--------+--------------------+-----------------+-----------------+-----------+-------------+-----------+-------------------+-------------+--------------+-----------------+---------------------------+-----------------+----------------------+------------------+-----------------------+------------------------------+-------------------------+------------------+\n",
       " |   _c0|app_id|            app_name|review_id|language|              review|timestamp_created|timestamp_updated|recommended|votes_helpful|votes_funny|weighted_vote_score|comment_count|steam_purchase|received_for_free|written_during_early_access|   author_steamid|author_num_games_owned|author_num_reviews|author_playtime_forever|author_playtime_last_two_weeks|author_playtime_at_review|author_last_played|\n",
       " +------+------+--------------------+---------+--------+--------------------+-----------------+-----------------+-----------+-------------+-----------+-------------------+-------------+--------------+-----------------+---------------------------+-----------------+----------------------+------------------+-----------------------+------------------------------+-------------------------+------------------+\n",
       " |  7488|292030|The Witcher 3: Wi...| 83971501| spanish|Esperaba mucho má...|       1609747821|       1610657861|      false|            1|          0| 0.4583333432674408|            0|         false|             true|                      false|76561198259679020|                    98|                 3|                16523.0|                       13195.0|                   7361.0|      1.61137898E9|\n",
       " |480881|    70|           Half-Life| 70320167| spanish|hijos de puta te ...|       1591340504|       1591340504|      false|            0|          4| 0.3071965575218201|            1|         false|             true|                      false|76561198884778247|                    28|                 7|                   70.0|                           0.0|                     70.0|     1.581914631E9|\n",
       " |483678|    70|           Half-Life| 66861338| spanish|regalenmelo po co...|       1586313895|       1586313895|      false|            2|          7| 0.4718861281871796|            0|         false|             true|                      false|76561199025012413|                    23|                 5|                    5.0|                           0.0|                      5.0|      1.58312176E9|\n",
       " |484216|    70|           Half-Life| 66419484| spanish|Que mierda! Lo de...|       1585830451|       1585830451|      false|            1|          2|0.43544459342956543|            1|         false|             true|                      false|76561198412302195|                    11|                 4|                  123.0|                           0.0|                    123.0|     1.579885823E9|\n",
       " |487519|    70|           Half-Life| 64066914| spanish|A ver, por dónde ...|       1582580042|       1582580042|      false|            2|          1| 0.4373708367347717|            1|         false|             true|                      false|76561198112428564|                    63|                 6|                 1234.0|                           0.0|                   1234.0|     1.582579921E9|\n",
       " |487991|    70|           Half-Life| 63560015| spanish|Por lo que leí el...|       1581788083|       1581788083|      false|            1|          4| 0.4492059350013733|            3|         false|             true|                      false|76561198884713411|                    33|                 9|                  183.0|                           8.0|                     27.0|       1.6103224E9|\n",
       " |489133|    70|           Half-Life| 62709685| spanish|Sinceramente, est...|       1580432340|       1580432340|      false|            0|          1|0.44959127902984614|            0|         false|             true|                      false|76561198119679058|                    99|                27|                  200.0|                           0.0|                    200.0|     1.580313749E9|\n",
       " |528896|   240|Counter-Strike: S...| 83251094| spanish|esta muy bueno el...|       1609030648|       1609030648|      false|            0|          0|                0.0|            0|          true|             true|                      false|76561199008119031|                    26|                 2|                 3276.0|                        2570.0|                    581.0|     1.610937213E9|\n",
       " |530449|   240|Counter-Strike: S...| 81500547| spanish| Nhielo(en ingles)\\n|       1606963264|       1606963264|      false|            0|          0|                0.0|            0|          true|             true|                      false|76561198986196048|                    29|                 5|                13929.0|                         277.0|                  12364.0|     1.610899706E9|\n",
       " |558964|   240|Counter-Strike: S...| 54604555| spanish|            muy malo|       1565732557|       1565732557|      false|            1|          0| 0.4593275487422943|            0|          true|             true|                      false|76561198869732046|                     1|                 1|                   21.0|                           0.0|                     19.0|     1.567461009E9|\n",
       " |561516|   240|Counter-Strike: S...| 53368082| spanish|lo compraria pero...|       1562166408|       1562166408|      false|            0|          0| 0.4761904776096344|            0|          true|             true|                      false|76561198381552016|                     5|                 5|                  337.0|                           0.0|                     16.0|     1.597787816E9|\n",
       " |568326|   240|Counter-Strike: S...| 49762436| spanish|si queres jugar u...|       1553561487|       1553561487|      false|            2|          0|0.41791045665740967|            0|         false|             true|                      false|76561198117327257|                   134|               105|                   13.0|                           0.0|                     13.0|     1.553555757E9|\n",
       " |597733|   240|Counter-Strike: S...| 22982624| spanish|        \\nUNA CACA\\n|       1463250869|       1463250869|      false|            0|          0| 0.4294013679027557|            0|          true|             true|                      false|76561198302544014|                     4|                 1|                  104.0|                           0.0|                    104.0|       1.4632475E9|\n",
       " |649743|   420|Half-Life 2: Epis...| 66303231| spanish|no me puedo jugar...|       1585705812|       1585705812|      false|            0|          1|                0.0|            0|         false|             true|                      false|76561198381399045|                    30|                 4|                  328.0|                           0.0|                      8.0|     1.600063378E9|\n",
       " |650163|   420|Half-Life 2: Epis...| 65682637| spanish|se que es un buen...|       1585026837|       1585026837|      false|            0|          0| 0.4347825944423676|            0|         false|             true|                      false|76561198112046143|                   114|                 4|                   31.0|                           0.0|                     31.0|     1.585026674E9|\n",
       " |650963|   420|Half-Life 2: Epis...| 63855990| spanish|Tomando en cuenta...|       1582256039|       1582256039|      false|            1|          0| 0.4910714328289032|            0|         false|             true|                      false|76561198096128134|                    94|                 7|                  446.0|                           0.0|                    446.0|     1.582253627E9|\n",
       " |657556|   420|Half-Life 2: Epis...| 38368994| spanish|COMO LES GUSTO ES...|       1513491997|       1513491997|      false|            1|          5| 0.3562136888504028|            0|          true|             true|                      false|76561198414547471|                    46|                11|                   12.0|                           0.0|                     12.0|     1.513331908E9|\n",
       " |932516|  4000|         Garry's Mod| 81461050| spanish|siporque el juego...|       1606912827|       1606912827|      false|            0|          0| 0.4693140983581543|            0|         false|             true|                      false|76561198446008169|                     1|                 2|                   82.0|                           0.0|                     82.0|     1.586726944E9|\n",
       " |934224|  4000|         Garry's Mod| 81097983| spanish|es una mierdaaa ,...|       1606672360|       1606672360|      false|            0|          0| 0.4085908830165863|            0|         false|             true|                      false|76561198149638615|                    18|                 1|                 1520.0|                           0.0|                   1494.0|     1.606830822E9|\n",
       " |948891|  4000|         Garry's Mod| 78420005| spanish|Este juego es inj...|       1604090992|       1604090992|      false|            0|          0| 0.4761904776096344|            0|          true|             true|                      false|76561198942115598|                     4|                 2|                  495.0|                           0.0|                    448.0|     1.604498022E9|\n",
       " +------+------+--------------------+---------+--------+--------------------+-----------------+-----------------+-----------+-------------+-----------+-------------------+-------------+--------------+-----------------+---------------------------+-----------------+----------------------+------------------+-----------------------+------------------------------+-------------------------+------------------+\n",
       " only showing top 20 rows,\n",
       " 'lang=spanish_free=False_rec=True': +---+------+--------------------+---------+--------+--------------------+-----------------+-----------------+-----------+-------------+-----------+-------------------+-------------+--------------+-----------------+---------------------------+-----------------+----------------------+------------------+-----------------------+------------------------------+-------------------------+------------------+\n",
       " |_c0|app_id|            app_name|review_id|language|              review|timestamp_created|timestamp_updated|recommended|votes_helpful|votes_funny|weighted_vote_score|comment_count|steam_purchase|received_for_free|written_during_early_access|   author_steamid|author_num_games_owned|author_num_reviews|author_playtime_forever|author_playtime_last_two_weeks|author_playtime_at_review|author_last_played|\n",
       " +---+------+--------------------+---------+--------+--------------------+-----------------+-----------------+-----------+-------------+-----------+-------------------+-------------+--------------+-----------------+---------------------------+-----------------+----------------------+------------------+-----------------------+------------------------------+-------------------------+------------------+\n",
       " |  9|292030|The Witcher 3: Wi...| 85182785| spanish|          great game|       1611377005|       1611377005|       true|            0|          0|                0.0|            0|          true|            false|                      false|76561198301724112|                    38|                 5|                 2399.0|                         333.0|                   2364.0|      1.61137908E9|\n",
       " | 28|292030|The Witcher 3: Wi...| 85177534| spanish|Más optimizado qu...|       1611368549|       1611368549|       true|            0|          0|                0.0|            0|          true|            false|                      false|76561198872374635|                   175|                20|                 3131.0|                           0.0|                   3131.0|      1.60826163E9|\n",
       " | 44|292030|The Witcher 3: Wi...| 85172993| spanish|De los mejores rp...|       1611361186|       1611361186|       true|            0|          0|                0.0|            0|          true|            false|                      false|76561198078482139|                    78|                10|                 3919.0|                         160.0|                   3919.0|      1.61127975E9|\n",
       " |106|292030|The Witcher 3: Wi...| 85159609| spanish|⡴⠑⡄⠀⠀⠀⠀⠀⠀⠀ ⣀⣀⣤⣤⣤⣀...|       1611342618|       1611342618|       true|            0|          0|                0.0|            0|          true|            false|                      false|76561198169862755|                   113|                 9|                 7132.0|                           0.0|                   7132.0|     1.584338386E9|\n",
       " |132|292030|The Witcher 3: Wi...| 85154697| spanish|Un excelente Jueg...|       1611336421|       1611336421|       true|            0|          0|                0.0|            0|          true|            false|                      false|76561198253763681|                    90|                11|                 4950.0|                        2698.0|                   4950.0|     1.611333504E9|\n",
       " |154|292030|The Witcher 3: Wi...| 85152097| spanish|De los mejores ju...|       1611333297|       1611333297|       true|            1|          0|  0.523809552192688|            0|          true|            false|                      false|76561198900910359|                    16|                 3|                 6688.0|                           0.0|                   6688.0|     1.608604475E9|\n",
       " |155|292030|The Witcher 3: Wi...| 85152053| spanish|Superando a sus p...|       1611333250|       1611333250|       true|            0|          0|                0.0|            0|          true|            false|                      false|76561198018385948|                   189|                11|                 7819.0|                           0.0|                   7819.0|     1.492977526E9|\n",
       " |181|292030|The Witcher 3: Wi...| 85146651| spanish|Sigo esperando ju...|       1611326880|       1611326880|       true|            0|          0|                0.0|            0|          true|            false|                      false|76561198854061692|                    25|                 1|                 5026.0|                           0.0|                   5026.0|     1.601315894E9|\n",
       " |182|292030|The Witcher 3: Wi...| 85146476| spanish| Simplemente genial.|       1611326677|       1611326677|       true|            0|          0|                0.0|            0|          true|            false|                      false|76561198052817314|                   146|                 1|                 1556.0|                        1554.0|                   1535.0|     1.611328474E9|\n",
       " |205|292030|The Witcher 3: Wi...| 85143427| spanish|Muy recomendable ...|       1611322848|       1611322848|       true|            0|          0|                0.0|            0|          true|            false|                      false|76561199053963608|                     4|                 1|                 6502.0|                        2364.0|                   6334.0|     1.611368314E9|\n",
       " |222|292030|The Witcher 3: Wi...| 85139421| spanish|uffff compralo y ...|       1611317461|       1611317461|       true|            0|          0|                0.0|            0|          true|            false|                      false|76561198262019361|                    34|                 5|                11676.0|                         387.0|                  11676.0|      1.61131732E9|\n",
       " |268|292030|The Witcher 3: Wi...| 85131702| spanish| Simplemente: JU-...|       1611305193|       1611305193|       true|            0|          0|                0.0|            0|          true|            false|                      false|76561198041619345|                    95|                 2|                18371.0|                        5267.0|                  18371.0|     1.611188111E9|\n",
       " |294|292030|The Witcher 3: Wi...| 85127843| spanish|       JUEGAZO 10/10|       1611298543|       1611298543|       true|            1|          0|  0.523809552192688|            0|          true|            false|                      false|76561198075680907|                   230|                 8|                 1392.0|                        1073.0|                   1304.0|     1.611367329E9|\n",
       " |326|292030|The Witcher 3: Wi...| 85120767| spanish|            ta bueno|       1611284343|       1611284343|       true|            0|          0|                0.0|            0|          true|            false|                      false|76561198145173764|                   104|                 9|                  612.0|                           2.0|                    612.0|     1.611101254E9|\n",
       " |333|292030|The Witcher 3: Wi...| 85118583| spanish|                Hola|       1611280260|       1611280260|       true|            0|          0|                0.0|            0|          true|            false|                      false|76561198236180884|                     7|                 1|                  910.0|                         910.0|                    432.0|     1.611377186E9|\n",
       " |347|292030|The Witcher 3: Wi...| 85114719| spanish|    aguante el porro|       1611273544|       1611273544|       true|            1|          0|                0.0|            0|          true|            false|                      false|76561198317766149|                    25|                 5|                  497.0|                         497.0|                    318.0|     1.611284308E9|\n",
       " |354|292030|The Witcher 3: Wi...| 85113848| spanish|               10/10|       1611272034|       1611272034|       true|            1|          0| 0.4761904776096344|            0|          true|            false|                      false|76561199060703135|                     3|                 1|                 1090.0|                        1080.0|                    982.0|     1.611386679E9|\n",
       " |383|292030|The Witcher 3: Wi...| 85108186| spanish|                 UwU|       1611262775|       1611262775|       true|            0|          0|                0.0|            0|          true|            false|                      false|76561199045670127|                    13|                 2|                  438.0|                         438.0|                    243.0|      1.61136829E9|\n",
       " |409|292030|The Witcher 3: Wi...| 85102394| spanish|      Buena historia|       1611254870|       1611254870|       true|            0|          0|                0.0|            0|          true|            false|                      false|76561198870969181|                     8|                 2|                 3221.0|                        2250.0|                   3199.0|     1.611278043E9|\n",
       " |439|292030|The Witcher 3: Wi...| 85097515| spanish|⣿⣿⠿⠿⠿⠿⣿⣷⣂⠄⠄⠄⠄⠄⠄⠈⢷...|       1611248689|       1611248689|       true|            0|          0|                0.0|            0|          true|            false|                      false|76561199085258772|                    12|                 2|                  398.0|                           7.0|                    398.0|     1.611264039E9|\n",
       " +---+------+--------------------+---------+--------+--------------------+-----------------+-----------------+-----------+-------------+-----------+-------------------+-------------+--------------+-----------------+---------------------------+-----------------+----------------------+------------------+-----------------------+------------------------------+-------------------------+------------------+\n",
       " only showing top 20 rows,\n",
       " 'lang=spanish_free=False_rec=False': +-----+------+--------------------+---------+--------+--------------------+-----------------+-----------------+-----------+-------------+-----------+-------------------+-------------+--------------+-----------------+---------------------------+-----------------+----------------------+------------------+-----------------------+------------------------------+-------------------------+------------------+\n",
       " |  _c0|app_id|            app_name|review_id|language|              review|timestamp_created|timestamp_updated|recommended|votes_helpful|votes_funny|weighted_vote_score|comment_count|steam_purchase|received_for_free|written_during_early_access|   author_steamid|author_num_games_owned|author_num_reviews|author_playtime_forever|author_playtime_last_two_weeks|author_playtime_at_review|author_last_played|\n",
       " +-----+------+--------------------+---------+--------+--------------------+-----------------+-----------------+-----------+-------------+-----------+-------------------+-------------+--------------+-----------------+---------------------------+-----------------+----------------------+------------------+-----------------------+------------------------------+-------------------------+------------------+\n",
       " | 2390|292030|The Witcher 3: Wi...| 84733946| spanish|no me funciona se...|       1610725660|       1610725660|      false|            0|          0|                0.0|            0|         false|            false|                      false|76561198347318126|                    41|                 7|                    7.0|                           1.0|                      7.0|     1.610822368E9|\n",
       " | 5819|292030|The Witcher 3: Wi...| 84206049| spanish|-algunas decision...|       1610008034|       1610010530|      false|            0|          0|                0.0|            0|          true|            false|                      false|76561198131859830|                    41|                 3|                 3882.0|                           0.0|                   3882.0|     1.610007733E9|\n",
       " | 6118|292030|The Witcher 3: Wi...| 84158805| spanish|            aburrido|       1609949731|       1609949731|      false|            0|          1| 0.4564315676689148|            0|          true|            false|                      false|76561198061697806|                    44|                 4|                  568.0|                         430.0|                    138.0|     1.611278652E9|\n",
       " |11447|292030|The Witcher 3: Wi...| 83414166| spanish|El peor enemigo d...|       1609183330|       1609183330|      false|            0|          2| 0.4761904776096344|            0|          true|            false|                      false|76561198051882510|                    41|                13|                  288.0|                           0.0|                    288.0|     1.609181494E9|\n",
       " |17842|292030|The Witcher 3: Wi...| 82507568| spanish|basura de juego n...|       1608137060|       1608137060|      false|            1|          0| 0.4583333432674408|            0|          true|            false|                      false|76561198342636053|                     1|                 1|                  676.0|                          23.0|                    604.0|     1.611340048E9|\n",
       " |19377|292030|The Witcher 3: Wi...| 82297265| spanish|No lo recomiendo ...|       1607891441|       1607891441|      false|            0|          1|          0.4296875|            1|          true|            false|                      false|76561198348039701|                     8|                 3|                   53.0|                           0.0|                     53.0|      1.60781689E9|\n",
       " |19905|292030|The Witcher 3: Wi...| 82230365| spanish|Me recuerda mucho...|       1607825680|       1610558550|      false|            1|          2| 0.4186046719551086|            0|          true|            false|                      false|76561198007456055|                    64|                14|                  899.0|                           0.0|                    899.0|     1.607825214E9|\n",
       " |20949|292030|The Witcher 3: Wi...| 82056212| spanish|El juego no es ma...|       1607675954|       1607675954|      false|            0|          1|0.37037035822868347|            0|          true|            false|                      false|76561198137296982|                   204|                 7|                  137.0|                           0.0|                    137.0|     1.607669182E9|\n",
       " |41227|292030|The Witcher 3: Wi...| 79203180| spanish|    se crashea mucho|       1605281735|       1605281735|      false|            0|          1| 0.4938271641731263|            0|          true|            false|                      false|76561198363387041|                     2|                 2|                 2484.0|                           0.0|                   1625.0|     1.608067806E9|\n",
       " |41644|292030|The Witcher 3: Wi...| 79127042| spanish|parese bueno pero...|       1605141170|       1605141170|      false|            0|          1|  0.449438214302063|            0|          true|            false|                      false|76561198076907746|                     8|                 5|                  534.0|                           0.0|                    534.0|     1.605141114E9|\n",
       " |59436|292030|The Witcher 3: Wi...| 75765523| spanish|No sé, reconozco ...|       1599771366|       1599771366|      false|            0|          2|                0.0|            0|          true|            false|                      false|76561199052543955|                     9|                 7|                  162.0|                           0.0|                    162.0|     1.598996155E9|\n",
       " |64273|292030|The Witcher 3: Wi...| 75201059| spanish|Te llega a satura...|       1598844580|       1598844580|      false|            0|          2|0.41666665673255926|            0|          true|            false|                      false|76561198399154328|                    12|                 1|                 5315.0|                           0.0|                    196.0|     1.609229225E9|\n",
       " |65812|292030|The Witcher 3: Wi...| 75018830| spanish|muy pero muy malo...|       1598555695|       1598555695|      false|            0|          4|0.37037035822868347|            0|         false|            false|                      false|76561198089870927|                    43|                 1|                   61.0|                           0.0|                     61.0|     1.598485753E9|\n",
       " |66705|292030|The Witcher 3: Wi...| 74893538| spanish|Aburrido y lento....|       1598368569|       1598368569|      false|            0|          7| 0.3461538553237915|            0|          true|            false|                      false|76561197996473748|                    73|                 1|                  257.0|                           0.0|                    223.0|     1.598745812E9|\n",
       " |70657|292030|The Witcher 3: Wi...| 74055313| spanish|No creo que sea u...|       1597018114|       1597018114|      false|            4|         11| 0.5495220422744751|            0|          true|            false|                      false|76561198280896500|                    45|                49|                  391.0|                           0.0|                    391.0|     1.578939337E9|\n",
       " |71663|292030|The Witcher 3: Wi...| 73844559| spanish|lo siento para gu...|       1596684203|       1596685352|      false|            1|          8|0.40878379344940186|            0|         false|            false|                      false|76561198313885386|                    86|                62|                  113.0|                           0.0|                    113.0|     1.587340264E9|\n",
       " |71856|292030|The Witcher 3: Wi...| 73809068| spanish|El juego en si es...|       1596626897|       1596626897|      false|            1|         10| 0.5097492933273315|            0|          true|            false|                      false|76561198211289236|                     8|                 1|                  259.0|                           0.0|                    259.0|     1.594898949E9|\n",
       " |77884|292030|The Witcher 3: Wi...| 72794033| spanish|Tengo un helios 3...|       1594915479|       1594915479|      false|            0|          3|                0.0|            0|          true|            false|                      false|76561198102793073|                     6|                 1|                 2590.0|                           0.0|                    313.0|     1.599247947E9|\n",
       " |79441|292030|The Witcher 3: Wi...| 72575923| spanish|Tremendo bodrio, ...|       1594575567|       1594576020|      false|            0|          9| 0.4114713370800018|            3|          true|            false|                      false|76561199043110144|                    31|                13|                  305.0|                           0.0|                    194.0|     1.602277111E9|\n",
       " |79693|292030|The Witcher 3: Wi...| 72544284| spanish|                malo|       1594533879|       1594533879|      false|            1|         10|0.42307692766189575|            0|          true|            false|                      false|76561198296233631|                    57|                 3|                  263.0|                           0.0|                    263.0|     1.594045879E9|\n",
       " +-----+------+--------------------+---------+--------+--------------------+-----------------+-----------------+-----------+-------------+-----------+-------------------+-------------+--------------+-----------------+---------------------------+-----------------+----------------------+------------------+-----------------------+------------------------------+-------------------------+------------------+\n",
       " only showing top 20 rows}"
      ]
     },
     "execution_count": 14,
     "metadata": {},
     "output_type": "execute_result"
    }
   ],
   "execution_count": 14
  },
  {
   "metadata": {
    "ExecuteTime": {
     "end_time": "2025-05-26T04:02:22.064043Z",
     "start_time": "2025-05-26T04:01:05.663660Z"
    }
   },
   "cell_type": "code",
   "source": [
    "from functools import reduce\n",
    "from pyspark.sql import DataFrame\n",
    "\n",
    "# Particiones seleccionadas estratégicamente (¡personaliza esta lista!)\n",
    "particiones_clave = [\n",
    "    \"lang=english_free=False_rec=True\",\n",
    "    \"lang=spanish_free=True_rec=False\",\n",
    "    \"lang=schinese_free=False_rec=False\"\n",
    "]\n",
    "\n",
    "# Muestreo del 30% de cada partición seleccionada y unión\n",
    "samples_to_union = [\n",
    "    df_subsets[key].sample(withReplacement=False, fraction=0.3, seed=42)\n",
    "    for key in particiones_clave\n",
    "]\n",
    "\n",
    "sample_M = reduce(DataFrame.union, samples_to_union)\n",
    "print(f\"Tamaño de la muestra M: {sample_M.count()} registros\")"
   ],
   "outputs": [
    {
     "name": "stdout",
     "output_type": "stream",
     "text": [
      "Tamaño de la muestra M: 2757627 registros\n"
     ]
    }
   ],
   "execution_count": 15
  },
  {
   "metadata": {},
   "cell_type": "markdown",
   "source": [
    "## 1 . Preparación de Datos (Preprocesamiento de la Muestra M)\n",
    "Vamos a limpiar y preparar la muestra M (sample_M) para que sea adecuada para los algoritmos de ML.\n",
    "### Limpieza Básica\n",
    "- **Valores nulos**: Se eliminaron filas con `null` en `recommended`, `author_playtime_forever` y `votes_helpful`.\n",
    "- **Outliers**: Se truncaron valores de `votes_helpful` superiores a 1,000 para evitar sesgos.\n",
    "- **Variables booleanas**: `recommended` se convirtió a numérico (1 = True, 0 = False)."
   ]
  },
  {
   "metadata": {
    "ExecuteTime": {
     "end_time": "2025-05-26T04:05:48.628750Z",
     "start_time": "2025-05-26T04:04:16.478202Z"
    }
   },
   "cell_type": "code",
   "source": [
    "from pyspark.sql.functions import col, when, count\n",
    "\n",
    "# 1.1. Eliminar filas con valores nulos en columnas clave\n",
    "sample_M_clean = sample_M.na.drop(subset=[\"recommended\", \"author_playtime_forever\", \"votes_helpful\"])\n",
    "print(f\"Registros después de eliminar nulos: {sample_M_clean.count()}\")\n",
    "\n",
    "# 1.2. Manejar outliers en 'votes_helpful' (límite superior a 1,000)\n",
    "sample_M_clean = sample_M_clean.withColumn(\n",
    "    \"votes_helpful\",\n",
    "    when(col(\"votes_helpful\") > 1000, 1000).otherwise(col(\"votes_helpful\"))\n",
    ")\n",
    "\n",
    "# 1.3. Convertir booleanos a numéricos (para modelos)\n",
    "sample_M_clean = sample_M_clean.withColumn(\n",
    "    \"recommended_numeric\",\n",
    "    when(col(\"recommended\") == True, 1).otherwise(0)\n",
    ")"
   ],
   "outputs": [
    {
     "name": "stdout",
     "output_type": "stream",
     "text": [
      "Registros después de eliminar nulos: 2757627\n"
     ]
    }
   ],
   "execution_count": 17
  },
  {
   "metadata": {},
   "cell_type": "markdown",
   "source": [
    "## 2. Transformación de Variables\n",
    "- **Codificación**: `language` se convirtió a numérico (`StringIndexer`).\n",
    "- **Normalización**: `author_playtime_forever` y `votes_helpful` se escalaron a rango [0, 1] con `MinMaxScaler`.\n",
    "- **Pipeline**: Se usó un Pipeline para encadenar transformaciones y evitar data leakage.\n"
   ]
  },
  {
   "metadata": {
    "ExecuteTime": {
     "end_time": "2025-05-26T04:09:31.484843Z",
     "start_time": "2025-05-26T04:06:04.501318Z"
    }
   },
   "cell_type": "code",
   "source": [
    "from pyspark.ml.feature import MinMaxScaler, VectorAssembler, StringIndexer\n",
    "from pyspark.ml import Pipeline\n",
    "\n",
    "# 2.1. Codificar 'language' (categórica a numérica)\n",
    "indexer = StringIndexer(inputCol=\"language\", outputCol=\"language_encoded\")\n",
    "\n",
    "# 2.2. Normalizar 'author_playtime_forever' y 'votes_helpful'\n",
    "assembler = VectorAssembler(\n",
    "    inputCols=[\"author_playtime_forever\", \"votes_helpful\"],\n",
    "    outputCol=\"features_raw\"\n",
    ")\n",
    "scaler = MinMaxScaler(inputCol=\"features_raw\", outputCol=\"features_scaled\")\n",
    "\n",
    "# Pipeline para aplicar todas las transformaciones\n",
    "pipeline = Pipeline(stages=[indexer, assembler, scaler])\n",
    "sample_M_preprocessed = pipeline.fit(sample_M_clean).transform(sample_M_clean)\n",
    "\n",
    "# Mostrar resultado\n",
    "sample_M_preprocessed.select(\"language\", \"language_encoded\", \"features_scaled\").show(5)"
   ],
   "outputs": [
    {
     "name": "stdout",
     "output_type": "stream",
     "text": [
      "+--------+----------------+--------------------+\n",
      "|language|language_encoded|     features_scaled|\n",
      "+--------+----------------+--------------------+\n",
      "| english|             0.0|[0.00808640098829...|\n",
      "| english|             0.0|[5.71930285511064...|\n",
      "| english|             0.0|[0.00325930937858...|\n",
      "| english|             0.0|[0.00285410543690...|\n",
      "| english|             0.0|[0.01811563182525...|\n",
      "+--------+----------------+--------------------+\n",
      "only showing top 5 rows\n",
      "\n"
     ]
    }
   ],
   "execution_count": 18
  },
  {
   "metadata": {},
   "cell_type": "markdown",
   "source": [
    "## 3. Features Finales\n",
    "- **Variables seleccionadas**:\n",
    "  - `features`: Vector escalado (`author_playtime_forever` + `votes_helpful`).\n",
    "  - `label`: Variable objetivo (`recommended_numeric`).\n",
    "  - `language_encoded`: Idioma codificado (para análisis adicional)."
   ]
  },
  {
   "metadata": {
    "ExecuteTime": {
     "end_time": "2025-05-26T04:11:30.653919Z",
     "start_time": "2025-05-26T04:11:30.147018Z"
    }
   },
   "cell_type": "code",
   "source": [
    "    # 3. Columnas finales (features + target)\n",
    "final_data = sample_M_preprocessed.select(\n",
    "    col(\"features_scaled\").alias(\"features\"),\n",
    "    col(\"recommended_numeric\").alias(\"label\"),\n",
    "    col(\"language_encoded\"),\n",
    "    col(\"author_playtime_forever\")\n",
    ")\n",
    "final_data.show(5)"
   ],
   "outputs": [
    {
     "name": "stdout",
     "output_type": "stream",
     "text": [
      "+--------------------+-----+----------------+-----------------------+\n",
      "|            features|label|language_encoded|author_playtime_forever|\n",
      "+--------------------+-----+----------------+-----------------------+\n",
      "|[0.00808640098829...|    1|             0.0|                23329.0|\n",
      "|[5.71930285511064...|    1|             0.0|                  165.0|\n",
      "|[0.00325930937858...|    1|             0.0|                 9403.0|\n",
      "|[0.00285410543690...|    1|             0.0|                 8234.0|\n",
      "|[0.01811563182525...|    1|             0.0|                52263.0|\n",
      "+--------------------+-----+----------------+-----------------------+\n",
      "only showing top 5 rows\n",
      "\n"
     ]
    }
   ],
   "execution_count": 19
  },
  {
   "metadata": {},
   "cell_type": "markdown",
   "source": [
    "### Resumen de Preparación de Datos\n",
    "1. **Limpieza**:\n",
    "- Eliminación de nulos en columnas clave.\n",
    "- Control de outliers en `votes_helpful`.\n",
    "2. **Transformaciones**:\n",
    "- Normalización de features numéricas.\n",
    "- Codificación de variables categóricas.\n",
    "3. **Salida**:\n",
    "- Dataset listo para modelos (`final_data`).\n",
    "- Features: `features` (vector), `label` (target)."
   ]
  },
  {
   "metadata": {},
   "cell_type": "markdown",
   "source": [
    "## Preparación del Conjunto de Entrenamiento y Prueba\n",
    "### División Train/Test\n",
    "- **Proporción**: 70-30 (óptima para balancear aprendizaje y evaluación).\n",
    "- **Semilla**: `seed=42` para garantizar reproducibilidad.\n",
    "- **Resultados**:\n",
    "  - Entrenamiento: `X` registros.\n",
    "  - Prueba: `Y` registros.\n"
   ]
  },
  {
   "metadata": {
    "ExecuteTime": {
     "end_time": "2025-05-26T04:15:31.624149Z",
     "start_time": "2025-05-26T04:12:24.385753Z"
    }
   },
   "cell_type": "code",
   "source": [
    "from pyspark.sql import SparkSession\n",
    "spark = SparkSession.builder.getOrCreate()\n",
    "\n",
    "# Dividir los datos (70% entrenamiento, 30% prueba)\n",
    "train, test = final_data.randomSplit([0.7, 0.3], seed=42)\n",
    "\n",
    "print(f\"Registros de entrenamiento: {train.count()}\")\n",
    "print(f\"Registros de prueba: {test.count()}\")"
   ],
   "outputs": [
    {
     "name": "stdout",
     "output_type": "stream",
     "text": [
      "Registros de entrenamiento: 1930784\n",
      "Registros de prueba: 826843\n"
     ]
    }
   ],
   "execution_count": 20
  },
  {
   "metadata": {},
   "cell_type": "markdown",
   "source": [
    "## Construcción de Modelos\n",
    "### Modelo Supervisado (Random Forest)\n",
    "- **Variable objetivo**: `recommended_numeric` (1 = recomendado, 0 = no recomendado).\n",
    "- **Características**: `features` (`author_playtime_forever` + `votes_helpful` escalados).\n",
    "- **Métrica**: Accuracy (precisión global).\n",
    "- **Resultado**: `Accuracy = X%`."
   ]
  },
  {
   "metadata": {
    "jupyter": {
     "is_executing": true
    }
   },
   "cell_type": "code",
   "source": [
    "from pyspark.ml.classification import RandomForestClassifier\n",
    "from pyspark.ml.evaluation import MulticlassClassificationEvaluator\n",
    "\n",
    "# 2.1. Entrenar modelo\n",
    "rf = RandomForestClassifier(\n",
    "    labelCol=\"label\",\n",
    "    featuresCol=\"features\",\n",
    "    numTrees=10,\n",
    "    seed=42\n",
    ")\n",
    "model_rf = rf.fit(train)\n",
    "\n",
    "# 2.2. Predecir en test\n",
    "predictions_rf = model_rf.transform(test)\n",
    "\n",
    "# 2.3. Evaluar (Accuracy)\n",
    "evaluator = MulticlassClassificationEvaluator(\n",
    "    labelCol=\"label\",\n",
    "    predictionCol=\"prediction\",\n",
    "    metricName=\"accuracy\"\n",
    ")\n",
    "accuracy = evaluator.evaluate(predictions_rf)\n",
    "print(f\"Accuracy del modelo: {accuracy * 100:.2f}%\")"
   ],
   "outputs": [],
   "execution_count": null
  },
  {
   "metadata": {},
   "cell_type": "markdown",
   "source": [
    "## Modelo No Supervisado (K-Means)\n",
    "- **Características**: `features` (mismo vector que en el modelo supervisado).\n",
    "- **Número de clusters**: `k=3` (asumiendo grupos naturales: positivos, negativos, neutrales).\n",
    "- **Métrica**: Silhouette Score (rango [-1, 1]; valores cercanos a 1 indican clusters bien definidos).\n",
    "- **Resultado**: `Silhouette = X.XXX`."
   ]
  },
  {
   "metadata": {},
   "cell_type": "code",
   "outputs": [],
   "execution_count": null,
   "source": [
    "from pyspark.ml.clustering import KMeans\n",
    "from pyspark.ml.evaluation import ClusteringEvaluator\n",
    "\n",
    "# 3.1. Entrenar modelo (k=3 clusters)\n",
    "kmeans = KMeans(\n",
    "    featuresCol=\"features\",\n",
    "    k=3,\n",
    "    seed=42\n",
    ")\n",
    "model_kmeans = kmeans.fit(train)\n",
    "\n",
    "# 3.2. Predecir clusters\n",
    "clusters = model_kmeans.transform(train)\n",
    "\n",
    "# 3.3. Evaluar (Silhouette Score)\n",
    "evaluator = ClusteringEvaluator(featuresCol=\"features\")\n",
    "silhouette = evaluator.evaluate(clusters)\n",
    "print(f\"Silhouette Score: {silhouette:.3f}\")\n",
    "\n",
    "# Mostrar distribución de clusters\n",
    "clusters.groupBy(\"prediction\").count().show()"
   ]
  }
 ],
 "metadata": {
  "colab": {
   "provenance": []
  },
  "kernelspec": {
   "display_name": "Python 3 (ipykernel)",
   "language": "python",
   "name": "python3"
  },
  "language_info": {
   "codemirror_mode": {
    "name": "ipython",
    "version": 3
   },
   "file_extension": ".py",
   "mimetype": "text/x-python",
   "name": "python",
   "nbconvert_exporter": "python",
   "pygments_lexer": "ipython3",
   "version": "3.12.9"
  }
 },
 "nbformat": 4,
 "nbformat_minor": 0
}
