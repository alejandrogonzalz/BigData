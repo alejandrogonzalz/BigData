{
 "cells": [
  {
   "cell_type": "markdown",
   "metadata": {
    "id": "FsZKKvxwYF3o"
   },
   "source": [
    "# Proyecto | Base de Datos de Big Data"
   ]
  },
  {
   "cell_type": "markdown",
   "metadata": {
    "id": "UjmB97B-X-hU"
   },
   "source": [
    "## Informacion del Equipo o Persona"
   ]
  },
  {
   "cell_type": "markdown",
   "metadata": {
    "id": "fYJBth0rYC0V"
   },
   "source": [
    "### Equipo #20\n",
    "1.- Julio Baltazar Colín - A01794476\n",
    "\n",
    "2.- Alejandro González Almazán - A00517113\n",
    "\n",
    "3.- Erik Morales Hinojosa - A01795110\n",
    "\n",
    "4.- Kevin Alexis Valdez Pérez - A01750478"
   ]
  },
  {
   "cell_type": "markdown",
   "metadata": {
    "id": "B0n2G2l_Yaze"
   },
   "source": [
    "--------------------------------------------------------------------------------"
   ]
  },
  {
   "cell_type": "markdown",
   "metadata": {
    "id": "QkLnppGfbTLh"
   },
   "source": [
    "## Instalacion de Librerias"
   ]
  },
  {
   "cell_type": "code",
   "execution_count": null,
   "metadata": {
    "id": "NEd5XPAnbW5O"
   },
   "outputs": [],
   "source": [
    "\"\"\"\n",
    "!apt-get install openjdk-8-jdk-headless -qq > /dev/null\n",
    "!wget -q http://archive.apache.org/dist/spark/spark-3.1.1/spark-3.1.1-bin-hadoop3.2.tgz\n",
    "!tar xf spark-3.1.1-bin-hadoop3.2.tgz\n",
    "\"\"\"\n",
    "!pip install -q findspark"
   ]
  },
  {
   "cell_type": "markdown",
   "metadata": {
    "id": "Ar8PqEFjYfVA"
   },
   "source": [
    "# Impotacion de Librerias"
   ]
  },
  {
   "cell_type": "code",
   "execution_count": null,
   "metadata": {
    "id": "rFrmYAiPYdd9"
   },
   "outputs": [],
   "source": [
    "# PySpark\n",
    "import findspark\n",
    "findspark.init()\n",
    "findspark.find()\n",
    "from pyspark import SparkContext, SparkConf, SQLContext\n",
    "from pyspark.sql import SparkSession\n",
    "from pyspark.sql.functions import count, mean, stddev, min, max\n",
    "from pyspark.sql.functions import col\n",
    "\"\"\"\n",
    "# omitir para ejecutar de forma local\n",
    "import os\n",
    "os.environ[\"JAVA_HOME\"] = \"/usr/lib/jvm/java-8-openjdk-amd64\"\n",
    "os.environ[\"SPARK_HOME\"] = \"/content/spark-3.1.1-bin-hadoop3.2\"\n",
    "\"\"\"\n",
    "#Librerias de codigo\n",
    "import kagglehub\n",
    "from pyspark.sql import functions as F\n",
    "from pyspark.sql.functions import col"
   ]
  },
  {
   "cell_type": "markdown",
   "metadata": {
    "id": "WXLHPUosZE5_"
   },
   "source": [
    "### Inicializar entorno PySpark"
   ]
  },
  {
   "cell_type": "code",
   "execution_count": null,
   "metadata": {
    "colab": {
     "base_uri": "https://localhost:8080/",
     "height": 221
    },
    "id": "GCAP0o7kcogx",
    "outputId": "1ed9ae58-97d4-422d-b102-c39be4f404db"
   },
   "outputs": [
    {
     "output_type": "execute_result",
     "data": {
      "text/plain": [
       "<pyspark.sql.session.SparkSession at 0x789e79eead90>"
      ],
      "text/html": [
       "\n",
       "            <div>\n",
       "                <p><b>SparkSession - in-memory</b></p>\n",
       "                \n",
       "        <div>\n",
       "            <p><b>SparkContext</b></p>\n",
       "\n",
       "            <p><a href=\"http://356064b4d06a:4040\">Spark UI</a></p>\n",
       "\n",
       "            <dl>\n",
       "              <dt>Version</dt>\n",
       "                <dd><code>v3.5.5</code></dd>\n",
       "              <dt>Master</dt>\n",
       "                <dd><code>local[*]</code></dd>\n",
       "              <dt>AppName</dt>\n",
       "                <dd><code>Analisis_Steam</code></dd>\n",
       "            </dl>\n",
       "        </div>\n",
       "        \n",
       "            </div>\n",
       "        "
      ]
     },
     "metadata": {},
     "execution_count": 3
    }
   ],
   "source": [
    "spark = SparkSession.builder \\\n",
    "    .master(\"local[*]\") \\\n",
    "    .appName(\"Analisis_Steam\") \\\n",
    "    .getOrCreate()\n",
    "\n",
    "spark.conf.set(\"spark.sql.repl.eagerEval.enabled\", True)\n",
    "\n",
    "spark"
   ]
  },
  {
   "cell_type": "markdown",
   "metadata": {
    "id": "zm2nuBbCZct4"
   },
   "source": [
    "### Lectura de datos"
   ]
  },
  {
   "cell_type": "code",
   "execution_count": null,
   "metadata": {
    "id": "nTiLMXpKZ3z9",
    "colab": {
     "base_uri": "https://localhost:8080/"
    },
    "outputId": "750a6611-b09f-4fb9-91a3-edf92c244175"
   },
   "outputs": [
    {
     "output_type": "stream",
     "name": "stdout",
     "text": [
      "Downloading from https://www.kaggle.com/api/v1/datasets/download/najzeko/steam-reviews-2021?dataset_version_number=1...\n"
     ]
    },
    {
     "output_type": "stream",
     "name": "stderr",
     "text": [
      "100%|██████████| 2.97G/2.97G [00:31<00:00, 102MB/s] "
     ]
    },
    {
     "output_type": "stream",
     "name": "stdout",
     "text": [
      "Extracting files...\n"
     ]
    },
    {
     "output_type": "stream",
     "name": "stderr",
     "text": [
      "\n"
     ]
    }
   ],
   "source": [
    "file_path = kagglehub.dataset_download(\"najzeko/steam-reviews-2021\")"
   ]
  },
  {
   "cell_type": "code",
   "execution_count": null,
   "metadata": {
    "id": "xlaqOdpzrRV5"
   },
   "outputs": [],
   "source": [
    "file_path= \"D:\\\\source\\\\bagdata\\\\archive\\\\steam_reviews.csv\""
   ]
  },
  {
   "cell_type": "code",
   "execution_count": null,
   "metadata": {
    "id": "BGv7gw7jZdgb"
   },
   "outputs": [],
   "source": [
    "df = spark.read.option(\"header\", \"true\") \\\n",
    "    .option(\"inferSchema\", \"true\") \\\n",
    "    .option(\"multiLine\", \"true\") \\\n",
    "    .option(\"sep\", \",\").option(\"escape\", \"\\\"\").csv(file_path)"
   ]
  },
  {
   "cell_type": "markdown",
   "metadata": {
    "id": "YO2ZXM-raboo"
   },
   "source": [
    "## Exploración inicial del dataset"
   ]
  },
  {
   "cell_type": "code",
   "execution_count": null,
   "metadata": {
    "colab": {
     "base_uri": "https://localhost:8080/"
    },
    "id": "3azjukmCacsM",
    "outputId": "b417f117-9155-4c26-95a1-7d28374fc7de"
   },
   "outputs": [
    {
     "name": "stdout",
     "output_type": "stream",
     "text": [
      "Primeras filas del dataset:\n",
      "+---+------+------------------------+---------+--------+-----------------------------------------------------------+-----------------+-----------------+-----------+-------------+-----------+-------------------+-------------+--------------+-----------------+---------------------------+-----------------+----------------------+------------------+-----------------------+------------------------------+-------------------------+------------------+\n",
      "|_c0|app_id|                app_name|review_id|language|                                                     review|timestamp_created|timestamp_updated|recommended|votes_helpful|votes_funny|weighted_vote_score|comment_count|steam_purchase|received_for_free|written_during_early_access|   author.steamid|author.num_games_owned|author.num_reviews|author.playtime_forever|author.playtime_last_two_weeks|author.playtime_at_review|author.last_played|\n",
      "+---+------+------------------------+---------+--------+-----------------------------------------------------------+-----------------+-----------------+-----------+-------------+-----------+-------------------+-------------+--------------+-----------------+---------------------------+-----------------+----------------------+------------------+-----------------------+------------------------------+-------------------------+------------------+\n",
      "|  0|292030|The Witcher 3: Wild Hunt| 85185598|schinese|                不玩此生遗憾，RPG游戏里的天花板，太吸引人了|       1611381629|       1611381629|       true|            0|          0|                0.0|            0|          true|            false|                      false|76561199095369542|                     6|                 2|                 1909.0|                        1448.0|                   1909.0|     1.611343383E9|\n",
      "|  1|292030|The Witcher 3: Wild Hunt| 85185250|schinese|                                拔DIAO无情打桩机--杰洛特!!!|       1611381030|       1611381030|       true|            0|          0|                0.0|            0|          true|            false|                      false|76561198949504115|                    30|                10|                 2764.0|                        2743.0|                   2674.0|     1.611386307E9|\n",
      "|  2|292030|The Witcher 3: Wild Hunt| 85185111|schinese|                                                    巫师3NB|       1611380800|       1611380800|       true|            0|          0|                0.0|            0|          true|            false|                      false|76561199090098988|                     5|                 1|                 1061.0|                        1061.0|                   1060.0|     1.611383777E9|\n",
      "|  3|292030|The Witcher 3: Wild Hunt| 85184605| english|One of the best RPG's of all time, worthy of any collection|       1611379970|       1611379970|       true|            0|          0|                0.0|            0|          true|            false|                      false|76561199054755373|                     5|                 3|                 5587.0|                        3200.0|                   5524.0|     1.611383744E9|\n",
      "|  4|292030|The Witcher 3: Wild Hunt| 85184287|schinese|                                                       大作|       1611379427|       1611379427|       true|            0|          0|                0.0|            0|          true|            false|                      false|76561199028326951|                     7|                 4|                  217.0|                          42.0|                    217.0|     1.610788249E9|\n",
      "+---+------+------------------------+---------+--------+-----------------------------------------------------------+-----------------+-----------------+-----------+-------------+-----------+-------------------+-------------+--------------+-----------------+---------------------------+-----------------+----------------------+------------------+-----------------------+------------------------------+-------------------------+------------------+\n",
      "only showing top 5 rows\n",
      "\n"
     ]
    }
   ],
   "source": [
    "print(\"Primeras filas del dataset:\")\n",
    "df.show(5, truncate=100)"
   ]
  },
  {
   "cell_type": "code",
   "execution_count": null,
   "metadata": {
    "id": "sVQHOdeYopyx"
   },
   "outputs": [],
   "source": [
    "# Reemplazar \".\" por \"_\" en todas las columnas\n",
    "new_columns = [col_name.replace(\".\", \"_\") for col_name in df.columns]\n",
    "df = df.toDF(*new_columns)\n"
   ]
  },
  {
   "cell_type": "code",
   "execution_count": null,
   "metadata": {
    "colab": {
     "base_uri": "https://localhost:8080/"
    },
    "id": "OaglEyoLah90",
    "outputId": "2d2acf4f-3511-46d5-917c-0f2adc355e39"
   },
   "outputs": [
    {
     "name": "stdout",
     "output_type": "stream",
     "text": [
      "\n",
      "Estructura del dataset:\n",
      "root\n",
      " |-- _c0: integer (nullable = true)\n",
      " |-- app_id: integer (nullable = true)\n",
      " |-- app_name: string (nullable = true)\n",
      " |-- review_id: integer (nullable = true)\n",
      " |-- language: string (nullable = true)\n",
      " |-- review: string (nullable = true)\n",
      " |-- timestamp_created: integer (nullable = true)\n",
      " |-- timestamp_updated: long (nullable = true)\n",
      " |-- recommended: boolean (nullable = true)\n",
      " |-- votes_helpful: long (nullable = true)\n",
      " |-- votes_funny: long (nullable = true)\n",
      " |-- weighted_vote_score: double (nullable = true)\n",
      " |-- comment_count: integer (nullable = true)\n",
      " |-- steam_purchase: boolean (nullable = true)\n",
      " |-- received_for_free: boolean (nullable = true)\n",
      " |-- written_during_early_access: boolean (nullable = true)\n",
      " |-- author_steamid: long (nullable = true)\n",
      " |-- author_num_games_owned: long (nullable = true)\n",
      " |-- author_num_reviews: long (nullable = true)\n",
      " |-- author_playtime_forever: double (nullable = true)\n",
      " |-- author_playtime_last_two_weeks: double (nullable = true)\n",
      " |-- author_playtime_at_review: double (nullable = true)\n",
      " |-- author_last_played: double (nullable = true)\n",
      "\n"
     ]
    }
   ],
   "source": [
    "# Mostrar el esquema del DataFrame\n",
    "print(\"\\nEstructura del dataset:\")\n",
    "df.printSchema()"
   ]
  },
  {
   "cell_type": "code",
   "execution_count": null,
   "metadata": {
    "colab": {
     "base_uri": "https://localhost:8080/",
     "height": 281
    },
    "id": "mAGpgWcDaksj",
    "outputId": "0f09449a-c8d3-4787-f9f6-918aab8b1602",
    "scrolled": true
   },
   "outputs": [
    {
     "name": "stdout",
     "output_type": "stream",
     "text": [
      "\n",
      "Estadísticas descriptivas:\n"
     ]
    },
    {
     "data": {
      "text/html": [
       "<table border='1'>\n",
       "<tr><th>summary</th><th>_c0</th><th>app_id</th><th>app_name</th><th>review_id</th><th>language</th><th>review</th><th>timestamp_created</th><th>timestamp_updated</th><th>votes_helpful</th><th>votes_funny</th><th>weighted_vote_score</th><th>comment_count</th><th>author_steamid</th><th>author_num_games_owned</th><th>author_num_reviews</th><th>author_playtime_forever</th><th>author_playtime_last_two_weeks</th><th>author_playtime_at_review</th><th>author_last_played</th></tr>\n",
       "<tr><td>count</td><td>21747371</td><td>21747371</td><td>21747371</td><td>21747371</td><td>21747371</td><td>21713629</td><td>21747371</td><td>21747371</td><td>21747371</td><td>21747371</td><td>21747371</td><td>21747371</td><td>21747371</td><td>21747371</td><td>21747371</td><td>21747369</td><td>21747369</td><td>21721689</td><td>21747369</td></tr>\n",
       "<tr><td>mean</td><td>1.0873687437602503E7</td><td>392818.0819021297</td><td>NULL</td><td>5.187499536142856E7</td><td>NULL</td><td>NaN</td><td>1.544432473641996E9</td><td>1.5475556641072469E9</td><td>404468.8552777713</td><td>126791.72557597881</td><td>0.16544240107804964</td><td>0.13087678506059422</td><td>7.656119829647547...</td><td>1011300.0967205645</td><td>404477.4800190791</td><td>16091.04968789558</td><td>155.5421350968938</td><td>8807.421419761604</td><td>1.5805050620579658E9</td></tr>\n",
       "<tr><td>stddev</td><td>6277926.749125054</td><td>248097.74044015192</td><td>NULL</td><td>2.084267274558985E7</td><td>NULL</td><td>NaN</td><td>5.8121938249827236E7</td><td>5.689899216654692E7</td><td>1.333740761025968E9</td><td>2.333552590589009E7</td><td>0.24340060997837204</td><td>2.1993978415663555</td><td>3.177567912050335E8</td><td>2.1088291610977833E9</td><td>1.3337407610244334E9</td><td>37430.56775904549</td><td>730.0488048533861</td><td>23885.530542759574</td><td>4.6761775230105035E7</td></tr>\n",
       "<tr><td>min</td><td>0</td><td>70</td><td>20XX</td><td>43</td><td>brazilian</td><td>\u0001.?\u0003\u0002m\u0003?\u0003x&Uacute;&bull;&rdquo;&Ccedil;o\u0013A...</td><td>1290197836</td><td>1290197836</td><td>0</td><td>0</td><td>0.0</td><td>0</td><td>76561197960265730</td><td>0</td><td>1</td><td>0.0</td><td>0.0</td><td>1.0</td><td>0.0</td></tr>\n",
       "<tr><td>max</td><td>21747375</td><td>1291340</td><td>三国群英传8 Heroes of ...</td><td>85218673</td><td>vietnamese</td><td>󰀐󰀐󰀐󰀐󰀐󰀐󰀐󰀐?...</td><td>1611426287</td><td>2283382797</td><td>4398046511106</td><td>4294967295</td><td>0.995986759662628</td><td>4893</td><td>76561199133265373</td><td>4398046511619</td><td>4398046511108</td><td>3744943.0</td><td>27039.0</td><td>3228103.0</td><td>1.611434142E9</td></tr>\n",
       "</table>\n"
      ],
      "text/plain": [
       "+-------+--------------------+------------------+-------------------------+-------------------+----------+--------------------+--------------------+--------------------+-------------------+-------------------+-------------------+-------------------+--------------------+----------------------+--------------------+-----------------------+------------------------------+-------------------------+--------------------+\n",
       "|summary|                 _c0|            app_id|                 app_name|          review_id|  language|              review|   timestamp_created|   timestamp_updated|      votes_helpful|        votes_funny|weighted_vote_score|      comment_count|      author_steamid|author_num_games_owned|  author_num_reviews|author_playtime_forever|author_playtime_last_two_weeks|author_playtime_at_review|  author_last_played|\n",
       "+-------+--------------------+------------------+-------------------------+-------------------+----------+--------------------+--------------------+--------------------+-------------------+-------------------+-------------------+-------------------+--------------------+----------------------+--------------------+-----------------------+------------------------------+-------------------------+--------------------+\n",
       "|  count|            21747371|          21747371|                 21747371|           21747371|  21747371|            21713629|            21747371|            21747371|           21747371|           21747371|           21747371|           21747371|            21747371|              21747371|            21747371|               21747369|                      21747369|                 21721689|            21747369|\n",
       "|   mean|1.0873687437602503E7| 392818.0819021297|                     NULL|5.187499536142856E7|      NULL|                 NaN| 1.544432473641996E9|1.5475556641072469E9|  404468.8552777713| 126791.72557597881|0.16544240107804964|0.13087678506059422|7.656119829647547...|    1011300.0967205645|   404477.4800190791|      16091.04968789558|             155.5421350968938|        8807.421419761604|1.5805050620579658E9|\n",
       "| stddev|   6277926.749125054|248097.74044015192|                     NULL|2.084267274558985E7|      NULL|                 NaN|5.8121938249827236E7| 5.689899216654692E7|1.333740761025968E9|2.333552590589009E7|0.24340060997837204| 2.1993978415663555| 3.177567912050335E8|  2.1088291610977833E9|1.3337407610244334E9|      37430.56775904549|             730.0488048533861|       23885.530542759574|4.6761775230105035E7|\n",
       "|    min|                   0|                70|                     20XX|                 43| brazilian|\u0001.?\u0003\u0002m\u0003?\u0003xÚ•”Ço\u0013A...|          1290197836|          1290197836|                  0|                  0|                0.0|                  0|   76561197960265730|                     0|                   1|                    0.0|                           0.0|                      1.0|                 0.0|\n",
       "|    max|            21747375|           1291340|三国群英传8 Heroes of ...|           85218673|vietnamese|󰀐󰀐󰀐󰀐󰀐󰀐󰀐󰀐?...|          1611426287|          2283382797|      4398046511106|         4294967295|  0.995986759662628|               4893|   76561199133265373|         4398046511619|       4398046511108|              3744943.0|                       27039.0|                3228103.0|       1.611434142E9|\n",
       "+-------+--------------------+------------------+-------------------------+-------------------+----------+--------------------+--------------------+--------------------+-------------------+-------------------+-------------------+-------------------+--------------------+----------------------+--------------------+-----------------------+------------------------------+-------------------------+--------------------+"
      ]
     },
     "execution_count": 17,
     "metadata": {},
     "output_type": "execute_result"
    }
   ],
   "source": [
    "# Estadísticas descriptivas generales\n",
    "print(\"\\nEstadísticas descriptivas:\")\n",
    "df.describe()"
   ]
  },
  {
   "cell_type": "markdown",
   "metadata": {
    "id": "pkNV5xTgrRWA"
   },
   "source": [
    "##Caracterización de la población\n",
    "\n",
    "\n"
   ]
  },
  {
   "cell_type": "code",
   "execution_count": null,
   "metadata": {
    "colab": {
     "base_uri": "https://localhost:8080/"
    },
    "id": "eBvTvAPGrRWA",
    "outputId": "96feaafb-0fb7-4219-dacb-34f17544fd2d"
   },
   "outputs": [
    {
     "name": "stdout",
     "output_type": "stream",
     "text": [
      "+-----------+--------+\n",
      "|recommended|   count|\n",
      "+-----------+--------+\n",
      "|       true|19022610|\n",
      "|      false| 2724761|\n",
      "+-----------+--------+\n",
      "\n",
      "+-----------------+--------+\n",
      "|received_for_free|   count|\n",
      "+-----------------+--------+\n",
      "|             true|  688061|\n",
      "|            false|21059310|\n",
      "+-----------------+--------+\n",
      "\n",
      "+----------+-------+\n",
      "|  language|  count|\n",
      "+----------+-------+\n",
      "|   english|9635437|\n",
      "|  schinese|3764967|\n",
      "|   russian|2348900|\n",
      "| brazilian| 837524|\n",
      "|   spanish| 813320|\n",
      "|    german| 752596|\n",
      "|   turkish| 635868|\n",
      "|   koreana| 613632|\n",
      "|    french| 541751|\n",
      "|    polish| 495529|\n",
      "|  tchinese| 218203|\n",
      "|     czech| 133980|\n",
      "|   italian| 133307|\n",
      "|      thai| 127503|\n",
      "|  japanese|  81754|\n",
      "|portuguese|  81386|\n",
      "|   swedish|  80226|\n",
      "|     dutch|  77555|\n",
      "| hungarian|  71001|\n",
      "|     latam|  70103|\n",
      "|    danish|  55915|\n",
      "|   finnish|  54712|\n",
      "| norwegian|  36797|\n",
      "|  romanian|  32730|\n",
      "| ukrainian|  21169|\n",
      "+----------+-------+\n",
      "only showing top 25 rows\n",
      "\n"
     ]
    }
   ],
   "source": [
    "# Frecuencia de categorías\n",
    "print(\"Recomendados\")\n",
    "df.groupBy(\"recommended\").count().show()\n",
    "print(\"Recibidos gratis\")\n",
    "df.groupBy(\"received_for_free\").count().show()\n",
    "print(\"Conteo por idioma\")\n",
    "df.groupBy(\"language\").count().orderBy(\"count\", ascending=False).show(25)"
   ]
  },
  {
   "cell_type": "code",
   "execution_count": null,
   "metadata": {
    "colab": {
     "base_uri": "https://localhost:8080/"
    },
    "id": "P_mfFRGOrRWB",
    "outputId": "9f76597a-32c2-41d9-9fc7-7eae3e96d69c"
   },
   "outputs": [
    {
     "name": "stdout",
     "output_type": "stream",
     "text": [
      "+-------+----------------------+\n",
      "|summary|author_num_games_owned|\n",
      "+-------+----------------------+\n",
      "|  count|              21747371|\n",
      "|   mean|    1011300.0967205645|\n",
      "| stddev|  2.1088291610977833E9|\n",
      "|    min|                     0|\n",
      "|    max|         4398046511619|\n",
      "+-------+----------------------+\n",
      "\n",
      "+-------+--------------------+\n",
      "|summary|  author_num_reviews|\n",
      "+-------+--------------------+\n",
      "|  count|            21747371|\n",
      "|   mean|   404477.4800190791|\n",
      "| stddev|1.3337407610244334E9|\n",
      "|    min|                   1|\n",
      "|    max|       4398046511108|\n",
      "+-------+--------------------+\n",
      "\n",
      "+-------+-----------------------+\n",
      "|summary|author_playtime_forever|\n",
      "+-------+-----------------------+\n",
      "|  count|               21747369|\n",
      "|   mean|      16091.04968789558|\n",
      "| stddev|      37430.56775904549|\n",
      "|    min|                    0.0|\n",
      "|    max|              3744943.0|\n",
      "+-------+-----------------------+\n",
      "\n",
      "+-------+-------------------+\n",
      "|summary|      votes_helpful|\n",
      "+-------+-------------------+\n",
      "|  count|           21747371|\n",
      "|   mean|  404468.8552777713|\n",
      "| stddev|1.333740761025968E9|\n",
      "|    min|                  0|\n",
      "|    max|      4398046511106|\n",
      "+-------+-------------------+\n",
      "\n"
     ]
    }
   ],
   "source": [
    "\n",
    "\n",
    "numeric_columns = [\n",
    "    \"author_num_games_owned\",\n",
    "    \"author_num_reviews\",\n",
    "    \"author_playtime_forever\",\n",
    "    \"votes_helpful\"\n",
    "]\n",
    "\n",
    "# Para cada variable numérica, imprime una tabla resumen con estadísticas\n",
    "for col_name in numeric_columns:\n",
    "    df.select(col_name).summary(\"count\", \"mean\", \"stddev\", \"min\", \"max\").show()"
   ]
  },
  {
   "cell_type": "code",
   "execution_count": null,
   "metadata": {
    "colab": {
     "base_uri": "https://localhost:8080/"
    },
    "id": "SAt0FyZTrRWB",
    "outputId": "41cf1783-81da-4d74-a607-0eccfcd58daa"
   },
   "outputs": [
    {
     "name": "stdout",
     "output_type": "stream",
     "text": [
      "Resumen para: author_num_games_owned\n",
      "+----------------------------+---------------------------+-----------------------------+--------------------------+--------------------------+\n",
      "|author_num_games_owned_count|author_num_games_owned_mean|author_num_games_owned_stddev|author_num_games_owned_min|author_num_games_owned_max|\n",
      "+----------------------------+---------------------------+-----------------------------+--------------------------+--------------------------+\n",
      "|                    21747371|         1011300.0967205645|         2.1088291610977833E9|                         0|             4398046511619|\n",
      "+----------------------------+---------------------------+-----------------------------+--------------------------+--------------------------+\n",
      "\n",
      "Resumen para: author_num_reviews\n",
      "+------------------------+-----------------------+-------------------------+----------------------+----------------------+\n",
      "|author_num_reviews_count|author_num_reviews_mean|author_num_reviews_stddev|author_num_reviews_min|author_num_reviews_max|\n",
      "+------------------------+-----------------------+-------------------------+----------------------+----------------------+\n",
      "|                21747371|      404477.4800190791|     1.3337407610244334E9|                     1|         4398046511108|\n",
      "+------------------------+-----------------------+-------------------------+----------------------+----------------------+\n",
      "\n",
      "Resumen para: author_playtime_forever\n",
      "+-----------------------------+----------------------------+------------------------------+---------------------------+---------------------------+\n",
      "|author_playtime_forever_count|author_playtime_forever_mean|author_playtime_forever_stddev|author_playtime_forever_min|author_playtime_forever_max|\n",
      "+-----------------------------+----------------------------+------------------------------+---------------------------+---------------------------+\n",
      "|                     21747369|           16091.04968789558|             37430.56775904549|                        0.0|                  3744943.0|\n",
      "+-----------------------------+----------------------------+------------------------------+---------------------------+---------------------------+\n",
      "\n",
      "Resumen para: votes_helpful\n",
      "+-------------------+------------------+--------------------+-----------------+-----------------+\n",
      "|votes_helpful_count|votes_helpful_mean|votes_helpful_stddev|votes_helpful_min|votes_helpful_max|\n",
      "+-------------------+------------------+--------------------+-----------------+-----------------+\n",
      "|           21747371| 404468.8552777713| 1.333740761025968E9|                0|    4398046511106|\n",
      "+-------------------+------------------+--------------------+-----------------+-----------------+\n",
      "\n"
     ]
    }
   ],
   "source": [
    "\n",
    "for col_name in numeric_columns:\n",
    "    print(f\"Resumen para: {col_name}\")\n",
    "    df.select(\n",
    "        count(col(col_name)).alias(f\"{col_name}_count\"),\n",
    "        mean(col(col_name)).alias(f\"{col_name}_mean\"),\n",
    "        stddev(col(col_name)).alias(f\"{col_name}_stddev\"),\n",
    "        min(col(col_name)).alias(f\"{col_name}_min\"),\n",
    "        max(col(col_name)).alias(f\"{col_name}_max\")\n",
    "    ).show()"
   ]
  },
  {
   "cell_type": "markdown",
   "metadata": {
    "id": "heiKHa2SrRWC"
   },
   "source": "# Particionamiento"
  },
  {
   "cell_type": "markdown",
   "metadata": {
    "id": "F36rcs_erRWC"
   },
   "source": [
    "Usando las variables de particionamiento\n",
    "* language\n",
    "* received_for_free\n",
    "* recommended\n",
    "\n",
    "vamos a limitar a los 5 idiomas con mayor frecuencia lo que nos da 20 combinaciones de partición"
   ]
  },
  {
   "cell_type": "markdown",
   "metadata": {
    "id": "pXhsPbuyrRWD"
   },
   "source": [
    "##Cálculo de las probabilidades de ocurrencia"
   ]
  },
  {
   "cell_type": "code",
   "execution_count": null,
   "metadata": {
    "colab": {
     "base_uri": "https://localhost:8080/"
    },
    "id": "aNPO3CvprRWD",
    "outputId": "dbf98bb5-b133-4130-aaec-e2a851eb14c7"
   },
   "outputs": [
    {
     "output_type": "stream",
     "name": "stdout",
     "text": [
      "+-----------+-----------------+---------+-------------+--------------------+\n",
      "|recommended|received_for_free| language|combinaciones|        probabilidad|\n",
      "+-----------+-----------------+---------+-------------+--------------------+\n",
      "|      false|            false|brazilian|        44881|0.002579345876828174|\n",
      "|      false|             true|brazilian|         2009|1.154587880516878...|\n",
      "|       true|            false|brazilian|       756037| 0.04345003272385959|\n",
      "|       true|             true|brazilian|        34597|0.001988316421216647|\n",
      "|      false|            false|  english|      1020063|0.058623811705509635|\n",
      "|      false|             true|  english|        30930|0.001777571087326...|\n",
      "|       true|            false|  english|      8335990| 0.47907581015977563|\n",
      "|       true|             true|  english|       248454|0.014278844065004504|\n",
      "|      false|            false|  russian|       242361| 0.01392867462966407|\n",
      "|      false|             true|  russian|        11105|6.382129623265274E-4|\n",
      "|       true|            false|  russian|      1998749|   0.114869655131669|\n",
      "|       true|             true|  russian|        96685|0.005556561932691607|\n",
      "|      false|            false| schinese|       844851|0.048554242182307875|\n",
      "|      false|             true| schinese|        17173| 9.86945628278564E-4|\n",
      "|       true|            false| schinese|      2832942|  0.1628113737883149|\n",
      "|       true|             true| schinese|        70001|0.004023011758290791|\n",
      "|      false|            false|  spanish|        56421|0.003242558626512832|\n",
      "|      false|             true|  spanish|         1943|1.116657168663163E-4|\n",
      "|       true|            false|  spanish|       728861|  0.0418882069278951|\n",
      "|       true|             true|  spanish|        26095|0.001499699887610...|\n",
      "+-----------+-----------------+---------+-------------+--------------------+\n",
      "\n"
     ]
    }
   ],
   "source": [
    "# Primer filtrado solo a los 5 idiomas principales\n",
    "top_languages = ['english', 'schinese', 'russian', 'brazilian', 'spanish']\n",
    "df_top_lang = df.filter(col(\"language\").isin(top_languages))\n",
    "\n",
    "# Agrupar por las combinaciones de particionamiento\n",
    "partition_counts = (\n",
    "    df_top_lang\n",
    "    .groupBy(\"recommended\", \"received_for_free\", \"language\")\n",
    "    .count()\n",
    "    .withColumnRenamed(\"count\", \"combinaciones\")\n",
    ")\n",
    "\n",
    "# Total general para calcular probabilidades\n",
    "total = df_top_lang.count()\n",
    "\n",
    "# Añadir columna con probabilidad de ocurrencia\n",
    "partition_probs = partition_counts.withColumn(\n",
    "    \"probabilidad\",\n",
    "    col(\"combinaciones\") / total\n",
    ")\n",
    "\n",
    "partition_probs.orderBy(\"language\", \"recommended\", \"received_for_free\").show(20)\n"
   ]
  },
  {
   "cell_type": "code",
   "execution_count": null,
   "metadata": {
    "colab": {
     "base_uri": "https://localhost:8080/",
     "height": 504
    },
    "id": "-Brs-8ZDrRWE",
    "outputId": "ad3d958c-7769-4879-be98-936dde99dbab"
   },
   "outputs": [
    {
     "data": {
      "text/html": [
       "<table border='1'>\n",
       "<tr><th>recommended</th><th>received_for_free</th><th>language</th><th>combinaciones</th><th>probabilidad</th></tr>\n",
       "<tr><td>false</td><td>true</td><td>russian</td><td>11105</td><td>6.382129623265274E-4</td></tr>\n",
       "<tr><td>true</td><td>false</td><td>schinese</td><td>2832942</td><td>0.1628113737883149</td></tr>\n",
       "<tr><td>false</td><td>true</td><td>spanish</td><td>1943</td><td>1.116657168663163E-4</td></tr>\n",
       "<tr><td>false</td><td>true</td><td>english</td><td>30930</td><td>0.001777571087326...</td></tr>\n",
       "<tr><td>true</td><td>false</td><td>spanish</td><td>728861</td><td>0.0418882069278951</td></tr>\n",
       "<tr><td>false</td><td>false</td><td>english</td><td>1020063</td><td>0.058623811705509635</td></tr>\n",
       "<tr><td>true</td><td>true</td><td>brazilian</td><td>34597</td><td>0.001988316421216647</td></tr>\n",
       "<tr><td>true</td><td>true</td><td>schinese</td><td>70001</td><td>0.004023011758290791</td></tr>\n",
       "<tr><td>false</td><td>false</td><td>spanish</td><td>56421</td><td>0.003242558626512832</td></tr>\n",
       "<tr><td>true</td><td>true</td><td>english</td><td>248454</td><td>0.014278844065004504</td></tr>\n",
       "<tr><td>false</td><td>true</td><td>schinese</td><td>17173</td><td>9.86945628278564E-4</td></tr>\n",
       "<tr><td>true</td><td>true</td><td>spanish</td><td>26095</td><td>0.001499699887610...</td></tr>\n",
       "<tr><td>true</td><td>false</td><td>brazilian</td><td>756037</td><td>0.04345003272385959</td></tr>\n",
       "<tr><td>false</td><td>false</td><td>russian</td><td>242361</td><td>0.01392867462966407</td></tr>\n",
       "<tr><td>false</td><td>false</td><td>schinese</td><td>844851</td><td>0.048554242182307875</td></tr>\n",
       "<tr><td>false</td><td>false</td><td>brazilian</td><td>44881</td><td>0.002579345876828174</td></tr>\n",
       "<tr><td>true</td><td>true</td><td>russian</td><td>96685</td><td>0.005556561932691607</td></tr>\n",
       "<tr><td>true</td><td>false</td><td>english</td><td>8335990</td><td>0.47907581015977563</td></tr>\n",
       "<tr><td>false</td><td>true</td><td>brazilian</td><td>2009</td><td>1.154587880516878...</td></tr>\n",
       "<tr><td>true</td><td>false</td><td>russian</td><td>1998749</td><td>0.114869655131669</td></tr>\n",
       "</table>\n"
      ],
      "text/plain": [
       "+-----------+-----------------+---------+-------------+--------------------+\n",
       "|recommended|received_for_free| language|combinaciones|        probabilidad|\n",
       "+-----------+-----------------+---------+-------------+--------------------+\n",
       "|      false|             true|  russian|        11105|6.382129623265274E-4|\n",
       "|       true|            false| schinese|      2832942|  0.1628113737883149|\n",
       "|      false|             true|  spanish|         1943|1.116657168663163E-4|\n",
       "|      false|             true|  english|        30930|0.001777571087326...|\n",
       "|       true|            false|  spanish|       728861|  0.0418882069278951|\n",
       "|      false|            false|  english|      1020063|0.058623811705509635|\n",
       "|       true|             true|brazilian|        34597|0.001988316421216647|\n",
       "|       true|             true| schinese|        70001|0.004023011758290791|\n",
       "|      false|            false|  spanish|        56421|0.003242558626512832|\n",
       "|       true|             true|  english|       248454|0.014278844065004504|\n",
       "|      false|             true| schinese|        17173| 9.86945628278564E-4|\n",
       "|       true|             true|  spanish|        26095|0.001499699887610...|\n",
       "|       true|            false|brazilian|       756037| 0.04345003272385959|\n",
       "|      false|            false|  russian|       242361| 0.01392867462966407|\n",
       "|      false|            false| schinese|       844851|0.048554242182307875|\n",
       "|      false|            false|brazilian|        44881|0.002579345876828174|\n",
       "|       true|             true|  russian|        96685|0.005556561932691607|\n",
       "|       true|            false|  english|      8335990| 0.47907581015977563|\n",
       "|      false|             true|brazilian|         2009|1.154587880516878...|\n",
       "|       true|            false|  russian|      1998749|   0.114869655131669|\n",
       "+-----------+-----------------+---------+-------------+--------------------+"
      ]
     },
     "execution_count": 22,
     "metadata": {},
     "output_type": "execute_result"
    }
   ],
   "source": [
    "partition_probs"
   ]
  },
  {
   "cell_type": "markdown",
   "metadata": {
    "id": "Z5014XFIrRWE"
   },
   "source": [
    "# Filtrado de subconjuntos según reglas de particionamiento\n",
    "\n",
    "## Descripción\n",
    "En esta sección se filtran subconjuntos del dataset `df_top_lang` conforme a las reglas de particionamiento basadas en:\n",
    "- Idioma (`language`) — top 5 idiomas\n",
    "- ¿Recibido gratis? (`received_for_free`) — booleano\n",
    "- ¿Recomendado? (`recommended`) — booleano\n",
    "\n",
    "Se generan 20 subconjuntos.\n",
    "\n",
    "---\n"
   ]
  },
  {
   "cell_type": "code",
   "execution_count": null,
   "metadata": {
    "colab": {
     "base_uri": "https://localhost:8080/"
    },
    "id": "yzbh6HLFrRWF",
    "outputId": "e1921ca5-c3f2-4671-853a-1611d2f13a9f"
   },
   "outputs": [
    {
     "output_type": "stream",
     "name": "stdout",
     "text": [
      "Subset: lang=english_free=True_rec=True — Registros: 248454\n",
      "Subset: lang=english_free=True_rec=False — Registros: 30930\n",
      "Subset: lang=english_free=False_rec=True — Registros: 8335990\n",
      "Subset: lang=english_free=False_rec=False — Registros: 1020063\n",
      "Subset: lang=schinese_free=True_rec=True — Registros: 70001\n",
      "Subset: lang=schinese_free=True_rec=False — Registros: 17173\n",
      "Subset: lang=schinese_free=False_rec=True — Registros: 2832942\n",
      "Subset: lang=schinese_free=False_rec=False — Registros: 844851\n",
      "Subset: lang=russian_free=True_rec=True — Registros: 96685\n",
      "Subset: lang=russian_free=True_rec=False — Registros: 11105\n",
      "Subset: lang=russian_free=False_rec=True — Registros: 1998749\n",
      "Subset: lang=russian_free=False_rec=False — Registros: 242361\n",
      "Subset: lang=brazilian_free=True_rec=True — Registros: 34597\n",
      "Subset: lang=brazilian_free=True_rec=False — Registros: 2009\n",
      "Subset: lang=brazilian_free=False_rec=True — Registros: 756037\n",
      "Subset: lang=brazilian_free=False_rec=False — Registros: 44881\n",
      "Subset: lang=spanish_free=True_rec=True — Registros: 26095\n",
      "Subset: lang=spanish_free=True_rec=False — Registros: 1943\n",
      "Subset: lang=spanish_free=False_rec=True — Registros: 728861\n",
      "Subset: lang=spanish_free=False_rec=False — Registros: 56421\n",
      "+----+------+--------------------+---------+--------+--------------------+-----------------+-----------------+-----------+-------------+-----------+-------------------+-------------+--------------+-----------------+---------------------------+-----------------+----------------------+------------------+-----------------------+------------------------------+-------------------------+------------------+\n",
      "| _c0|app_id|            app_name|review_id|language|              review|timestamp_created|timestamp_updated|recommended|votes_helpful|votes_funny|weighted_vote_score|comment_count|steam_purchase|received_for_free|written_during_early_access|   author.steamid|author.num_games_owned|author.num_reviews|author.playtime_forever|author.playtime_last_two_weeks|author.playtime_at_review|author.last_played|\n",
      "+----+------+--------------------+---------+--------+--------------------+-----------------+-----------------+-----------+-------------+-----------+-------------------+-------------+--------------+-----------------+---------------------------+-----------------+----------------------+------------------+-----------------------+------------------------------+-------------------------+------------------+\n",
      "|1546|292030|The Witcher 3: Wi...| 84880305| english|            The best|       1610926369|       1610926369|       true|            0|          0|                0.0|            0|         false|             true|                      false|76561198036134455|                    25|                 1|                10948.0|                        3836.0|                  10008.0|     1.611358126E9|\n",
      "|1631|292030|The Witcher 3: Wi...| 84864624| english|Probably the best...|       1610905970|       1610905970|       true|            0|          0|                0.0|            0|         false|             true|                      false|76561199056547252|                     4|                 1|                    9.0|                           0.0|                      9.0|     1.609851267E9|\n",
      "|1913|292030|The Witcher 3: Wi...| 84817911| english|⡴⠑⡄⠀⠀⠀⠀⠀⠀⠀ ⣀⣀⣤⣤⣤⣀...|       1610839304|       1610839304|       true|            1|          0|  0.523809552192688|            0|          true|             true|                      false|76561198182503569|                    42|                 6|                 5850.0|                           1.0|                   5849.0|      1.61085093E9|\n",
      "|2134|292030|The Witcher 3: Wi...| 84781532| english|Best GAME NiggyBy...|       1610795004|       1610795004|       true|            0|          0|                0.0|            0|          true|             true|                      false|76561198308802021|                    59|                30|                 2965.0|                        2965.0|                    215.0|     1.611342579E9|\n",
      "|2528|292030|The Witcher 3: Wi...| 84713752| english|The Game that has...|       1610695637|       1610695637|       true|            0|          0|                0.0|            0|          true|             true|                      false|76561199097469258|                    36|                10|                  299.0|                         206.0|                    271.0|     1.610789817E9|\n",
      "+----+------+--------------------+---------+--------+--------------------+-----------------+-----------------+-----------+-------------+-----------+-------------------+-------------+--------------+-----------------+---------------------------+-----------------+----------------------+------------------+-----------------------+------------------------------+-------------------------+------------------+\n",
      "only showing top 5 rows\n",
      "\n"
     ]
    }
   ],
   "source": [
    "from itertools import product\n",
    "\n",
    "# Definir los valores posibles de cada dimensión de partición\n",
    "top_5_languages = ['english', 'schinese', 'russian', 'brazilian', 'spanish']\n",
    "received_options = [True, False]\n",
    "recommended_options = [True, False]\n",
    "\n",
    "# Generar todas las combinaciones posibles\n",
    "partitions = list(product(top_5_languages, received_options, recommended_options))\n",
    "\n",
    "# Crear subconjuntos filtrando por cada combinación\n",
    "df_subsets = {}\n",
    "\n",
    "for lang, received, recommended in partitions:\n",
    "    key = f\"lang={lang}_free={received}_rec={recommended}\"\n",
    "    filtered_df = df_top_lang.filter(\n",
    "        (F.col(\"language\") == lang) &\n",
    "        (F.col(\"received_for_free\") == received) &\n",
    "        (F.col(\"recommended\") == recommended)\n",
    "    )\n",
    "    df_subsets[key] = filtered_df\n",
    "    count = filtered_df.count()\n",
    "    print(f\"Subset: {key} — Registros: {count}\")\n",
    "\n",
    "# Mostrar ejemplo del contenido de uno de los subconjuntos\n",
    "sample_key = list(df_subsets.keys())[0]\n",
    "df_subsets[sample_key].show(5)\n"
   ]
  },
  {
   "cell_type": "code",
   "execution_count": null,
   "metadata": {
    "colab": {
     "background_save": true
    },
    "id": "RV-RpVJlrRWG",
    "outputId": "c41d034f-9811-4d60-dd07-64dd95f73b99"
   },
   "outputs": [
    {
     "name": "stdout",
     "output_type": "stream",
     "text": [
      "+---+------+--------------------+---------+--------+--------------------+-----------------+-----------------+-----------+-------------+-----------+-------------------+-------------+--------------+-----------------+---------------------------+-----------------+----------------------+------------------+-----------------------+------------------------------+-------------------------+------------------+\n",
      "|_c0|app_id|            app_name|review_id|language|              review|timestamp_created|timestamp_updated|recommended|votes_helpful|votes_funny|weighted_vote_score|comment_count|steam_purchase|received_for_free|written_during_early_access|   author_steamid|author_num_games_owned|author_num_reviews|author_playtime_forever|author_playtime_last_two_weeks|author_playtime_at_review|author_last_played|\n",
      "+---+------+--------------------+---------+--------+--------------------+-----------------+-----------------+-----------+-------------+-----------+-------------------+-------------+--------------+-----------------+---------------------------+-----------------+----------------------+------------------+-----------------------+------------------------------+-------------------------+------------------+\n",
      "|  6|292030|The Witcher 3: Wi...| 85184064| english|            dis gud,|       1611379091|       1611379091|       true|            0|          0|                0.0|            0|          true|            false|                      false|76561198119302812|                    27|                 2|                 4192.0|                        3398.0|                   4192.0|     1.611351734E9|\n",
      "| 74|292030|The Witcher 3: Wi...| 85166174| english|A great narrative...|       1611351215|       1611351215|       true|            0|          0|                0.0|            0|          true|            false|                      false|76561198442392350|                    48|                 7|                 4573.0|                        4573.0|                   4401.0|     1.611361533E9|\n",
      "| 79|292030|The Witcher 3: Wi...| 85165253| english|After playing thr...|       1611349999|       1611349999|       true|            0|          0|                0.0|            0|         false|            false|                      false|76561198070919036|                   227|                12|                11462.0|                        1867.0|                  11462.0|      1.61134973E9|\n",
      "| 87|292030|The Witcher 3: Wi...| 85162932| english|                   .|       1611346914|       1611346914|       true|            0|          0|                0.0|            0|          true|            false|                      false|76561198153445205|                     4|                 1|                12823.0|                        4367.0|                  12479.0|     1.611368348E9|\n",
      "| 91|292030|The Witcher 3: Wi...| 85162540| english|                sdds|       1611346388|       1611346388|       true|            0|          0|                0.0|            0|          true|            false|                      false|76561198056468274|                    13|                 2|                52263.0|                         176.0|                  52086.0|     1.611383048E9|\n",
      "+---+------+--------------------+---------+--------+--------------------+-----------------+-----------------+-----------+-------------+-----------+-------------------+-------------+--------------+-----------------+---------------------------+-----------------+----------------------+------------------+-----------------------+------------------------------+-------------------------+------------------+\n",
      "only showing top 5 rows\n",
      "\n"
     ]
    }
   ],
   "source": [
    "# Prueba de muestreo: 30% sin reemplazo de una partición\n",
    "sample_30 = df_subsets[\"lang=english_free=False_rec=True\"].sample(withReplacement=False, fraction=0.3)\n",
    "sample_30.show(5)"
   ]
  },
  {
   "cell_type": "code",
   "source": [
    "# Aplicar muestreo del 30% sin reemplazo a cada partición y validar tamaño\n",
    "for key, subset_df in df_subsets.items():\n",
    "    sampled_df = subset_df.sample(withReplacement=False, fraction=0.3, seed=42)\n",
    "    sampled_count = sampled_df.count()\n",
    "\n",
    "    print(f\"{key} — Muestra (30%): {sampled_count} registros\")\n",
    "    sampled_df.show(5)"
   ],
   "metadata": {
    "colab": {
     "base_uri": "https://localhost:8080/"
    },
    "id": "kwmgn-hZRxb0",
    "outputId": "be10cb04-52a5-4039-a674-23bf12e89831"
   },
   "execution_count": null,
   "outputs": [
    {
     "output_type": "stream",
     "name": "stdout",
     "text": [
      "lang=english_free=True_rec=True — Muestra (30%): 74761 registros\n",
      "+----+------+--------------------+---------+--------+--------------------+-----------------+-----------------+-----------+-------------+-----------+-------------------+-------------+--------------+-----------------+---------------------------+-----------------+----------------------+------------------+-----------------------+------------------------------+-------------------------+------------------+\n",
      "| _c0|app_id|            app_name|review_id|language|              review|timestamp_created|timestamp_updated|recommended|votes_helpful|votes_funny|weighted_vote_score|comment_count|steam_purchase|received_for_free|written_during_early_access|   author.steamid|author.num_games_owned|author.num_reviews|author.playtime_forever|author.playtime_last_two_weeks|author.playtime_at_review|author.last_played|\n",
      "+----+------+--------------------+---------+--------+--------------------+-----------------+-----------------+-----------+-------------+-----------+-------------------+-------------+--------------+-----------------+---------------------------+-----------------+----------------------+------------------+-----------------------+------------------------------+-------------------------+------------------+\n",
      "|2134|292030|The Witcher 3: Wi...| 84781532| english|Best GAME NiggyBy...|       1610795004|       1610795004|       true|            0|          0|                0.0|            0|          true|             true|                      false|76561198308802021|                    59|                30|                 2965.0|                        2965.0|                    215.0|     1.611342579E9|\n",
      "|3042|292030|The Witcher 3: Wi...| 84623155| english|                  <3|       1610556970|       1610556970|       true|            0|          0|                0.0|            0|          true|             true|                      false|76561198394305680|                    16|                 1|                 7702.0|                        2514.0|                   6039.0|     1.611363451E9|\n",
      "|5125|292030|The Witcher 3: Wi...| 84302840| english|Good Story game.....|       1610127184|       1610127184|       true|            1|          0|                0.0|            0|          true|             true|                      false|76561199073126064|                     8|                 1|                 4539.0|                         207.0|                   4051.0|     1.611221907E9|\n",
      "|5595|292030|The Witcher 3: Wi...| 84230773| english|          Still good|       1610037714|       1610037714|       true|            0|          0|                0.0|            0|          true|             true|                      false|76561199032830086|                     6|                 1|                 1359.0|                         163.0|                   1173.0|     1.610896562E9|\n",
      "|7976|292030|The Witcher 3: Wi...| 83898613| english|So i have previou...|       1609675406|       1609675406|       true|            1|          0|  0.523809552192688|            0|          true|             true|                      false|76561198160798715|                    20|                 7|                 6389.0|                           0.0|                   6389.0|     1.609671663E9|\n",
      "+----+------+--------------------+---------+--------+--------------------+-----------------+-----------------+-----------+-------------+-----------+-------------------+-------------+--------------+-----------------+---------------------------+-----------------+----------------------+------------------+-----------------------+------------------------------+-------------------------+------------------+\n",
      "only showing top 5 rows\n",
      "\n",
      "lang=english_free=True_rec=False — Muestra (30%): 9362 registros\n",
      "+------+------+--------------------+---------+--------+--------------------+-----------------+-----------------+-----------+-------------+-----------+-------------------+-------------+--------------+-----------------+---------------------------+-----------------+----------------------+------------------+-----------------------+------------------------------+-------------------------+------------------+\n",
      "|   _c0|app_id|            app_name|review_id|language|              review|timestamp_created|timestamp_updated|recommended|votes_helpful|votes_funny|weighted_vote_score|comment_count|steam_purchase|received_for_free|written_during_early_access|   author.steamid|author.num_games_owned|author.num_reviews|author.playtime_forever|author.playtime_last_two_weeks|author.playtime_at_review|author.last_played|\n",
      "+------+------+--------------------+---------+--------+--------------------+-----------------+-----------------+-----------+-------------+-----------+-------------------+-------------+--------------+-----------------+---------------------------+-----------------+----------------------+------------------+-----------------------+------------------------------+-------------------------+------------------+\n",
      "| 71338|292030|The Witcher 3: Wi...| 73905184| english|Cant understand t...|       1596792078|       1596792216|      false|            2|          1|0.42255452275276173|            0|          true|             true|                      false|76561198316453603|                    43|                19|                  218.0|                           0.0|                    218.0|     1.577608506E9|\n",
      "|112270|292030|The Witcher 3: Wi...| 68085378| english|boring. the story...|       1587940165|       1587940554|      false|            2|          0| 0.4811493754386902|            0|         false|             true|                      false|76561198273956829|                   165|                14|                  683.0|                           0.0|                    683.0|     1.561157229E9|\n",
      "|238303|292030|The Witcher 3: Wi...| 54928497| english|Can't put my fing...|       1567394029|       1567394029|      false|            1|          2| 0.3758784234523773|            0|          true|             true|                      false|76561198067783657|                   195|                77|                  740.0|                           0.0|                    740.0|     1.567389686E9|\n",
      "|246251|292030|The Witcher 3: Wi...| 53571239| english|           Boring AF|       1562271693|       1562271693|      false|            4|          4| 0.3959299623966217|            2|         false|             true|                      false|76561198044253403|                   624|               117|                 2989.0|                           0.0|                   2989.0|     1.530058413E9|\n",
      "|320615|292030|The Witcher 3: Wi...| 42214971| english| it has too much ...|       1527181157|       1527181157|      false|            0|          3|  0.311753123998642|            0|          true|             true|                      false|76561198172464042|                    30|                11|                   92.0|                           0.0|                     92.0|     1.508245319E9|\n",
      "+------+------+--------------------+---------+--------+--------------------+-----------------+-----------------+-----------+-------------+-----------+-------------------+-------------+--------------+-----------------+---------------------------+-----------------+----------------------+------------------+-----------------------+------------------------------+-------------------------+------------------+\n",
      "only showing top 5 rows\n",
      "\n",
      "lang=english_free=False_rec=True — Muestra (30%): 2502870 registros\n",
      "+---+------+--------------------+---------+--------+--------------------+-----------------+-----------------+-----------+-------------+-----------+-------------------+-------------+--------------+-----------------+---------------------------+-----------------+----------------------+------------------+-----------------------+------------------------------+-------------------------+------------------+\n",
      "|_c0|app_id|            app_name|review_id|language|              review|timestamp_created|timestamp_updated|recommended|votes_helpful|votes_funny|weighted_vote_score|comment_count|steam_purchase|received_for_free|written_during_early_access|   author.steamid|author.num_games_owned|author.num_reviews|author.playtime_forever|author.playtime_last_two_weeks|author.playtime_at_review|author.last_played|\n",
      "+---+------+--------------------+---------+--------+--------------------+-----------------+-----------------+-----------+-------------+-----------+-------------------+-------------+--------------+-----------------+---------------------------+-----------------+----------------------+------------------+-----------------------+------------------------------+-------------------------+------------------+\n",
      "| 18|292030|The Witcher 3: Wi...| 85180436| english|favorite game of ...|       1611373086|       1611373086|       true|            0|          0|                0.0|            0|          true|            false|                      false|76561198065591528|                    33|                 1|                23329.0|                         177.0|                  23329.0|     1.611219011E9|\n",
      "| 24|292030|The Witcher 3: Wi...| 85178164| english|Isn't Geralt hot ...|       1611369478|       1611369478|       true|            0|          0|                0.0|            0|          true|            false|                      false|76561198040150323|                    51|                37|                  165.0|                           0.0|                    165.0|     1.437875644E9|\n",
      "| 58|292030|The Witcher 3: Wi...| 85169685| english| best game ever made|       1611356191|       1611356191|       true|            0|          0|                0.0|            0|          true|            false|                      false|76561198868423923|                    48|                 1|                 9403.0|                         196.0|                   9236.0|     1.611378515E9|\n",
      "| 60|292030|The Witcher 3: Wi...| 85169052| english|If you are a fan ...|       1611355332|       1611355332|       true|            0|          0|                0.0|            0|          true|            false|                      false|76561198869011330|                    22|                 4|                 8234.0|                          12.0|                   8234.0|     1.611353247E9|\n",
      "| 91|292030|The Witcher 3: Wi...| 85162540| english|                sdds|       1611346388|       1611346388|       true|            0|          0|                0.0|            0|          true|            false|                      false|76561198056468274|                    13|                 2|                52263.0|                         176.0|                  52086.0|     1.611383048E9|\n",
      "+---+------+--------------------+---------+--------+--------------------+-----------------+-----------------+-----------+-------------+-----------+-------------------+-------------+--------------+-----------------+---------------------------+-----------------+----------------------+------------------+-----------------------+------------------------------+-------------------------+------------------+\n",
      "only showing top 5 rows\n",
      "\n",
      "lang=english_free=False_rec=False — Muestra (30%): 306999 registros\n",
      "+----+------+--------------------+---------+--------+--------------------+-----------------+-----------------+-----------+-------------+-----------+-------------------+-------------+--------------+-----------------+---------------------------+-----------------+----------------------+------------------+-----------------------+------------------------------+-------------------------+------------------+\n",
      "| _c0|app_id|            app_name|review_id|language|              review|timestamp_created|timestamp_updated|recommended|votes_helpful|votes_funny|weighted_vote_score|comment_count|steam_purchase|received_for_free|written_during_early_access|   author.steamid|author.num_games_owned|author.num_reviews|author.playtime_forever|author.playtime_last_two_weeks|author.playtime_at_review|author.last_played|\n",
      "+----+------+--------------------+---------+--------+--------------------+-----------------+-----------------+-----------+-------------+-----------+-------------------+-------------+--------------+-----------------+---------------------------+-----------------+----------------------+------------------+-----------------------+------------------------------+-------------------------+------------------+\n",
      "| 488|292030|The Witcher 3: Wi...| 85088505| english|badbadbadbadbadba...|       1611235321|       1611235321|      false|            1|          0|0.32819914817810053|            0|          true|            false|                      false|76561199013170832|                    40|                15|                 1079.0|                           0.0|                   1079.0|     1.597714017E9|\n",
      "|1000|292030|The Witcher 3: Wi...| 84986836| english|IDK why people li...|       1611076520|       1611076520|      false|            0|          0| 0.4795975089073181|            1|          true|            false|                      false|76561198053287382|                    65|                23|                  196.0|                           0.0|                    196.0|     1.608992261E9|\n",
      "|2048|292030|The Witcher 3: Wi...| 84794967| english|                   .|       1610811874|       1610811874|      false|            0|          0| 0.4545454680919647|            0|          true|            false|                      false|76561198987946210|                    10|                 4|                  379.0|                         321.0|                    235.0|     1.610874627E9|\n",
      "|2366|292030|The Witcher 3: Wi...| 84738824| english|Probably fantasti...|       1610731280|       1610731280|      false|            0|          1|   0.47826087474823|            0|          true|            false|                      false|76561198064651164|                    20|                 9|                  730.0|                           0.0|                    730.0|     1.597990927E9|\n",
      "|2910|292030|The Witcher 3: Wi...| 84648149| english|If you enjoy beat...|       1610592763|       1610592960|      false|            0|          1| 0.4757328033447265|            0|          true|            false|                      false|76561198241893910|                    42|                15|                  510.0|                          39.0|                    510.0|     1.610592504E9|\n",
      "+----+------+--------------------+---------+--------+--------------------+-----------------+-----------------+-----------+-------------+-----------+-------------------+-------------+--------------+-----------------+---------------------------+-----------------+----------------------+------------------+-----------------------+------------------------------+-------------------------+------------------+\n",
      "only showing top 5 rows\n",
      "\n",
      "lang=schinese_free=True_rec=True — Muestra (30%): 21109 registros\n",
      "+-----+------+--------------------+---------+--------+-------------------------------------+-----------------+-----------------+-----------+-------------+-----------+-------------------+-------------+--------------+-----------------+---------------------------+-----------------+----------------------+------------------+-----------------------+------------------------------+-------------------------+------------------+\n",
      "|  _c0|app_id|            app_name|review_id|language|                               review|timestamp_created|timestamp_updated|recommended|votes_helpful|votes_funny|weighted_vote_score|comment_count|steam_purchase|received_for_free|written_during_early_access|   author.steamid|author.num_games_owned|author.num_reviews|author.playtime_forever|author.playtime_last_two_weeks|author.playtime_at_review|author.last_played|\n",
      "+-----+------+--------------------+---------+--------+-------------------------------------+-----------------+-----------------+-----------+-------------+-----------+-------------------+-------------+--------------+-----------------+---------------------------+-----------------+----------------------+------------------+-----------------------+------------------------------+-------------------------+------------------+\n",
      "| 2828|292030|The Witcher 3: Wi...| 84661009|schinese|       早知道就不预购了，晚买享折扣。|       1610617041|       1610617041|       true|            0|          0|                0.0|            0|          true|             true|                      false|76561198279508678|                   143|                 3|                10267.0|                           0.0|                  10267.0|     1.600166427E9|\n",
      "| 5887|292030|The Witcher 3: Wi...| 84198832|schinese|赛博朋克和这个根本没法比，已经爱上...|       1609995852|       1609995852|       true|            1|          0|                0.0|            0|          true|             true|                      false|76561198842844469|                     8|                 1|                 4051.0|                        1757.0|                   1099.0|     1.610714758E9|\n",
      "|14644|292030|The Witcher 3: Wi...| 82971511|schinese|                             我是傻逼|       1608738525|       1608738525|       true|            0|          0| 0.4814814925193786|            0|          true|             true|                      false|76561198980540021|                    61|                 4|                  360.0|                           0.0|                    360.0|     1.587088478E9|\n",
      "|16101|292030|The Witcher 3: Wi...| 82759131|schinese|                                 good|       1608469060|       1608469060|       true|            0|          0|                0.0|            0|          true|             true|                      false|76561198422044980|                    33|                 3|                  509.0|                           0.0|                    298.0|      1.60897468E9|\n",
      "|18666|292030|The Witcher 3: Wi...| 82401934|schinese|     波兰蠢驴出品，没啥好多说的，开冲|       1608004579|       1608004579|       true|            0|          0|                0.0|            0|          true|             true|                      false|76561198419257384|                     2|                 1|                  231.0|                           0.0|                    231.0|     1.608003625E9|\n",
      "+-----+------+--------------------+---------+--------+-------------------------------------+-----------------+-----------------+-----------+-------------+-----------+-------------------+-------------+--------------+-----------------+---------------------------+-----------------+----------------------+------------------+-----------------------+------------------------------+-------------------------+------------------+\n",
      "only showing top 5 rows\n",
      "\n",
      "lang=schinese_free=True_rec=False — Muestra (30%): 5293 registros\n",
      "+------+------+--------------------+---------+--------+-------------------------------------+-----------------+-----------------+-----------+-------------+-----------+-------------------+-------------+--------------+-----------------+---------------------------+-----------------+----------------------+------------------+-----------------------+------------------------------+-------------------------+------------------+\n",
      "|   _c0|app_id|            app_name|review_id|language|                               review|timestamp_created|timestamp_updated|recommended|votes_helpful|votes_funny|weighted_vote_score|comment_count|steam_purchase|received_for_free|written_during_early_access|   author.steamid|author.num_games_owned|author.num_reviews|author.playtime_forever|author.playtime_last_two_weeks|author.playtime_at_review|author.last_played|\n",
      "+------+------+--------------------+---------+--------+-------------------------------------+-----------------+-----------------+-----------+-------------+-----------+-------------------+-------------+--------------+-----------------+---------------------------+-----------------+----------------------+------------------+-----------------------+------------------------------+-------------------------+------------------+\n",
      "| 48071|292030|The Witcher 3: Wi...| 77957447|schinese|很多人都说好玩，仁者见仁智者见智吧...|       1603353711|       1603353711|      false|            0|          0| 0.4583333432674408|            0|          true|             true|                      false|76561198280153638|                   101|                19|                   35.0|                           0.0|                     35.0|     1.580117352E9|\n",
      "| 79715|292030|The Witcher 3: Wi...| 72541286|schinese|   这骑马怎么老是被草拌停  2米高的...|       1594529048|       1595061124|      false|            0|          0| 0.4761904776096344|            0|          true|             true|                      false|76561199066366393|                    26|                 1|                 7598.0|                           0.0|                   2304.0|     1.603805506E9|\n",
      "|237902|292030|The Witcher 3: Wi...| 54981038|schinese|                             buhaowan|       1567728530|       1567728530|      false|            0|          0| 0.3139820694923401|            0|          true|             true|                      false|76561198869672612|                    26|                24|                   66.0|                           0.0|                     17.0|      1.57483769E9|\n",
      "|267815|292030|The Witcher 3: Wi...| 50588766|schinese|   垃圾游戏，一周目没碰dlc就干掉我...|       1557572961|       1557572961|      false|            0|          6| 0.2773994207382202|            0|          true|             true|                      false|76561198389804457|                   151|                23|                13905.0|                           0.0|                   4644.0|     1.596446531E9|\n",
      "|405036|292030|The Witcher 3: Wi...| 27596287|schinese|               不要看差评了，入手吧。|       1480135369|       1480135369|      false|           41|         44| 0.6855092644691468|            4|         false|             true|                      false|76561198239394360|                    59|                20|                 5061.0|                           0.0|                   1415.0|     1.580209368E9|\n",
      "+------+------+--------------------+---------+--------+-------------------------------------+-----------------+-----------------+-----------+-------------+-----------+-------------------+-------------+--------------+-----------------+---------------------------+-----------------+----------------------+------------------+-----------------------+------------------------------+-------------------------+------------------+\n",
      "only showing top 5 rows\n",
      "\n",
      "lang=schinese_free=False_rec=True — Muestra (30%): 851117 registros\n",
      "+---+------+--------------------+---------+--------+-------------------------------------+-----------------+-----------------+-----------+-------------+-----------+-------------------+-------------+--------------+-----------------+---------------------------+-----------------+----------------------+------------------+-----------------------+------------------------------+-------------------------+------------------+\n",
      "|_c0|app_id|            app_name|review_id|language|                               review|timestamp_created|timestamp_updated|recommended|votes_helpful|votes_funny|weighted_vote_score|comment_count|steam_purchase|received_for_free|written_during_early_access|   author.steamid|author.num_games_owned|author.num_reviews|author.playtime_forever|author.playtime_last_two_weeks|author.playtime_at_review|author.last_played|\n",
      "+---+------+--------------------+---------+--------+-------------------------------------+-----------------+-----------------+-----------+-------------+-----------+-------------------+-------------+--------------+-----------------+---------------------------+-----------------+----------------------+------------------+-----------------------+------------------------------+-------------------------+------------------+\n",
      "|  4|292030|The Witcher 3: Wi...| 85184287|schinese|                                 大作|       1611379427|       1611379427|       true|            0|          0|                0.0|            0|          true|            false|                      false|76561199028326951|                     7|                 4|                  217.0|                          42.0|                    217.0|     1.610788249E9|\n",
      "| 16|292030|The Witcher 3: Wi...| 85180734|schinese| 当你玩进去之后，一切都顺理成章了起来|       1611373593|       1611373593|       true|            0|          0|                0.0|            0|          true|            false|                      false|76561198985671330|                     9|                 1|                 5483.0|                        2184.0|                   5483.0|     1.611371203E9|\n",
      "| 64|292030|The Witcher 3: Wi...| 85167937|schinese|原本是买来补票的，最近玩完赛博朋克...|       1611353775|       1611353775|       true|            1|          1|   0.52173912525177|            0|          true|            false|                      false|76561198863910434|                    60|                11|                 5139.0|                        5107.0|                   5139.0|     1.611353461E9|\n",
      "|104|292030|The Witcher 3: Wi...| 85159857|schinese|                         真特么的好\\n|       1611342908|       1611342908|       true|            0|          0|                0.0|            0|          true|            false|                      false|76561198796182989|                    20|                 1|                 3603.0|                        3474.0|                   3532.0|     1.611380501E9|\n",
      "|140|292030|The Witcher 3: Wi...| 85154116|schinese|                                 值得|       1611335696|       1611335696|       true|            0|          0|                0.0|            0|          true|            false|                      false|76561199084691956|                     8|                 1|                 3001.0|                        3001.0|                   2763.0|     1.611349971E9|\n",
      "+---+------+--------------------+---------+--------+-------------------------------------+-----------------+-----------------+-----------+-------------+-----------+-------------------+-------------+--------------+-----------------+---------------------------+-----------------+----------------------+------------------+-----------------------+------------------------------+-------------------------+------------------+\n",
      "only showing top 5 rows\n",
      "\n",
      "lang=schinese_free=False_rec=False — Muestra (30%): 254142 registros\n",
      "+----+------+--------------------+---------+--------+------------------------------------+-----------------+-----------------+-----------+-------------+-----------+-------------------+-------------+--------------+-----------------+---------------------------+-----------------+----------------------+------------------+-----------------------+------------------------------+-------------------------+------------------+\n",
      "| _c0|app_id|            app_name|review_id|language|                              review|timestamp_created|timestamp_updated|recommended|votes_helpful|votes_funny|weighted_vote_score|comment_count|steam_purchase|received_for_free|written_during_early_access|   author.steamid|author.num_games_owned|author.num_reviews|author.playtime_forever|author.playtime_last_two_weeks|author.playtime_at_review|author.last_played|\n",
      "+----+------+--------------------+---------+--------+------------------------------------+-----------------+-----------------+-----------+-------------+-----------+-------------------+-------------+--------------+-----------------+---------------------------+-----------------+----------------------+------------------+-----------------------+------------------------------+-------------------------+------------------+\n",
      "| 448|292030|The Witcher 3: Wi...| 85096291|schinese| 故事情节还可以  也没说的那么高的...|       1611247042|       1611247042|      false|            0|          0| 0.4663212299346924|            0|          true|            false|                      false|76561198316831186|                     6|                 2|                 2543.0|                        2540.0|                   2203.0|     1.611380285E9|\n",
      "| 859|292030|The Witcher 3: Wi...| 85019443|schinese|迷雾之岛救昏睡的矮人 为什么接任务...|       1611128740|       1611128740|      false|            2|          0| 0.5454545617103577|            0|          true|            false|                      false|76561198972671063|                    22|                 2|                 2415.0|                         438.0|                   2226.0|     1.611305582E9|\n",
      "|2386|292030|The Witcher 3: Wi...| 84734788|schinese|                        SB游戏草泥马|       1610726685|       1610726685|      false|            1|          1| 0.4600639045238495|            0|          true|            false|                      false|76561198882232674|                    99|                 6|                  650.0|                         291.0|                    650.0|     1.610726661E9|\n",
      "|2482|292030|The Witcher 3: Wi...| 84719638|schinese|                                傻逼|       1610705997|       1610705997|      false|            0|          0|0.41666665673255926|            0|          true|            false|                      false|76561198330995944|                    16|                 3|                  209.0|                          19.0|                    209.0|     1.610681054E9|\n",
      "|2753|292030|The Witcher 3: Wi...| 84672346|schinese| 每次努力的想去接受这款游戏，但每...|       1610633453|       1610633453|      false|            2|          0| 0.4667336046695709|            0|          true|            false|                      false|76561198832132127|                     8|                 4|                 1203.0|                         196.0|                   1102.0|     1.610694658E9|\n",
      "+----+------+--------------------+---------+--------+------------------------------------+-----------------+-----------------+-----------+-------------+-----------+-------------------+-------------+--------------+-----------------+---------------------------+-----------------+----------------------+------------------+-----------------------+------------------------------+-------------------------+------------------+\n",
      "only showing top 5 rows\n",
      "\n",
      "lang=russian_free=True_rec=True — Muestra (30%): 29124 registros\n",
      "+----+------+--------------------+---------+--------+--------------------+-----------------+-----------------+-----------+-------------+-----------+-------------------+-------------+--------------+-----------------+---------------------------+-----------------+----------------------+------------------+-----------------------+------------------------------+-------------------------+------------------+\n",
      "| _c0|app_id|            app_name|review_id|language|              review|timestamp_created|timestamp_updated|recommended|votes_helpful|votes_funny|weighted_vote_score|comment_count|steam_purchase|received_for_free|written_during_early_access|   author.steamid|author.num_games_owned|author.num_reviews|author.playtime_forever|author.playtime_last_two_weeks|author.playtime_at_review|author.last_played|\n",
      "+----+------+--------------------+---------+--------+--------------------+-----------------+-----------------+-----------+-------------+-----------+-------------------+-------------+--------------+-----------------+---------------------------+-----------------+----------------------+------------------+-----------------------+------------------------------+-------------------------+------------------+\n",
      "| 932|292030|The Witcher 3: Wi...| 85003618| russian|               годно|       1611100009|       1611100009|       true|            0|          0|                0.0|            0|          true|             true|                      false|76561198912070230|                     8|                 1|                11606.0|                         119.0|                  11606.0|     1.611053655E9|\n",
      "|1761|292030|The Witcher 3: Wi...| 84845022| russian|          чётко!!!\\n|       1610882134|       1610882134|       true|            1|          0|  0.523809552192688|            0|          true|             true|                      false|76561198304528413|                    16|                 1|                  644.0|                          25.0|                    621.0|     1.610883538E9|\n",
      "|3411|292030|The Witcher 3: Wi...| 84556133| russian|Нельзя любить, не...|       1610464506|       1610464506|       true|            0|          0|                0.0|            0|          true|             true|                      false|76561198804933710|                    39|                 4|                  868.0|                           0.0|                    868.0|     1.607254954E9|\n",
      "|4949|292030|The Witcher 3: Wi...| 84330747| russian|Когда-то давным-д...|       1610159686|       1610159686|       true|            1|          0|  0.523809552192688|            0|         false|             true|                      false|76561198398141804|                    33|                12|                10253.0|                        5429.0|                   4504.0|     1.611308414E9|\n",
      "|5785|292030|The Witcher 3: Wi...| 84210369| russian|                 123|       1610014338|       1610014338|       true|            1|          0|  0.523809552192688|            1|          true|             true|                      false|76561198333860138|                    10|                 2|                 2464.0|                         787.0|                    687.0|      1.61099214E9|\n",
      "+----+------+--------------------+---------+--------+--------------------+-----------------+-----------------+-----------+-------------+-----------+-------------------+-------------+--------------+-----------------+---------------------------+-----------------+----------------------+------------------+-----------------------+------------------------------+-------------------------+------------------+\n",
      "only showing top 5 rows\n",
      "\n",
      "lang=russian_free=True_rec=False — Muestra (30%): 3413 registros\n",
      "+------+------+--------------------+---------+--------+--------------------+-----------------+-----------------+-----------+-------------+-----------+-------------------+-------------+--------------+-----------------+---------------------------+-----------------+----------------------+------------------+-----------------------+------------------------------+-------------------------+------------------+\n",
      "|   _c0|app_id|            app_name|review_id|language|              review|timestamp_created|timestamp_updated|recommended|votes_helpful|votes_funny|weighted_vote_score|comment_count|steam_purchase|received_for_free|written_during_early_access|   author.steamid|author.num_games_owned|author.num_reviews|author.playtime_forever|author.playtime_last_two_weeks|author.playtime_at_review|author.last_played|\n",
      "+------+------+--------------------+---------+--------+--------------------+-----------------+-----------------+-----------+-------------+-----------+-------------------+-------------+--------------+-----------------+---------------------------+-----------------+----------------------+------------------+-----------------------+------------------------------+-------------------------+------------------+\n",
      "| 19594|292030|The Witcher 3: Wi...| 82270275| russian|Не нравится игра ...|       1607867690|       1607867690|      false|            1|          1| 0.4267026484012604|            0|          true|             true|                      false|76561198143390352|                   592|                20|                   18.0|                           0.0|                     18.0|     1.607867657E9|\n",
      "| 94377|292030|The Witcher 3: Wi...| 70456899| russian|тупа слизали все ...|       1591559643|       1591559643|      false|            1|          1|0.42567163705825806|            2|         false|             true|                      false|76561198103636528|                    25|                 1|                 1220.0|                           0.0|                   1199.0|     1.591742931E9|\n",
      "|290157|292030|The Witcher 3: Wi...| 46621995| russian|           Не тянет!|       1542992634|       1542992634|      false|            1|          1| 0.4511417150497437|            0|         false|             true|                      false|76561198114724591|                    84|                 5|                   55.0|                           0.0|                     55.0|     1.542992706E9|\n",
      "|315865|292030|The Witcher 3: Wi...| 43224632| russian|            Дорогой.|       1530471790|       1530471790|      false|            0|          5| 0.3509083986282349|            0|          true|             true|                      false|76561198000107876|                   144|                 4|                 1091.0|                           0.0|                   1087.0|     1.540750797E9|\n",
      "|475675|    70|           Half-Life| 77282113| russian|Valve какого х**а...|       1602250492|       1602250492|      false|            1|          2| 0.4852872788906098|            1|         false|             true|                      false|76561197993887800|                   133|                 2|                   93.0|                           0.0|                     93.0|     1.585582119E9|\n",
      "+------+------+--------------------+---------+--------+--------------------+-----------------+-----------------+-----------+-------------+-----------+-------------------+-------------+--------------+-----------------+---------------------------+-----------------+----------------------+------------------+-----------------------+------------------------------+-------------------------+------------------+\n",
      "only showing top 5 rows\n",
      "\n",
      "lang=russian_free=False_rec=True — Muestra (30%): 600805 registros\n",
      "+---+------+--------------------+---------+--------+--------------------+-----------------+-----------------+-----------+-------------+-----------+-------------------+-------------+--------------+-----------------+---------------------------+-----------------+----------------------+------------------+-----------------------+------------------------------+-------------------------+------------------+\n",
      "|_c0|app_id|            app_name|review_id|language|              review|timestamp_created|timestamp_updated|recommended|votes_helpful|votes_funny|weighted_vote_score|comment_count|steam_purchase|received_for_free|written_during_early_access|   author.steamid|author.num_games_owned|author.num_reviews|author.playtime_forever|author.playtime_last_two_weeks|author.playtime_at_review|author.last_played|\n",
      "+---+------+--------------------+---------+--------+--------------------+-----------------+-----------------+-----------+-------------+-----------+-------------------+-------------+--------------+-----------------+---------------------------+-----------------+----------------------+------------------+-----------------------+------------------------------+-------------------------+------------------+\n",
      "| 65|292030|The Witcher 3: Wi...| 85167888| russian|Очень длинная бро...|       1611353696|       1611353696|       true|            0|          0|                0.0|            0|          true|            false|                      false|76561198882440127|                    11|                 4|                 2228.0|                           0.0|                   2228.0|     1.602971258E9|\n",
      "| 85|292030|The Witcher 3: Wi...| 85163953| russian|Топ игра, советую...|       1611348293|       1611348293|       true|            1|          0|  0.523809552192688|            0|          true|            false|                      false|76561198308360704|                    17|                 1|                 2748.0|                         733.0|                   2748.0|     1.610629666E9|\n",
      "|108|292030|The Witcher 3: Wi...| 85159433| russian|    Отличная игра!\\n|       1611342391|       1611342391|       true|            0|          0|                0.0|            0|          true|            false|                      false|76561198990643045|                     5|                 2|                 2840.0|                        1081.0|                   2803.0|     1.611344386E9|\n",
      "|117|292030|The Witcher 3: Wi...| 85157194| russian|Великолепно, сюже...|       1611339515|       1611339515|       true|            0|          0|                0.0|            0|          true|            false|                      false|76561199083923362|                     2|                 2|                 1200.0|                         750.0|                   1200.0|     1.611244312E9|\n",
      "|156|292030|The Witcher 3: Wi...| 85151930| russian|Самое лучшее во ч...|       1611333121|       1611333121|       true|            0|          0|                0.0|            0|          true|            false|                      false|76561198862207160|                     6|                 3|                 4558.0|                        2281.0|                   4441.0|      1.61138553E9|\n",
      "+---+------+--------------------+---------+--------+--------------------+-----------------+-----------------+-----------+-------------+-----------+-------------------+-------------+--------------+-----------------+---------------------------+-----------------+----------------------+------------------+-----------------------+------------------------------+-------------------------+------------------+\n",
      "only showing top 5 rows\n",
      "\n",
      "lang=russian_free=False_rec=False — Muestra (30%): 72950 registros\n",
      "+----+------+--------------------+---------+--------+--------------------+-----------------+-----------------+-----------+-------------+-----------+-------------------+-------------+--------------+-----------------+---------------------------+-----------------+----------------------+------------------+-----------------------+------------------------------+-------------------------+------------------+\n",
      "| _c0|app_id|            app_name|review_id|language|              review|timestamp_created|timestamp_updated|recommended|votes_helpful|votes_funny|weighted_vote_score|comment_count|steam_purchase|received_for_free|written_during_early_access|   author.steamid|author.num_games_owned|author.num_reviews|author.playtime_forever|author.playtime_last_two_weeks|author.playtime_at_review|author.last_played|\n",
      "+----+------+--------------------+---------+--------+--------------------+-----------------+-----------------+-----------+-------------+-----------+-------------------+-------------+--------------+-----------------+---------------------------+-----------------+----------------------+------------------+-----------------------+------------------------------+-------------------------+------------------+\n",
      "|1292|292030|The Witcher 3: Wi...| 84926203| russian|хрень галимая\\n\\n...|       1610996938|       1610996938|      false|            2|          0| 0.4789473712444306|            0|          true|            false|                      false|76561198342053894|                     4|                 1|                29540.0|                        1329.0|                  28330.0|      1.61138824E9|\n",
      "|2510|292030|The Witcher 3: Wi...| 84716555| russian|       Очень скучно.|       1610700673|       1610700673|      false|            2|          0|             0.4375|            0|          true|            false|                      false|76561198972964714|                    89|                 3|                 7348.0|                        5656.0|                   3488.0|     1.611350507E9|\n",
      "|4393|292030|The Witcher 3: Wi...| 84411639| russian|               такое|       1610261853|       1610261853|      false|            0|          0|0.43528863787651056|            0|          true|            false|                      false|76561198851569064|                    72|                 6|                 1217.0|                           0.0|                   1217.0|     1.610133223E9|\n",
      "|5047|292030|The Witcher 3: Wi...| 84315887| russian|Позорище. Игра по...|       1610140851|       1610140851|      false|            1|          2| 0.3674817383289337|            0|          true|            false|                      false|76561198102029376|                    67|                20|                21145.0|                        1461.0|                  19633.0|     1.611262964E9|\n",
      "|7655|292030|The Witcher 3: Wi...| 83940640| russian|    бесконечные баги|       1609710922|       1609710922|      false|            1|          0| 0.4155555665493011|            0|          true|            false|                      false|76561198076752989|                    29|                12|                 4175.0|                           0.0|                   3516.0|     1.609800519E9|\n",
      "+----+------+--------------------+---------+--------+--------------------+-----------------+-----------------+-----------+-------------+-----------+-------------------+-------------+--------------+-----------------+---------------------------+-----------------+----------------------+------------------+-----------------------+------------------------------+-------------------------+------------------+\n",
      "only showing top 5 rows\n",
      "\n"
     ]
    }
   ]
  },
  {
   "cell_type": "code",
   "execution_count": null,
   "metadata": {
    "id": "er89ra3RKoUL",
    "colab": {
     "base_uri": "https://localhost:8080/"
    },
    "outputId": "0a98695b-e2f2-4ef2-cace-36fc022d9d04"
   },
   "outputs": [
    {
     "output_type": "stream",
     "name": "stdout",
     "text": [
      "+---+------+--------------------+---------+--------+--------------------+-----------------+-----------------+-----------+-------------+-----------+-------------------+-------------+--------------+-----------------+---------------------------+-----------------+----------------------+------------------+-----------------------+------------------------------+-------------------------+------------------+\n",
      "|_c0|app_id|            app_name|review_id|language|              review|timestamp_created|timestamp_updated|recommended|votes_helpful|votes_funny|weighted_vote_score|comment_count|steam_purchase|received_for_free|written_during_early_access|   author.steamid|author.num_games_owned|author.num_reviews|author.playtime_forever|author.playtime_last_two_weeks|author.playtime_at_review|author.last_played|\n",
      "+---+------+--------------------+---------+--------+--------------------+-----------------+-----------------+-----------+-------------+-----------+-------------------+-------------+--------------+-----------------+---------------------------+-----------------+----------------------+------------------+-----------------------+------------------------------+-------------------------+------------------+\n",
      "|  9|292030|The Witcher 3: Wi...| 85182785| spanish|          great game|       1611377005|       1611377005|       true|            0|          0|                0.0|            0|          true|            false|                      false|76561198301724112|                    38|                 5|                 2399.0|                         333.0|                   2364.0|      1.61137908E9|\n",
      "| 20|292030|The Witcher 3: Wi...| 85179753| english|Why wouldn't you ...|       1611371978|       1611371978|       true|            0|          0|                0.0|            0|          true|            false|                      false|76561198996835044|                   131|                 2|                 8557.0|                        2004.0|                   8557.0|     1.611370967E9|\n",
      "| 45|292030|The Witcher 3: Wi...| 85172984| english|better than cyber...|       1611361171|       1611361171|       true|            0|          0|                0.0|            0|         false|            false|                      false|76561198033304276|                    47|                14|                 3159.0|                           0.0|                   3159.0|     1.524274341E9|\n",
      "| 50|292030|The Witcher 3: Wi...| 85170596| english|best open world g...|       1611357533|       1611357533|       true|            0|          0|                0.0|            0|          true|            false|                      false|76561198299050034|                    89|                 6|                   25.0|                           0.0|                     25.0|     1.578016131E9|\n",
      "| 66|292030|The Witcher 3: Wi...| 85167706| russian|                 top|       1611353447|       1611353447|       true|            0|          0|                0.0|            0|          true|            false|                      false|76561198056090375|                    67|                 4|                 1873.0|                        1859.0|                   1813.0|     1.611386259E9|\n",
      "+---+------+--------------------+---------+--------+--------------------+-----------------+-----------------+-----------+-------------+-----------+-------------------+-------------+--------------+-----------------+---------------------------+-----------------+----------------------+------------------+-----------------------+------------------------------+-------------------------+------------------+\n",
      "only showing top 5 rows\n",
      "\n"
     ]
    }
   ],
   "source": [
    "# =============================================\n",
    "# Ejemplo 2: Muestreo estratificado con sampleBy()\n",
    "# =============================================\n",
    "\n",
    "# Muestreo proporcional por 'language' dentro del subconjunto partition_1\n",
    "# Primero extraemos un subconjunto base\n",
    "partition_1 = df.filter(\n",
    "    (F.col(\"recommended\") == True) &\n",
    "    (F.col(\"received_for_free\") == False) &\n",
    "    (F.col(\"language\").isin(\"english\", \"russian\", \"spanish\"))\n",
    ")\n",
    "\n",
    "# Definir las fracciones deseadas para cada valor de 'language'\n",
    "fractions = {\n",
    "    \"english\": 0.3,\n",
    "    \"russian\": 0.3,\n",
    "    \"spanish\": 0.3\n",
    "}\n",
    "\n",
    "# Aplicar sampleBy sobre 'language'\n",
    "sampled_partition_1 = partition_1.sampleBy(\"language\", fractions, seed=42)\n",
    "\n",
    "# Ver muestra\n",
    "sampled_partition_1.show(5)\n"
   ]
  },
  {
   "cell_type": "code",
   "execution_count": null,
   "metadata": {
    "id": "NXKaF0r0cXyk",
    "colab": {
     "base_uri": "https://localhost:8080/"
    },
    "outputId": "fda578f1-8150-41fd-9e63-2252011f802d"
   },
   "outputs": [
    {
     "output_type": "stream",
     "name": "stdout",
     "text": [
      "+------+------+--------------------+---------+--------+--------------------+-----------------+-----------------+-----------+-------------+-----------+-------------------+-------------+--------------+-----------------+---------------------------+-----------------+----------------------+------------------+-----------------------+------------------------------+-------------------------+------------------+\n",
      "|   _c0|app_id|            app_name|review_id|language|              review|timestamp_created|timestamp_updated|recommended|votes_helpful|votes_funny|weighted_vote_score|comment_count|steam_purchase|received_for_free|written_during_early_access|   author.steamid|author.num_games_owned|author.num_reviews|author.playtime_forever|author.playtime_last_two_weeks|author.playtime_at_review|author.last_played|\n",
      "+------+------+--------------------+---------+--------+--------------------+-----------------+-----------------+-----------+-------------+-----------+-------------------+-------------+--------------+-----------------+---------------------------+-----------------+----------------------+------------------+-----------------------+------------------------------+-------------------------+------------------+\n",
      "|  7488|292030|The Witcher 3: Wi...| 83971501| spanish|Esperaba mucho má...|       1609747821|       1610657861|      false|            1|          0| 0.4583333432674408|            0|         false|             true|                      false|76561198259679020|                    98|                 3|                16523.0|                       13195.0|                   7361.0|      1.61137898E9|\n",
      "| 23201|292030|The Witcher 3: Wi...| 81690450| russian|В такую парашу я ...|       1607211245|       1607211245|      false|            5|          4| 0.4187399744987488|            3|          true|             true|                      false|76561198823562894|                    39|                 5|                  247.0|                           0.0|                    247.0|      1.56240486E9|\n",
      "|112270|292030|The Witcher 3: Wi...| 68085378| english|boring. the story...|       1587940165|       1587940554|      false|            2|          0| 0.4811493754386902|            0|         false|             true|                      false|76561198273956829|                   165|                14|                  683.0|                           0.0|                    683.0|     1.561157229E9|\n",
      "|132446|292030|The Witcher 3: Wi...| 65669443| english|     This Game Sucks|       1585010986|       1585010986|      false|            6|          4| 0.2398953586816788|            0|          true|             true|                      false|76561198310270047|                   121|                14|                   22.0|                           0.0|                     22.0|     1.585010948E9|\n",
      "|235946|292030|The Witcher 3: Wi...| 55427372| russian|Неплохая, но супе...|       1570117026|       1570117026|      false|            3|          0| 0.3558849692344665|            0|         false|             true|                      false|76561198397735124|                    41|                12|                 1379.0|                           0.0|                   1379.0|     1.563209185E9|\n",
      "+------+------+--------------------+---------+--------+--------------------+-----------------+-----------------+-----------+-------------+-----------+-------------------+-------------+--------------+-----------------+---------------------------+-----------------+----------------------+------------------+-----------------------+------------------------------+-------------------------+------------------+\n",
      "only showing top 5 rows\n",
      "\n"
     ]
    }
   ],
   "source": [
    "# =============================================\n",
    "# Ejemplo 3: Muestreo aleatorio simple con sample()\n",
    "# =============================================\n",
    "\n",
    "# Tomar el 30% de cualquier partición (ejemplo con partition_2)\n",
    "partition_2 = df.filter(\n",
    "    (F.col(\"recommended\") == False) &\n",
    "    (F.col(\"received_for_free\") == True) &\n",
    "    (F.col(\"language\").isin(\"english\", \"russian\", \"spanish\"))\n",
    ")\n",
    "\n",
    "# Tomar una muestra aleatoria del 30% sin reemplazo\n",
    "sampled_partition_2 = partition_2.sample(withReplacement=False, fraction=0.3, seed=42)\n",
    "\n",
    "# Ver muestra\n",
    "sampled_partition_2.show(5)\n"
   ]
  }
 ],
 "metadata": {
  "colab": {
   "provenance": []
  },
  "kernelspec": {
   "display_name": "Python 3 (ipykernel)",
   "language": "python",
   "name": "python3"
  },
  "language_info": {
   "codemirror_mode": {
    "name": "ipython",
    "version": 3
   },
   "file_extension": ".py",
   "mimetype": "text/x-python",
   "name": "python",
   "nbconvert_exporter": "python",
   "pygments_lexer": "ipython3",
   "version": "3.12.9"
  }
 },
 "nbformat": 4,
 "nbformat_minor": 0
}
